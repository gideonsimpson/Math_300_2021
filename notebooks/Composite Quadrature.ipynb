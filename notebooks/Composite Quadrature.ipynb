{
 "cells": [
  {
   "cell_type": "code",
   "execution_count": null,
   "id": "a85fb9bb-a3a9-4a31-a476-ccf818b3f84b",
   "metadata": {},
   "outputs": [],
   "source": [
    "using Printf\n",
    "using Trapz"
   ]
  },
  {
   "cell_type": "markdown",
   "id": "edcca5f8-f09a-47e4-86e4-3393e4b4e9ec",
   "metadata": {},
   "source": [
    "# Composite Quadrature Examples"
   ]
  },
  {
   "cell_type": "code",
   "execution_count": null,
   "id": "9360cca1-f01f-4cd6-8e02-b5f67c93e2cb",
   "metadata": {},
   "outputs": [],
   "source": [
    "function compute_trapz(h, f_nodes)\n",
    "    ∫f = 0;\n",
    "    for j in 1:length(f_nodes)-1\n",
    "        ∫f += h/2 * (f_nodes[j]+ f_nodes[j+1]);\n",
    "    end\n",
    "    return ∫f\n",
    "end"
   ]
  },
  {
   "cell_type": "markdown",
   "id": "df63ec6c-2a63-43ad-977c-f64d9cd93047",
   "metadata": {},
   "source": [
    "## Example\n",
    "Integrate $1/x$ over $[1,4]$"
   ]
  },
  {
   "cell_type": "code",
   "execution_count": null,
   "id": "736b99df-a7f0-4c1d-8f44-9f6e32b53473",
   "metadata": {},
   "outputs": [],
   "source": [
    "f = x->1/x;\n",
    "a = 1;\n",
    "b = 4;\n",
    "x_nodes = LinRange(a,b,5);\n",
    "f_nodes = f.(x_nodes);\n",
    "h = x_nodes[2]-x_nodes[1];\n",
    "\n",
    "∫f_trapz = compute_trapz(h, f_nodes);\n",
    "\n",
    "∫f_exact = log(4);\n",
    "\n",
    "@printf(\"Composite Trapezoidal Estimate = %.12g\\n\", ∫f_trapz);\n",
    "@printf(\"Absolute Error = %g\\n\", abs(∫f_exact - ∫f_trapz));\n"
   ]
  },
  {
   "cell_type": "markdown",
   "id": "e8541a69-b524-4228-ab5e-146fb9dd047e",
   "metadata": {},
   "source": [
    "Compare with prebuilt module code"
   ]
  },
  {
   "cell_type": "code",
   "execution_count": null,
   "id": "ca763e0f-5da2-4252-8bf1-c7ef8cb4a0a2",
   "metadata": {},
   "outputs": [],
   "source": [
    "trapz(x_nodes, f_nodes)"
   ]
  }
 ],
 "metadata": {
  "kernelspec": {
   "display_name": "Julia 1.7.0-rc2",
   "language": "julia",
   "name": "julia-1.7"
  },
  "language_info": {
   "file_extension": ".jl",
   "mimetype": "application/julia",
   "name": "julia",
   "version": "1.7.0"
  }
 },
 "nbformat": 4,
 "nbformat_minor": 5
}
