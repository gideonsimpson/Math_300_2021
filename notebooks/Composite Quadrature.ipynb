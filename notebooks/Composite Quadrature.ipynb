{
 "cells": [
  {
   "cell_type": "code",
   "execution_count": null,
   "id": "a85fb9bb-a3a9-4a31-a476-ccf818b3f84b",
   "metadata": {},
   "outputs": [],
   "source": [
    "using Printf\n",
    "using Trapz"
   ]
  },
  {
   "cell_type": "markdown",
   "id": "edcca5f8-f09a-47e4-86e4-3393e4b4e9ec",
   "metadata": {
    "tags": []
   },
   "source": [
    "# Composite Quadrature Examples"
   ]
  },
  {
   "cell_type": "markdown",
   "id": "ab2f90c3-d102-4b72-9965-5519bf561de2",
   "metadata": {},
   "source": [
    "## Composite Trapezoidal Rule"
   ]
  },
  {
   "cell_type": "code",
   "execution_count": null,
   "id": "9360cca1-f01f-4cd6-8e02-b5f67c93e2cb",
   "metadata": {},
   "outputs": [],
   "source": [
    "function compute_trapz(h, f_nodes)\n",
    "    ∫f = 0;\n",
    "    for j in 1:length(f_nodes)-1\n",
    "        ∫f += h/2 * (f_nodes[j]+ f_nodes[j+1]);\n",
    "    end\n",
    "    return ∫f\n",
    "end"
   ]
  },
  {
   "cell_type": "markdown",
   "id": "df63ec6c-2a63-43ad-977c-f64d9cd93047",
   "metadata": {},
   "source": [
    "### Example\n",
    "Integrate $1/x$ over $[1,4]$"
   ]
  },
  {
   "cell_type": "code",
   "execution_count": null,
   "id": "736b99df-a7f0-4c1d-8f44-9f6e32b53473",
   "metadata": {},
   "outputs": [],
   "source": [
    "f = x->1/x;\n",
    "a = 1;\n",
    "b = 4;\n",
    "n = 10;\n",
    "x_nodes = LinRange(a,b,n+1);\n",
    "f_nodes = f.(x_nodes);\n",
    "h = x_nodes[2]-x_nodes[1];\n",
    "\n",
    "∫f_trapz = compute_trapz(h, f_nodes);\n",
    "\n",
    "∫f_exact = log(4);\n",
    "\n",
    "@printf(\"Composite Trapezoidal Estimate = %.12g\\n\", ∫f_trapz);\n",
    "@printf(\"Absolute Error = %g\\n\", abs(∫f_exact - ∫f_trapz));\n"
   ]
  },
  {
   "cell_type": "markdown",
   "id": "e8541a69-b524-4228-ab5e-146fb9dd047e",
   "metadata": {},
   "source": [
    "Compare with prebuilt module code"
   ]
  },
  {
   "cell_type": "code",
   "execution_count": null,
   "id": "ca763e0f-5da2-4252-8bf1-c7ef8cb4a0a2",
   "metadata": {},
   "outputs": [],
   "source": [
    "trapz(x_nodes, f_nodes)"
   ]
  },
  {
   "cell_type": "markdown",
   "id": "c5ec8c0f-1b14-454f-b0d6-ee39baa5c399",
   "metadata": {},
   "source": [
    "## Composite Simpson's Rule"
   ]
  },
  {
   "cell_type": "code",
   "execution_count": null,
   "id": "098bbd4f-1429-4773-8f6a-dc31b90f1aa5",
   "metadata": {},
   "outputs": [],
   "source": [
    "function compute_simps(h, f_nodes)\n",
    "    ∫f = 0;\n",
    "    n = length(f_nodes)-1;\n",
    "    for j in 1:n÷2\n",
    "        # add 1 because Julia indices start at 1, not 0\n",
    "        ∫f += h/3 * (f_nodes[2*j-2+1]+ 4*f_nodes[2*j-1+1]  +f_nodes[2*j+1] );\n",
    "    end\n",
    "    return ∫f\n",
    "end"
   ]
  },
  {
   "cell_type": "markdown",
   "id": "966f352e-e118-42ec-a06b-b0aa6105a77a",
   "metadata": {},
   "source": [
    "### Example\n",
    "Integrate $1/x$ over $[1,4]$"
   ]
  },
  {
   "cell_type": "code",
   "execution_count": null,
   "id": "f9f15ad9-6e32-4277-9c17-dd591299df18",
   "metadata": {},
   "outputs": [],
   "source": [
    "f = x->1/x;\n",
    "a = 1;\n",
    "b = 4;\n",
    "n = 10;\n",
    "x_nodes = LinRange(a,b,n+1);\n",
    "f_nodes = f.(x_nodes);\n",
    "h = x_nodes[2]-x_nodes[1];\n",
    "\n",
    "∫f_simps = compute_simps(h, f_nodes);\n",
    "\n",
    "∫f_exact = log(4);\n",
    "\n",
    "@printf(\"Composite Simpsons Estimate = %.12g\\n\", ∫f_simps);\n",
    "@printf(\"Absolute Error = %g\\n\", abs(∫f_exact - ∫f_simps));\n"
   ]
  },
  {
   "cell_type": "code",
   "execution_count": null,
   "id": "15c31881-2457-4ab5-bee0-cf0a849e711e",
   "metadata": {},
   "outputs": [],
   "source": []
  }
 ],
 "metadata": {
  "kernelspec": {
   "display_name": "Julia 1.6.3",
   "language": "julia",
   "name": "julia-1.6"
  },
  "language_info": {
   "file_extension": ".jl",
   "mimetype": "application/julia",
   "name": "julia",
   "version": "1.6.3"
  }
 },
 "nbformat": 4,
 "nbformat_minor": 5
}
