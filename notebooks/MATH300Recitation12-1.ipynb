{
 "cells": [
  {
   "cell_type": "markdown",
   "metadata": {},
   "source": [
    "# MATH 300: Numerical Analysis I Recitation\n",
    "\n",
    "## Instructor: Liam Doherty\n",
    "\n",
    "## Meeting Time/Place: W 11:00AM, Curtis 344\n",
    "\n",
    "### Office Availability: MRC hours MTR 5p-7p (M 5-7 & T 5-6 FTF, others online), or in Korman 257 by appointment"
   ]
  },
  {
   "cell_type": "markdown",
   "metadata": {},
   "source": [
    "I'm handing back Homework 3. Today we'll be going over review problems from the posted review set on Blackboard."
   ]
  },
  {
   "cell_type": "markdown",
   "metadata": {},
   "source": [
    "# Rootfinding"
   ]
  },
  {
   "cell_type": "markdown",
   "metadata": {},
   "source": [
    "# Problem 1\n",
    "\n",
    "Apply three iterations of bisection method to obtain a root of $e^{x} - 5\\sin(x)$ in the interval $[0, 1]$."
   ]
  },
  {
   "cell_type": "markdown",
   "metadata": {},
   "source": [
    "## Solution: \n",
    "\n",
    "Notice that the function is continuous and $e^{0} - 5\\sin(0) = 1 > 0$ and $e^{1} - 5\\sin(1) \\approx -1.48 < 0$, so that we can apply the bisection method. Furthermore, knowing the signs of the function at the endpoints will inform our replacements to maintain the bracket, which is the main function of the bisection method.\n",
    "\n",
    "For our first iteration, we have $p_{0} = 0.5$. Evaluating the function at $p_{0}$ gives $\\newline \\newline$\n",
    "$$\n",
    "e^{0.5} - 5\\sin(0.5) \\approx -0.75 < 0,\n",
    "\\newline\n",
    "$$\n",
    "so we replace our _right_ endpoint. The new interval is $[0, 0.5]$.\n",
    "\n",
    "For our second iteration, we have $p_{1} = 0.25$. Evaluating the function at $p_{1}$ gives $\\newline \\newline$\n",
    "$$\n",
    "e^{0.25} - 5\\sin(0.25) \\approx 0.05 > 0,\n",
    "\\newline\n",
    "$$\n",
    "so we replace our _left_ endpoint. The new interval is $[0.25, 0.5]$.\n",
    "\n",
    "For our third iteration, we have $p_{2} = 0.375$. Evaluating the function at $p_{2}$ gives $\\newline \\newline$\n",
    "$$\n",
    "e^{0.375} - 5\\sin(0.375) \\approx -0.38 < 0,\n",
    "\\newline\n",
    "$$\n",
    "so we replace our _right_ endpoint. The new interval is $[0.25, 0.375]$, and our final approximation is $p_{3} = \\frac{0.25 + 0.375}{2} = 0.3125$."
   ]
  },
  {
   "cell_type": "markdown",
   "metadata": {},
   "source": [
    "# Problem 2\n",
    "\n",
    "Apply three iterations of Newton's method to obtain a root of $e^{x} - 5\\sin(x)$, starting with $p_{0} = 0.5$."
   ]
  },
  {
   "cell_type": "markdown",
   "metadata": {},
   "source": [
    "## Solution: \n",
    "\n",
    "Recall that Newton's method follows the iteration $\\newline \\newline$\n",
    "$$\n",
    "p_{k + 1} = p_{k} - \\frac{f(p_{k})}{f'(p_{k})}.\n",
    "\\newline\n",
    "$$\n",
    "The derivative of the function given is $f'(x) = e^{x} - 5\\cos(x)$.\n",
    "\n",
    "For our first iteration, we have $\\newline \\newline$\n",
    "$$\n",
    "p_{1} = 0.5 - \\frac{e^{0.5} - 5\\sin(0.5)}{e^{0.5} - 5\\cos(0.5)} \\approx 0.226778.\n",
    "\\newline\n",
    "$$\n",
    "\n",
    "For our second iteration, we have $\\newline \\newline$\n",
    "$$\n",
    "p_{2} = 0.226778 - \\frac{e^{0.226778} - 5\\sin(0.226778)}{e^{0.226778} - 5\\cos(0.226778)} \\approx 0.262813.\n",
    "\\newline\n",
    "$$\n",
    "\n",
    "For our third iteration, we have $\\newline \\newline$\n",
    "$$\n",
    "p_{3} = 0.262813 - \\frac{e^{0.262813} - 5\\sin(0.262813)}{e^{0.262813} - 5\\cos(0.262813)} \\approx 0.263265.\n",
    "\\newline\n",
    "$$\n",
    "\n",
    "This is a fairly accurate approximation (certainly more accurate than the one obtained from the bisection method)."
   ]
  },
  {
   "cell_type": "markdown",
   "metadata": {},
   "source": [
    "# Polynomial Interpolation/Approximation"
   ]
  },
  {
   "cell_type": "markdown",
   "metadata": {},
   "source": [
    "# Problem 3\n",
    "\n",
    "Construct a Lagrange interpolating polynomial through the points $(0, 1)$, $(1, -1)$, $(1.5, 0)$."
   ]
  },
  {
   "cell_type": "markdown",
   "metadata": {},
   "source": [
    "## Solution: \n",
    "\n",
    "Since we have three points, we will be constructing a degree two interpolant. Recall how we construct Lagrange interpolants: $\\newline \\newline$\n",
    "$$\n",
    "P(x) = \\sum_{k = 0}^{n}f(x_{k})L_{n,k}(x),\n",
    "\\newline\n",
    "$$\n",
    "where $\\newline \\newline$\n",
    "$$\n",
    "L_{n,k}(x) = \\prod_{\\substack{i = 0 \\\\ i \\neq k}}^{n}\\frac{x - x_{i}}{x_{k} - x_{i}}.\n",
    "\\newline\n",
    "$$\n",
    "For our data, we have the polynomials $\\newline \\newline$\n",
    "$$\n",
    "\\begin{align*}\n",
    "    L_{2, 0}(x) &= \\frac{x - 1}{0 - 1}\\cdot\\frac{x - 1.5}{0 - 1.5} = \\frac{2}{3}(x - 1)(x - 1.5), \\\\\n",
    "    L_{2, 1}(x) &= \\frac{x - 0}{1 - 0}\\cdot\\frac{x - 1.5}{1 - 1.5} = -2x(x - 1.5), \\\\\n",
    "    L_{2, 2}(x) &= \\frac{x - 0}{1.5 - 0}\\cdot\\frac{x - 1}{1.5 - 1} = \\frac{4}{3}x(x - 1).\n",
    "\\end{align*}\n",
    "\\newline\n",
    "$$\n",
    "Then, the Lagrange interpolating polynomial is $\\newline \\newline$\n",
    "$$\n",
    "\\begin{align*}\n",
    "    P(x) &= \\sum_{k = 0}^{2}f(x_{k})L_{2, k} \\\\\n",
    "    &= 1\\cdot L_{2, 0} - 1\\cdot L_{2, 1} + 0\\cdot L_{2,2} \\\\\n",
    "    &= \\frac{2}{3}(x - 1)(x - 1.5) + 2x(x - 1.5) \\\\\n",
    "    &= \\frac{8}{3}x^{2} - \\frac{14}{3}x + 1.\n",
    "\\end{align*}\n",
    "\\newline\n",
    "$$\n",
    "It can be verified by simple arithmetic that this polynomial does actually interpolate the data."
   ]
  },
  {
   "cell_type": "markdown",
   "metadata": {},
   "source": [
    "# Problem 4\n",
    "\n",
    "Estimate the absolute error of the Lagrange interpolating polynomial on the interval $[1, 2]$ for the function $f(x) = \\sin(x)$, using the nodes $x_{0} = 1$, $x_{1} = 1.5$, and $x_{2} = 2$."
   ]
  },
  {
   "cell_type": "markdown",
   "metadata": {},
   "source": [
    "## Solution: \n",
    "\n",
    "The absolute error of the Lagrange interpolant can be estimated by $\\newline \\newline$\n",
    "$$\n",
    "|f(x) - P(x)| \\leq \\max_{\\xi \\in [a, b]}\\Big|\\frac{f^{(n + 1)}(\\xi)}{(n + 1)!}\\Big|\\cdot\\max_{x \\in [a, b]}\\Big|\\prod_{k = 0}^{n}(x - x_{k})\\Big|.\n",
    "\\newline\n",
    "$$\n",
    "For our problem, this becomes $\\newline \\newline$\n",
    "$$\n",
    "|\\sin(x) - P(x)| \\leq \\max_{\\xi \\in [1, 2]}\\Big|\\frac{-\\cos(\\xi)}{3!}\\Big|\\max_{x \\in [1, 2]}\\Big|(x - 1)(x - 1.5)(x - 2)\\Big|.\n",
    "\\newline\n",
    "$$\n",
    "For the first term, we note that $\\cos(x)$ does not have any critical points in $[1, 2]$ as $\\sin(x) > 0$ on that interval, so the max must occur at one of the endpoints. For the left endpoint, we have $\\cos(1) \\approx 0.5404$ (rounded up to maintain the upper bound), and for the right endpoint, we have $\\cos(2) \\approx -0.4161$. The larger absolute value is using the left endpoint, so we use that value.\n",
    "\n",
    "For the second term, we need to maximize the (absolute value of the) polynomial over the given interval. Of course this means we need to take the derivative, but we will first expand the product so that the derivative is easier to work with: $\\newline \\newline$\n",
    "$$\n",
    "(x - 1)(x - 1.5)(x - 2) = x^{3} - 4.5x^{2} + 6.5x - 3.\n",
    "\\newline\n",
    "$$\n",
    "Then the derivative can be easily calculated. It is $3x^{2} - 9x + 6.5$. To find the roots, we apply the quadratic formula and find that $x_{1} = \\frac{9 - \\sqrt{3}}{6}$ and $x_{2} = \\frac{9 + \\sqrt{3}}{6}$. For our purposes, it does not matter which critical point is the true maximum and which is the true minimum; all that matters is the absolute values of the function at those points. Of course, we need to check the endpoints too, but a quick inspection shows that $f(1) = f(2) = 0$, so there won't be any absolute maxima of the absolute value of $f$ there. What we find is that $\\newline \\newline$\n",
    "$$\n",
    "f(\\frac{9 + \\sqrt{3}}{6}) \\approx -0.0481 \\text{ and } f(\\frac{9 - \\sqrt{3}}{6}) \\approx 0.0482.\n",
    "\\newline\n",
    "$$\n",
    "This is again rounded up to maintain the upper bound. It is not an accident that these are equal in absolute value; it can be shown that the function is odd about $x = 1.5$. Regardless, the bound for the second factor is $0.0482$. Then, we bring all of this together to find the bound for the whole error: $\\newline \\newline$\n",
    "$$\n",
    "|f(x) - P(x)| \\leq \\frac{0.5404}{6}\\cdot 0.0482 \\approx 0.0044.\n",
    "\\newline\n",
    "$$"
   ]
  },
  {
   "cell_type": "markdown",
   "metadata": {},
   "source": [
    "# Problem 5\n",
    "\n",
    "Use a divided difference table to write down the Lagrange interpolating polynomial for $f(x) = \\sin(x)$, using the nodes $x_{0} = 1$, $x_{1} = 1.5$, and $x_{2} = 2$."
   ]
  },
  {
   "cell_type": "markdown",
   "metadata": {},
   "source": [
    "## Solution: \n",
    "\n",
    "We need to construct the entries of the table\n",
    "\n",
    "| $i$ | $x_{i}$ | $f[x_{i}]$ | $f[x_{i - 1}, x_{i}]$ | $f[x_{i - 2}, x_{i - 1}, x_{i}]$ | \n",
    "| --- | --- | --- | --- | --- |\n",
    "| $0$ | $1.0$ | $0.841471$ |  | |\n",
    "|  |  |  | $f[x_{0}, x_{1}]$ |  |\n",
    "| $1$ | $1.5$ | $0.997495$ |  | $f[x_{0}, x_{1}, x_{2}]$ |\n",
    "|  |  |  | $f[x_{1}, x_{2}]$ |  |\n",
    "| $2$ | $2.0$ | $0.909297$ |  |  |\n",
    "\n",
    "We have $\\newline \\newline$\n",
    "$$\n",
    "f[x_{0}, x_{1}] = \\frac{0.997495 - 0.841471}{0.5} = 0.312048\n",
    "\\newline\n",
    "$$\n",
    "and $\\newline \\newline$\n",
    "$$\n",
    "f[x_{1}, x_{2}] = \\frac{0.909297 - 0.997495}{0.5} = -0.176396.\n",
    "\\newline\n",
    "$$\n",
    "Consequently, we also have $\\newline \\newline$\n",
    "$$\n",
    "f[x_{0}, x_{1}, x_{2}] = \\frac{-0.176396 - 0.312048}{1} = −0.488444,\n",
    "\\newline\n",
    "$$\n",
    "so the table is\n",
    "\n",
    "| $i$ | $x_{i}$ | $f[x_{i}]$ | $f[x_{i - 1}, x_{i}]$ | $f[x_{i - 2}, x_{i - 1}, x_{i}]$ | \n",
    "| --- | --- | --- | --- | --- |\n",
    "| $0$ | $1.0$ | $0.841471$ |  | |\n",
    "|  |  |  | $0.312048$ |  |\n",
    "| $1$ | $1.5$ | $0.997495$ |  | $-0.488444$ |\n",
    "|  |  |  | $-0.176396$ |  |\n",
    "| $2$ | $2.0$ | $0.909297$ |  |  |\n",
    "\n",
    "From this, we can write out the Lagrange interpolating polynomial by reading coefficients off of the upper diagonal: $\\newline \\newline$\n",
    "$$\n",
    "P(x) = 0.841471 + 0.312048(x - 1) - 0.488444(x - 1)(x - 1.5).\n",
    "\\newline\n",
    "$$"
   ]
  },
  {
   "cell_type": "markdown",
   "metadata": {},
   "source": [
    "# Problem 6\n",
    "\n",
    "Use a divided difference table to write down the Hermite interpolating polynomial for $f(x) = \\sin(x)$, using the nodes $x_{0} = 1$, $x_{1} = 1.5$, and $x_{2} = 2$."
   ]
  },
  {
   "cell_type": "markdown",
   "metadata": {},
   "source": [
    "## Solution: \n",
    "\n",
    "We construct the entries of the divided difference table suitable for Algorithm 3.3:\n",
    "\n",
    "| $z$ | $f(z)$ | $f[z_{i - 1}, z_{i}]$ | $f[z_{i - 2}, z_{i - 1}, z_{i}]$ | $f[z_{i - 3}, \\dots, z_{i}]$ | $f[z_{i - 4}, \\dots, z_{i}]$ | $f[z_{i - 5}, \\dots, z_{i}]$ |\n",
    "| --- | --- | --- | --- | --- | --- | --- |\n",
    "| $\\underline{1}$ | $\\underline{0.841471}$ | |  | |  | |\n",
    "|  |  | $\\underline{0.540302}$ | |  |  | |\n",
    "| $\\underline{1}$ | $\\underline{0.841471}$ | | $−0.456508$ | |  | |\n",
    "|  |  | $0.312048$ | | $−0.052228$ | | | |\n",
    "| $\\underline{1.5}$ | $\\underline{0.997495}$ | | $−0.482622$ | | $0.040584$ | |\n",
    "|  |  | $\\underline{0.070737}$ | | $−0.011644$ | |$0.000588$ |\n",
    "| $\\underline{1.5}$ | $\\underline{0.997495}$ | | $−0.494266$ | | $0.041172$  | |\n",
    "|  |  | $-0.176396$ | | $0.029528$ |  | |\n",
    "| $\\underline{2}$ | $\\underline{0.909297}$ | | $−0.479502$ |  |  | |\n",
    "|  |  | $\\underline{−0.416147}$ | | |  | |\n",
    "| $\\underline{2}$ | $\\underline{0.909297}$ | |  |  |  | |\n",
    "\n",
    "Then, the Hermite interpolating polynomial can be found by reading coefficients off of the upper diagonal: $\\newline \\newline$\n",
    "$$\n",
    "\\begin{align*}\n",
    "P(x) &= 0.841471 + 0.540302(x - 1) - 0.456508(x - 1)^{2} - 0.052228(x - 1)^{2}(x - 1.5) \\\\\n",
    "&\\;\\; + 0.040584(x - 1)^{2}(x - 1.5)^{2} + 0.000588(x - 1)^{2}(x - 1.5)^{2}(x - 2).\n",
    "\\end{align*}\n",
    "\\newline\n",
    "$$"
   ]
  },
  {
   "cell_type": "markdown",
   "metadata": {},
   "source": [
    "# Problem 7\n",
    "\n",
    "Construct a natural cubic spline for $f(x) = e^{x}$ through the nodes $0, 0.5, 1$."
   ]
  },
  {
   "cell_type": "markdown",
   "metadata": {},
   "source": [
    "## Solution: \n",
    "\n",
    "We need $8$ equations to determine our coefficients. Four of them come from the fact that we must interpolate at the nodes, one comes from the fact that we need the first derivatives of the components to agree at the midpoint, another comes from agreement of the second derivatives at the midpoint, and the last two are the ones that made the spline \"natural\"; we must have the second derivatives of the spline equal to zero at the endpoints. We'll write out what these equations are, and we'll be left with a linear system that can be solved for the coefficients.\n",
    "\n",
    "Let $S_{0}(x) = a_{0} + b_{0}x + c_{0}x^{2} + d_{0}x^{3}$ and $S_{1}(x) = a_{1} + b_{1}(x - 1) + c_{1}(x - 1)^{2} + d_{1}(x - 1)^{3}$. Then the following must hold: $\\newline \\newline$\n",
    "$$\n",
    "\\begin{align*}\n",
    "    a_{0} &= 1, \\\\\n",
    "    a_{0} + \\frac{b_{0}}{2} + \\frac{c_{0}}{4} + \\frac{d_{0}}{8} &= e^{0.5}, \\\\\n",
    "    a_{1} - \\frac{b_{1}}{2} + \\frac{c_{1}}{4} - \\frac{d_{1}}{8} &= e^{0.5}, \\\\\n",
    "    a_{1} &= e, \\\\\n",
    "    b_{0} + c_{0} + \\frac{3d_{0}}{4} - b_{1} + c_{1} - \\frac{3d_{1}}{4} &= 0, \\\\\n",
    "    2c_{0} + 3d_{0} - 2c_{1} + 3d_{1} &= 0, \\\\\n",
    "    2c_{0} &= 0, \\\\\n",
    "    2c_{1} &= 0.\n",
    "\\end{align*}\n",
    "\\newline\n",
    "$$\n",
    "This gives us the linear system $\\newline \\newline$\n",
    "$$\n",
    "\\begin{bmatrix}\n",
    "    1 & 0 & 0 & 0 & 0 & 0 & 0 & 0 \\\\\n",
    "    1 & 1/2 & 1/4 & 1/8 & 0 & 0 & 0 & 0 \\\\\n",
    "    0 & 0 & 0 & 0 & 1 & -1/2 & 1/4 & -1/8 \\\\\n",
    "    0 & 0 & 0 & 0 & 1 & 0 & 0 & 0 \\\\\n",
    "    0 & 1 & 1 & 3/4 & 0 & -1 & 1 & -3/4 \\\\\n",
    "    0 & 0 & 2 & 3 & 0 & 0 & -2 & 3 \\\\\n",
    "    0 & 0 & 2 & 0 & 0 & 0 & 0 & 0 \\\\\n",
    "    0 & 0 & 0 & 0 & 0 & 0 & 2 & 0 \\\\\n",
    "\\end{bmatrix}\n",
    "\\mathbf{x} = \n",
    "\\begin{bmatrix}\n",
    "    1 \\\\\n",
    "    \\sqrt{e} \\\\\n",
    "    \\sqrt{e} \\\\\n",
    "    e \\\\\n",
    "    0 \\\\\n",
    "    0 \\\\\n",
    "    0 \\\\\n",
    "    0\n",
    "\\end{bmatrix}.\n",
    "\\newline\n",
    "$$\n",
    "We could solve this by hand, but it is easier to have Julia do it for us:"
   ]
  },
  {
   "cell_type": "code",
   "execution_count": 6,
   "metadata": {},
   "outputs": [
    {
     "data": {
      "text/plain": [
       "8-element Vector{Float64}:\n",
       "  1.0\n",
       "  1.0870228978708618\n",
       "  0.0\n",
       "  0.8416785741175774\n",
       "  2.718281828459045\n",
       "  2.349540759047228\n",
       "  0.0\n",
       " -0.8416785741175774"
      ]
     },
     "execution_count": 6,
     "metadata": {},
     "output_type": "execute_result"
    }
   ],
   "source": [
    "A = [1 0 0 0 0 0 0 0 ;\n",
    "    1 1/2 1/4 1/8 0 0 0 0;\n",
    "    0 0 0 0 1 -1/2 1/4 -1/8;\n",
    "    0 0 0 0 1 0 0 0;\n",
    "    0 1 1 3/4 0 -1 1 -3/4;\n",
    "    0 0 2 3 0 0 -2 3;\n",
    "    0 0 2 0 0 0 0 0;\n",
    "    0 0 0 0 0 0 2 0]\n",
    "\n",
    "b = [1; sqrt(exp(1)); sqrt(exp(1)); exp(1); 0; 0; 0; 0]\n",
    "\n",
    "coeffs = A\\b"
   ]
  },
  {
   "cell_type": "markdown",
   "metadata": {},
   "source": [
    "This tells us that the natural cubic spline is $\\newline \\newline$\n",
    "$$\n",
    "S \\approx\n",
    "\\begin{cases}\n",
    "    1 + 1.0870x + 0.8417x^{3}, \\;\\; x \\in [0, 0.5] \\\\\n",
    "    e + 2.3495(x - 1) - 0.8417(x - 1)^{3}, \\;\\; x \\in [0.5, 1]\n",
    "\\end{cases}.\n",
    "\\newline\n",
    "$$"
   ]
  },
  {
   "cell_type": "markdown",
   "metadata": {},
   "source": [
    "# Problem 8\n",
    "\n",
    "Construct a clamped cubic spline for $f(x) = e^{x}$ through the nodes $0, 0.5, 1$."
   ]
  },
  {
   "cell_type": "markdown",
   "metadata": {},
   "source": [
    "## Solution: \n",
    "\n",
    "Again, we need $8$ equations to determine our spline. The first six equations are the same as for the natural spline; the last two are replaced with the condition that the first derivatives of the spline have to agree with the first derivatives of $f$ at the endpoints. We'll write out what these equations are, and we'll be left with a linear system that can be solved for the coefficients: $\\newline \\newline$\n",
    "$$\n",
    "\\begin{bmatrix}\n",
    "    1 & 0 & 0 & 0 & 0 & 0 & 0 & 0 \\\\\n",
    "    1 & 1/2 & 1/4 & 1/8 & 0 & 0 & 0 & 0 \\\\\n",
    "    0 & 0 & 0 & 0 & 1 & -1/2 & 1/4 & -1/8 \\\\\n",
    "    0 & 0 & 0 & 0 & 1 & 0 & 0 & 0 \\\\\n",
    "    0 & 1 & 1 & 3/4 & 0 & -1 & 1 & -3/4 \\\\\n",
    "    0 & 0 & 2 & 3 & 0 & 0 & -2 & 3 \\\\\n",
    "    0 & 1 & 0 & 0 & 0 & 0 & 0 & 0 \\\\\n",
    "    0 & 0 & 0 & 0 & 0 & 1 & 0 & 0 \\\\\n",
    "\\end{bmatrix}\n",
    "\\mathbf{x} = \n",
    "\\begin{bmatrix}\n",
    "    1 \\\\\n",
    "    \\sqrt{e} \\\\\n",
    "    \\sqrt{e} \\\\\n",
    "    e \\\\\n",
    "    0 \\\\\n",
    "    0 \\\\\n",
    "    1 \\\\\n",
    "    e\n",
    "\\end{bmatrix}.\n",
    "\\newline\n",
    "$$\n",
    "We solve this in Julia:"
   ]
  },
  {
   "cell_type": "code",
   "execution_count": 10,
   "metadata": {},
   "outputs": [
    {
     "data": {
      "text/plain": [
       "8-element Vector{Float64}:\n",
       " 1.0\n",
       " 0.9999999999999998\n",
       " 0.4889506772539256\n",
       " 0.2118688110931745\n",
       " 2.718281828459045\n",
       " 2.718281828459045\n",
       " 1.33410519187679\n",
       " 0.3515675319887352"
      ]
     },
     "execution_count": 10,
     "metadata": {},
     "output_type": "execute_result"
    }
   ],
   "source": [
    "A = [1 0 0 0 0 0 0 0 ;\n",
    "    1 1/2 1/4 1/8 0 0 0 0;\n",
    "    0 0 0 0 1 -1/2 1/4 -1/8;\n",
    "    0 0 0 0 1 0 0 0;\n",
    "    0 1 1 3/4 0 -1 1 -3/4;\n",
    "    0 0 2 3 0 0 -2 3;\n",
    "    0 1 0 0 0 0 0 0;\n",
    "    0 0 0 0 0 1 0 0]\n",
    "\n",
    "b = [1; sqrt(exp(1)); sqrt(exp(1)); exp(1); 0; 0; 1; exp(1)]\n",
    "\n",
    "coeffs = A\\b"
   ]
  },
  {
   "cell_type": "markdown",
   "metadata": {},
   "source": [
    "We find that the spline is $\\newline \\newline$\n",
    "$$\n",
    "S \\approx\n",
    "\\begin{cases}\n",
    "    1 + x + 0.4889x^2 + 0.2119x^3 \\;\\; \\text{on } [0, 0.5] \\\\\n",
    "    e + e(x - 1) + 1.3341(x - 1)^2 + 0.3516(x - 1)^3 \\;\\; \\text{on } [0.5, 1]\n",
    "\\end{cases}.\n",
    "\\newline\n",
    "$$"
   ]
  },
  {
   "cell_type": "markdown",
   "metadata": {},
   "source": [
    "# Numerical Differentiation"
   ]
  },
  {
   "cell_type": "markdown",
   "metadata": {},
   "source": [
    "# Problem 9\n",
    "\n",
    "Approximate the derivative of $\\sin(x)$ at $x = 0.4$, using a forward difference formula with $h = 0.1$."
   ]
  },
  {
   "cell_type": "markdown",
   "metadata": {},
   "source": [
    "## Solution: \n",
    "\n",
    "The simple forward difference formula is $\\newline \\newline$\n",
    "$$\n",
    "f'(x) \\approx \\frac{f(x + h) - f(x)}{h}.\n",
    "\\newline\n",
    "$$\n",
    "Plugging in our numbers and function, we get the approximation $\\newline \\newline$\n",
    "$$\n",
    "\\cos(0.4) \\approx \\frac{\\sin(0.5) - \\sin(0.4)}{0.1} \\approx 0.9001.\n",
    "\\newline\n",
    "$$"
   ]
  },
  {
   "cell_type": "markdown",
   "metadata": {},
   "source": [
    "# Problem 10\n",
    "\n",
    "Approximate the derivative of $\\sin(x)$ at $x = 0.4$, using a backward difference formula with $h = 0.1$."
   ]
  },
  {
   "cell_type": "markdown",
   "metadata": {},
   "source": [
    "## Solution: \n",
    "\n",
    "The simple backward difference formula is $\\newline \\newline$\n",
    "$$\n",
    "f'(x) \\approx \\frac{f(x) - f(x - h)}{h}.\n",
    "\\newline\n",
    "$$\n",
    "Plugging in our numbers and function, we get the approximation $\\newline \\newline$\n",
    "$$\n",
    "\\cos(0.4) \\approx \\frac{\\sin(0.4) - \\sin(0.3)}{0.1} \\approx 0.9390.\n",
    "\\newline\n",
    "$$"
   ]
  },
  {
   "cell_type": "markdown",
   "metadata": {},
   "source": [
    "# Problem 11\n",
    "\n",
    "Approximate the derivative of $\\sin(x)$ at $x = 0.4$, using a three point midpoint difference formula with $h = 0.1$."
   ]
  },
  {
   "cell_type": "markdown",
   "metadata": {},
   "source": [
    "## Solution: \n",
    "\n",
    "The three point midpoint difference formula is $\\newline \\newline$\n",
    "$$\n",
    "f'(x) \\approx \\frac{f(x + h) - f(x - h)}{2h}.\n",
    "\\newline\n",
    "$$\n",
    "Plugging in our numbers and function, we get the approximation $\\newline \\newline$\n",
    "$$\n",
    "\\cos(0.4) \\approx \\frac{\\sin(0.5) - \\sin(0.3)}{0.2} \\approx 0.9195.\n",
    "\\newline\n",
    "$$"
   ]
  },
  {
   "cell_type": "markdown",
   "metadata": {},
   "source": [
    "# Problem 12\n",
    "\n",
    "Approximate the derivative of $\\sin(x)$ at $x = 0.4$, using a three point forward difference formula with $h = 0.1$."
   ]
  },
  {
   "cell_type": "markdown",
   "metadata": {},
   "source": [
    "## Solution: \n",
    "\n",
    "The three point forward difference formula is $\\newline \\newline$\n",
    "$$\n",
    "f'(x) \\approx \\frac{-3f(x) + 4f(x + h) - f(x + 2h)}{2h}.\n",
    "\\newline\n",
    "$$\n",
    "Plugging in our numbers and function, we get the approximation $\\newline \\newline$\n",
    "$$\n",
    "\\cos(0.4) \\approx \\frac{-3\\sin(0.4) + 4\\sin(0.5) - \\sin(0.6)}{0.2} \\approx 0.9240.\n",
    "\\newline\n",
    "$$"
   ]
  },
  {
   "cell_type": "markdown",
   "metadata": {},
   "source": [
    "# Numerical Integration"
   ]
  },
  {
   "cell_type": "markdown",
   "metadata": {},
   "source": [
    "# Problem 13\n",
    "\n",
    "For $\\newline \\newline$\n",
    "$$\n",
    "M = \\int_{0}^{3\\pi/2}\\cos(x)dx,\n",
    "\\newline\n",
    "$$\n",
    "assume for some scheme, $N_{1}(h) = 2.356194$, $N_{1}(h/2) = -0.4879837$, $N_{1}(h/4) = -0.8815732$, and that $\\newline \\newline$\n",
    "$$\n",
    "M = N_{1}(h) + K_{2}h^{2} + K_{4}h^{4} + K_{6}h^{6} + \\dots.\n",
    "\\newline\n",
    "$$\n",
    "Derive an $\\mathcal{O}(h^{6})$ estimate for $M$, and compute its value."
   ]
  },
  {
   "cell_type": "markdown",
   "metadata": {},
   "source": [
    "## Solution: \n",
    "\n",
    "To derive a high-order estimate of $M$, we need to do some clever arithmetic to \"cancel out\" the lower order errors. This is the idea of Richardson extrapolation. To first cancel out the lowest order error $\\mathcal{O}(h^{2})$, write out the expression for $M$ with the modified step size $h/2$: $\\newline \\newline$\n",
    "$$\n",
    "\\begin{align*}\n",
    "    M &= N_{1}(h/2) + K_{2}\\frac{h^{2}}{2^{2}} + K_{4}\\frac{h^{4}}{2^{4}} + K_{6}\\frac{h^{6}}{2^{6}} + \\dots \\\\\n",
    "    &= N_{1}(h/2) + K_{2}\\frac{h^{2}}{4} + K_{4}\\frac{h^{4}}{16} + K_{6}\\frac{h^{6}}{64} + \\dots\n",
    "\\end{align*}\n",
    "\\newline\n",
    "$$\n",
    "Now, if we take the first equation and subtract $4$ copies of the second equation, we get $\\newline \\newline$\n",
    "$$\n",
    "\\begin{align*}\n",
    "M - 4M &= \\Big(N_{1}(h) - 4N_{1}(h/2)\\Big) + \\Big(K_{2}h^{2} - K_{2}\\frac{4h^{2}}{4}\\Big) \\\\ & \\;\\; +\\Big(K_{4}h^{4} - K_{4}\\frac{4h^{4}}{16}\\Big) + \\Big(K_{6}h^{6} - K_{6}\\frac{4h^{6}}{64}\\Big) + \\dots\n",
    "\\end{align*}\n",
    "\\newline\n",
    "$$\n",
    "so that we have $\\newline \\newline$\n",
    "$$\n",
    "-3M = \\Big(N_{1}(h) - 4N_{1}(h/2)\\Big) + \\frac{3}{4}K_{4}h^{4} + \\frac{15}{16}K_{6}h^{6} + \\dots.\n",
    "\\newline\n",
    "$$\n",
    "Consequently, an $\\mathcal{O}(h^{4})$ approximation of $M$ is $\\newline \\newline$\n",
    "$$\n",
    "M = \\frac{1}{3}\\Big(4N_{1}(h/2) - N_{1}(h)\\Big) - \\frac{1}{4}K_{4}h^{4} - \\frac{5}{16}K_{6}h^{6} + \\dots.\n",
    "\\newline\n",
    "$$\n",
    "Now we define $N_{2}(h) = \\frac{1}{3}\\Big(4N_{1}(h/2) - N_{1}(h)\\Big)$. Writing out the expression for $M$ with $N_{2}(h)$ and $N_{2}(h/2)$ gives $\\newline \\newline$\n",
    "$$\n",
    "\\begin{align*}\n",
    "    M &= N_{2}(h) - \\frac{1}{4}K_{4}h^{4} - \\frac{5}{16}K_{6}h^{6} + \\dots \\\\\n",
    "    M &= N_{2}(h/2) - K_{4}\\frac{h^{4}}{4\\cdot 2^{4}} - K_{6}\\frac{5h^{6}}{16 \\cdot 2^{6}} + \\dots\n",
    "\\end{align*}\n",
    "\\newline\n",
    "$$\n",
    "We subtract 16 copies of the second equation from the first and obtain $\\newline \\newline$\n",
    "$$\n",
    "\\begin{align*}\n",
    "-15M &= \\Big(N_{2}(h) - 16N_{2}(h/2)\\Big) + \\Big(-K_{4}\\frac{h^{4}}{4} + K_{4}\\frac{16h^{4}}{4 \\cdot 16}\\Big) + \\Big(-K_{6}\\frac{5h^{6}}{16} + K_{6}\\frac{16 \\cdot 5h^{6}}{16 \\cdot 64}\\Big) + \\dots \\\\\n",
    "&= \\Big(N_{2}(h) - 16N_{2}(h/2)\\Big) + \\Big(-K_{6}\\frac{5h^{6}}{16} + K_{6}\\frac{16 \\cdot 5h^{6}}{16 \\cdot 64}\\Big) + \\dots,\n",
    "\\end{align*}\n",
    "\\newline\n",
    "$$\n",
    "so that $\\newline \\newline$\n",
    "$$\n",
    "M = \\frac{1}{15}\\Big(16N_{2}(h/2) - N_{2}(h)\\Big) + K_{6}\\frac{h^{6}}{64} + \\dots.\n",
    "\\newline\n",
    "$$\n",
    "Finally, we write $N_{3}(h) = \\frac{1}{15}\\Big(16N_{2}(h/2) - N_{2}(h)\\Big)$, which is the desired $\\mathcal{O}(h^{6})$ estimate for $M$.\n",
    "\n",
    "Now, we need to compute with these quantities. We are given $N_{1}(h)$, $N_{1}(h/2)$, and $N_{1}(h/4)$. To compute $N_{2}(h)$, we use the formula derived above: $\\newline \\newline$\n",
    "$$\n",
    "\\begin{align*}\n",
    "    N_{2}(h) &= \\frac{1}{3}\\Big(4N_{1}(h/2) - N_{1}(h)\\Big) \\\\\n",
    "    &= \\frac{1}{3}\\Big(4\\cdot (-0.4879837) - 2.356194\\Big) \\\\\n",
    "    &\\approx −1.436043.\n",
    "\\end{align*}\n",
    "\\newline\n",
    "$$\n",
    "The last piece of information we need before computing $N_{3}(h)$ is $N_{2}(h/2)$, which can be computed with the same formula above, but with $h/2$ replacing all instances of $h$: $\\newline \\newline$\n",
    "$$\n",
    "\\begin{align*}\n",
    "    N_{2}(h/2) &= \\frac{1}{3}\\Big(4N_{1}(h/4) - N_{1}(h/2) \\\\\n",
    "    &= \\frac{1}{3}\\Big(4\\cdot (-0.8815732) - (-0.4879837)\\Big) \\\\\n",
    "    &\\approx −1.012770.\n",
    "\\end{align*}\n",
    "\\newline\n",
    "$$\n",
    "Now, we use our formula we derived to compute $N_{3}(h)$, the $\\mathcal{O}(h^{6})$ approximation: $\\newline \\newline$\n",
    "$$\n",
    "\\begin{align*}\n",
    "    N_{3}(h) &= \\frac{1}{15}\\Big(16N_{2}(h/2) - N_{2}(h)\\Big) \\\\\n",
    "    &= \\frac{1}{15}\\Big(16\\cdot(−1.012770) - (−1.436043)\\Big) \\\\\n",
    "    &\\approx −0.984552.\n",
    "\\end{align*}\n",
    "\\newline\n",
    "$$\n",
    "This is reasonable, since the true value of the integral is $-1$."
   ]
  },
  {
   "cell_type": "markdown",
   "metadata": {},
   "source": [
    "# Problem 14\n",
    "\n",
    "Use the Trapezoidal rule to approximate $\\newline \\newline$\n",
    "$$\n",
    "\\int_{1}^{10}\\frac{1}{x}dx.\n",
    "\\newline\n",
    "$$"
   ]
  },
  {
   "cell_type": "markdown",
   "metadata": {},
   "source": [
    "## Solution: \n",
    "\n",
    "The non-composite Trapezoidal rule is given by $\\newline \\newline$\n",
    "$$\n",
    "\\int_{a}^{b}f(x)dx \\approx \\frac{b - a}{2}(f(a) + f(b)).\n",
    "\\newline\n",
    "$$\n",
    "Applying this to our problem, we have $\\newline \\newline$\n",
    "$$\n",
    "\\begin{align*}\n",
    "    \\int_{1}^{10}\\frac{1}{x}dx &\\approx \\frac{10 - 1}{2}\\Big(\\frac{1}{1} + \\frac{1}{10}\\Big) \\\\\n",
    "    &\\approx 4.5(1 + 0.1) \\\\\n",
    "    &\\approx 4.5(1.1) \\\\\n",
    "    &\\approx 4.95.\n",
    "\\end{align*}\n",
    "\\newline\n",
    "$$\n",
    "As we see in problems 21 and 22, this is a very crude overestimate (the true value is $\\ln 10 \\approx 2.3$)."
   ]
  },
  {
   "cell_type": "markdown",
   "metadata": {},
   "source": [
    "# Problem 15\n",
    "\n",
    "Use Simpson's rule to approximate $\\newline \\newline$\n",
    "$$\n",
    "\\int_{1}^{10}\\frac{1}{x}dx.\n",
    "\\newline\n",
    "$$"
   ]
  },
  {
   "cell_type": "markdown",
   "metadata": {},
   "source": [
    "## Solution: \n",
    "\n",
    "Recall that the non-composite Simpson's rule is given by $\\newline \\newline$\n",
    "$$\n",
    "\\int_{a}^{b}f(x)dx \\approx \\frac{h}{3}\\Big(f(a) + 4f\\Big(\\frac{a + b}{2}\\Big) + f(b)\\Big).\n",
    "\\newline\n",
    "$$\n",
    "Applying this to our problem, we obtain $\\newline \\newline$\n",
    "$$\n",
    "\\begin{align*}\n",
    "    \\int_{1}^{10}\\frac{1}{x}dx &\\approx \\frac{4.5}{3}\\Big(\\frac{1}{1} + 4\\cdot\\frac{1}{5.5} +  \\frac{1}{10}\\Big) \\\\\n",
    "    &\\approx 1.5(1 + 0.7272 +  0.1) \\\\\n",
    "    &\\approx 1.5(1.8272) \\\\\n",
    "    &\\approx 2.74.\n",
    "\\end{align*}\n",
    "\\newline\n",
    "$$\n",
    "This is still a bit of an overestimate, but it is better than the Trapezoidal rule."
   ]
  },
  {
   "cell_type": "markdown",
   "metadata": {},
   "source": [
    "# Problem 16\n",
    "\n",
    "Approximate the absolute error of the Trapezoidal rule for $\\newline \\newline$\n",
    "$$\n",
    "\\int_{1}^{10}\\frac{1}{x}dx.\n",
    "\\newline\n",
    "$$"
   ]
  },
  {
   "cell_type": "markdown",
   "metadata": {},
   "source": [
    "## Solution: \n",
    "\n",
    "The form of the error for the non-composite trapezoidal rule is $\\newline \\newline$\n",
    "$$\n",
    "E[f] = -\\frac{h^{3}}{12}f''(\\xi)\n",
    "\\newline\n",
    "$$\n",
    "for some $\\xi \\in (a, b)$. This means our error is bounded by $\\newline \\newline$\n",
    "$$\n",
    "|E(f)| \\leq \\frac{(10 - 1)^{3}}{12}\\max_{x \\in [1, 10]}\\Big|\\frac{2}{x^{3}}\\Big| = \\frac{9^3}{12}\\cdot 2 = 121.5.\n",
    "\\newline\n",
    "$$\n",
    "This bound is not at all sharp, as we have seen the true error is about $2$. We can see that the bound on the error falls apart when the step size is much larger than $1$."
   ]
  },
  {
   "cell_type": "markdown",
   "metadata": {},
   "source": [
    "# Problem 17\n",
    "\n",
    "Approximate the absolute error of Simpson's rule for $\\newline \\newline$\n",
    "$$\n",
    "\\int_{1}^{10}\\frac{1}{x}dx.\n",
    "\\newline\n",
    "$$"
   ]
  },
  {
   "cell_type": "markdown",
   "metadata": {},
   "source": [
    "## Solution: \n",
    "\n",
    "The form of the error for the non-composite Simpson's rule is $\\newline \\newline$\n",
    "$$\n",
    "E[f] = -\\frac{h^{5}}{90}f^{(4)}(\\xi)\n",
    "\\newline\n",
    "$$\n",
    "for some $\\xi \\in (a, b)$. This means our error is bounded by $\\newline \\newline$\n",
    "$$\n",
    "|E(f)| \\leq \\frac{(10 - 1)^{5}}{2^{5} \\cdot 180}\\max_{x \\in [1, 10]}\\Big|\\frac{24}{x^{5}}\\Big| = \\frac{4.5^5}{90}\\cdot 24 = 492.075.\n",
    "\\newline\n",
    "$$\n",
    "This bound is not at all sharp, as we have seen the true error is about $0.4$."
   ]
  },
  {
   "cell_type": "markdown",
   "metadata": {},
   "source": [
    "# Problem 18\n",
    "\n",
    "What degree of precision is the quadrature rule $\\newline \\newline$\n",
    "$$\n",
    "\\int_{-1}^{1}f(x)dx = f(-1) + f(1)?\n",
    "\\newline\n",
    "$$\n",
    "Justify your answer."
   ]
  },
  {
   "cell_type": "markdown",
   "metadata": {},
   "source": [
    "## Solution: \n",
    "\n",
    "This is the trapezoidal rule. Recall that the form of the error of the trapezoial rule is $\\newline \\newline$\n",
    "$$\n",
    "E[f] = -\\frac{(b - a)^{3}}{12}f''(\\xi).\n",
    "\\newline\n",
    "$$\n",
    "The only way that this is identically zero is if the term $f''(\\xi) = 0$. Of course, this happens only when $f$ is a polynomial of degree one or less; this implies that the degree of precision of the trapezoidal rule is $1$."
   ]
  },
  {
   "cell_type": "markdown",
   "metadata": {},
   "source": [
    "# Problem 19\n",
    "\n",
    "What degree of precision is the quadrature rule $\\newline \\newline$\n",
    "$$\n",
    "\\int_{-1}^{1}f(x)dx = f\\Big(-\\frac{\\sqrt{3}}{3}\\Big) + f\\Big(\\frac{\\sqrt{3}}{3}\\Big)?\n",
    "\\newline\n",
    "$$\n",
    "Justify your answer."
   ]
  },
  {
   "cell_type": "markdown",
   "metadata": {},
   "source": [
    "## Solution: \n",
    "\n",
    "This is Gaussian quadrature with $n = 2$. We claim that the degree of precision is three. To show this, we exploit the linearity of the integral to say that the problem of determining constants $c_{1}, c_{2}, x_{1}, x_{2}$ for which $\\newline \\newline$\n",
    "$$\n",
    "\\begin{align*}\n",
    "    \\int_{-1}^{1}(a_{0} + a_{1}x + a_{2}x^{2} + a_{3}x^{3})dx &= a_{0}\\int_{-1}^{1}1dx + a_{1}\\int_{-1}^{1}xdx + a_{2}\\int_{-1}^{1}x^{2}dx + a_{3}\\int_{-1}^{1}x^{3}dx \\\\\n",
    "    &= c_{1}f(x_{1}) + c_{2}f(x_{2}) \n",
    "\\end{align*}\n",
    "$$\n",
    "is exact is equivalent to finding the constants that make the integration exact for all of the _basis_ functions, that is, for $f(x) \\in \\{1, x, x^{2}, x^{3}\\}$. The four resulting equations are $\\newline \\newline$\n",
    "$$\n",
    "\\begin{align*}\n",
    "    c_{1} \\cdot 1 + c_{2} \\cdot 1 &= \\int_{-1}^{1}1dx = 2, \\\\\n",
    "    c_{1} \\cdot x_{1} + c_{2} \\cdot x_{2} &= \\int_{-1}^{1}xdx = 0, \\\\\n",
    "    c_{1} \\cdot x_{1}^{2} + c_{2} \\cdot x_{2}^{2} &= \\int_{-1}^{1}x^{2}dx = \\frac{2}{3}, \\\\\n",
    "    c_{1} \\cdot x_{1}^{3} + c_{2} \\cdot x_{2}^{3} &= \\int_{-1}^{1}x^{3}dx = 0.\n",
    "\\end{align*}\n",
    "\\newline\n",
    "$$\n",
    "It is a basic algebra exercise to verify that $(c_{1}, c_{2}, x_{1}, x_{2}) = (1, 1, -\\frac{\\sqrt{3}}{3}, \\frac{\\sqrt{3}}{3})$ is a solution to this nonlinear system. Therefore, the above quadrature rule is precision three."
   ]
  },
  {
   "cell_type": "markdown",
   "metadata": {},
   "source": [
    "# Problem 20\n",
    "\n",
    "How large must $n$ be such that when composite Simpson's rule is applied to $\\newline \\newline$\n",
    "$$\n",
    "\\int_{1}^{10}\\frac{1}{x}dx\n",
    "\\newline\n",
    "$$\n",
    "the absolute error is $< 10^{-8}$?"
   ]
  },
  {
   "cell_type": "markdown",
   "metadata": {},
   "source": [
    "## Solution: \n",
    "\n",
    "The form of the error for composite Simpson's rule is $\\newline \\newline$\n",
    "$$\n",
    "E[f] = -\\frac{b - a}{180}h^{4}f^{(4)}(\\mu)\n",
    "\\newline\n",
    "$$\n",
    "for some $\\mu \\in (a, b)$. We'd like to pick $n = \\frac{b - a}{h}$ sufficiently large such that the absolute value of this quantity is less than $10^{-8}$. We have, for our problem, $\\newline \\newline$\n",
    "$$\n",
    "|E[f]| \\leq \\frac{10 - 1}{180}h^{4}\\max_{x \\in [a, b]}\\Big|\\frac{24}{x^{5}}\\Big|,\n",
    "\\newline\n",
    "$$\n",
    "since $\\frac{d^{4}}{dx^{4}}\\frac{1}{x} = \\frac{24}{x^{5}}$. The maximum occurs at the left endpoint, i.e., where $x = 1$. What we need then is that $\\newline \\newline$\n",
    "$$\n",
    "\\frac{24}{20}h^{4} \\leq 10^{-8},\n",
    "\\newline\n",
    "$$\n",
    "or, equivalently, $h \\leq 0.009554$. In terms of $n$, this means that $n > 941.97$, since $n = \\frac{b - a}{h}$. So, we can select $n = 942$ to guarantee our error is within the specifed tolerance."
   ]
  },
  {
   "cell_type": "markdown",
   "metadata": {},
   "source": [
    "# Using Julia"
   ]
  },
  {
   "cell_type": "markdown",
   "metadata": {},
   "source": [
    "# Problem 21\n",
    "\n",
    "Write a piece of Julia code that will use `trapz` to estimate $\\int_{1}^{10}x^{-1}dx$, with $101$ uniformly spaced nodes."
   ]
  },
  {
   "cell_type": "markdown",
   "metadata": {},
   "source": [
    "## Solution: \n",
    "\n"
   ]
  },
  {
   "cell_type": "code",
   "execution_count": 4,
   "metadata": {},
   "outputs": [
    {
     "name": "stdout",
     "output_type": "stream",
     "text": [
      "Estimate: 2.303252798389933\n"
     ]
    }
   ],
   "source": [
    "using Trapz\n",
    "\n",
    "x_vals = LinRange(1, 10, 101)\n",
    "f(x) = 1/x\n",
    "\n",
    "∫f = trapz(x_vals, f.(x_vals))\n",
    "println(\"Estimate: $(∫f)\")"
   ]
  },
  {
   "cell_type": "markdown",
   "metadata": {},
   "source": [
    "# Problem 22\n",
    "\n",
    "Write a piece of Julia code that will use `quadgk` to estimate $\\int_{1}^{10}x^{-1}dx$."
   ]
  },
  {
   "cell_type": "markdown",
   "metadata": {},
   "source": [
    "## Solution: \n",
    "\n"
   ]
  },
  {
   "cell_type": "code",
   "execution_count": 3,
   "metadata": {},
   "outputs": [
    {
     "name": "stdout",
     "output_type": "stream",
     "text": [
      "Estimate: 2.302585092994046\n"
     ]
    }
   ],
   "source": [
    "using QuadGK\n",
    "\n",
    "a = 1; b = 10\n",
    "f(x) = 1/x\n",
    "\n",
    "∫f, error = quadgk(f, a, b)\n",
    "println(\"Estimate: $(∫f)\")"
   ]
  }
 ],
 "metadata": {
  "kernelspec": {
   "display_name": "Julia 1.6.0",
   "language": "julia",
   "name": "julia-1.6"
  },
  "language_info": {
   "file_extension": ".jl",
   "mimetype": "application/julia",
   "name": "julia",
   "version": "1.6.0"
  }
 },
 "nbformat": 4,
 "nbformat_minor": 4
}
