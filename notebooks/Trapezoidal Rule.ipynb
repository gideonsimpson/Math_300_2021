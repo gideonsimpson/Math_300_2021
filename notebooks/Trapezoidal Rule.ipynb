{
 "cells": [
  {
   "cell_type": "markdown",
   "id": "55e9f7ac-0afa-4011-8300-0e99deeb7af7",
   "metadata": {},
   "source": [
    "# Trapezoidal Rule Quadrature"
   ]
  },
  {
   "cell_type": "code",
   "execution_count": null,
   "id": "f16523d3-4a35-4dfd-bf88-49e2b7416560",
   "metadata": {},
   "outputs": [],
   "source": [
    "using Printf"
   ]
  },
  {
   "cell_type": "markdown",
   "id": "ef58e941-c103-40b3-9569-fe5f34270b91",
   "metadata": {},
   "source": [
    "Perform several integrals over the set $[0,2]$"
   ]
  },
  {
   "cell_type": "code",
   "execution_count": null,
   "id": "1feaf669-3423-4b8b-89b4-0240c01f5fb3",
   "metadata": {},
   "outputs": [],
   "source": [
    "x = Float64[0, 2];\n",
    "h = x[2]-x[1];"
   ]
  },
  {
   "cell_type": "markdown",
   "id": "bb2a0120-8bab-420c-98a3-c629630d82da",
   "metadata": {},
   "source": [
    "## Linear Functions\n",
    "Trapezoidal rule will integrate linear functions exactly"
   ]
  },
  {
   "cell_type": "code",
   "execution_count": null,
   "id": "8d023682-7155-4f86-a81b-083335f14e46",
   "metadata": {},
   "outputs": [],
   "source": [
    "f = x-> 2*x - 3;\n",
    "∫f_exact = -2;\n",
    "∫f_trap = .5 * h * sum(f.(x));\n",
    "abs_err = abs(∫f_trap - ∫f_exact);\n",
    "@printf(\"Trapezoidal rule = %g\\n\", ∫f_trap);\n",
    "@printf(\"Error = %g\\n\", abs_err);"
   ]
  },
  {
   "cell_type": "markdown",
   "id": "bb39f858-d23c-4c57-9a3d-725c58752542",
   "metadata": {},
   "source": [
    "## Quadratic Functions\n",
    "There will be an error for quadratic functions"
   ]
  },
  {
   "cell_type": "code",
   "execution_count": null,
   "id": "be68e5d7-f37c-4b16-94e9-dd8ec519f3f4",
   "metadata": {},
   "outputs": [],
   "source": [
    "f = x-> x^2 - 3*x + 2;\n",
    "∫f_exact = 2/3;\n",
    "∫f_trap = .5 * h * sum(f.(x));\n",
    "abs_err = abs(∫f_trap - ∫f_exact);\n",
    "@printf(\"Trapezoidal rule = %g\\n\", ∫f_trap);\n",
    "@printf(\"Error = %g\\n\", abs_err);"
   ]
  },
  {
   "cell_type": "markdown",
   "id": "ff94a916-edb4-4370-b909-a4cf9a6da007",
   "metadata": {},
   "source": [
    "## Other Functions"
   ]
  },
  {
   "cell_type": "code",
   "execution_count": null,
   "id": "ae181374-2a95-479a-9d80-2182c8ffabff",
   "metadata": {},
   "outputs": [],
   "source": [
    "f = x-> sin(x);\n",
    "∫f_exact = 2*sin(1)^2;\n",
    "∫f_trap = .5 * h * sum(f.(x));\n",
    "abs_err = abs(∫f_trap - ∫f_exact);\n",
    "@printf(\"Trapezoidal rule = %g\\n\", ∫f_trap);\n",
    "@printf(\"Error = %g\\n\", abs_err);"
   ]
  },
  {
   "cell_type": "code",
   "execution_count": null,
   "id": "3f7488ef-5dd2-498b-91c7-c5e9dd69017a",
   "metadata": {},
   "outputs": [],
   "source": []
  }
 ],
 "metadata": {
  "kernelspec": {
   "display_name": "Julia 1.7.0-rc2",
   "language": "julia",
   "name": "julia-1.7"
  },
  "language_info": {
   "file_extension": ".jl",
   "mimetype": "application/julia",
   "name": "julia",
   "version": "1.7.0"
  }
 },
 "nbformat": 4,
 "nbformat_minor": 5
}
