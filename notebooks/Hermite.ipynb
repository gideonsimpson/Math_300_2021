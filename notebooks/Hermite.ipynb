{
 "cells": [
  {
   "cell_type": "markdown",
   "id": "3f67b5a3-bf8b-4ad1-8524-d57a2a1e0ac1",
   "metadata": {},
   "source": [
    "# Hermite Interpolation"
   ]
  },
  {
   "cell_type": "code",
   "execution_count": null,
   "id": "41e25cd9-b59b-4c42-977a-e2fde9d681ba",
   "metadata": {},
   "outputs": [],
   "source": [
    "using Plots; pyplot()\n",
    "using LaTeXStrings\n",
    "using Printf\n",
    "using Polynomials\n",
    "using LinearAlgebra"
   ]
  },
  {
   "cell_type": "code",
   "execution_count": null,
   "id": "8035e888-479a-472a-93db-1c3fe2900568",
   "metadata": {},
   "outputs": [],
   "source": [
    "default(lw=2,markersize = 6,\n",
    "    xtickfont=font(12), ytickfont=font(12), \n",
    "    guidefont=font(14), legendfont=font(12),titlefont=font(12))"
   ]
  },
  {
   "cell_type": "markdown",
   "id": "b6199cfd-6ad2-4bd9-a424-29bdece17854",
   "metadata": {},
   "source": [
    "## Example 1"
   ]
  },
  {
   "cell_type": "code",
   "execution_count": null,
   "id": "27c3d622-b9c8-4317-bbbd-9f082627d28a",
   "metadata": {},
   "outputs": [],
   "source": [
    "f = x-> sin(x);\n",
    "df = x-> cos(x);\n",
    "\n",
    "# nodes\n",
    "x = [0, 0.5, 3];\n",
    "n = length(x)-1;"
   ]
  },
  {
   "cell_type": "code",
   "execution_count": null,
   "id": "0a9bd288-5dc3-45c8-939c-7fc372bb5cb6",
   "metadata": {},
   "outputs": [],
   "source": [
    "# set the extended nodes\n",
    "z = zeros(2*n+2);\n",
    "@. z[1:2:end] = x;\n",
    "@. z[2:2:end] = x;\n",
    "\n",
    "# build up the matrix of divided differences\n",
    "F = zeros(2*n+2, 2*n+2);\n",
    "\n",
    "# sest the first column\n",
    "@. F[:,1] = f(z);\n",
    "\n",
    "# loop over the rows beneath row 1\n",
    "for i in 2:2*n+2\n",
    "    \n",
    "    # use modified rule for the first column\n",
    "    if(i%2==0)\n",
    "        F[i,2] =  df(z[i-1])\n",
    "    else\n",
    "        F[i,2] = (F[i,1] - F[i-1,1])/(z[i]-z[i-1])\n",
    "    end\n",
    "    # fill the rest of the columns in the usual way\n",
    "    for j in 3:i\n",
    "       F[i,j] = (F[i,j-1] - F[i-1,j-1])/(z[i] - z[i-(j-1)]) \n",
    "    end\n",
    "    \n",
    "end\n",
    "\n",
    "a = diag(F);"
   ]
  },
  {
   "cell_type": "code",
   "execution_count": null,
   "id": "32681d16-213f-4523-bbe6-fbb24ff31c5e",
   "metadata": {},
   "outputs": [],
   "source": [
    "# estimate at a new values\n",
    "xx = LinRange(0, 3, 100);\n",
    "H = a[1] * ones(size(xx));\n",
    "\n",
    "for i in 2:2*n+2\n",
    "    ΔH = a[i] *ones(size(xx));\n",
    "    for j in 1:i-1\n",
    "        @. ΔH *= (xx - z[j]);\n",
    "    end\n",
    "    @. H += ΔH;\n",
    "end\n"
   ]
  },
  {
   "cell_type": "code",
   "execution_count": null,
   "id": "acda1cfb-6fd5-42d8-b914-2526ef044db1",
   "metadata": {},
   "outputs": [],
   "source": [
    "plot(xx, H, label=\"Hermite\")\n",
    "scatter!(x, f.(x), label=\"Data\")\n",
    "plot!(xx, f.(xx),label=L\"$f$\")\n",
    "xlabel!(L\"$x$\")"
   ]
  },
  {
   "cell_type": "code",
   "execution_count": null,
   "id": "3c5b0f17-27bc-494c-a873-ae8cda12e089",
   "metadata": {},
   "outputs": [],
   "source": [
    "P= fit(x, f.(x));\n",
    "\n",
    "plot(xx, H, label=\"Hermite\")\n",
    "scatter!(x, f.(x), label=\"Data\")\n",
    "plot!(xx, f.(xx),label=L\"$f$\")\n",
    "plot!(xx, P.(xx), label=\"Lagrange\")\n",
    "xlabel!(L\"$x$\")\n"
   ]
  }
 ],
 "metadata": {
  "kernelspec": {
   "display_name": "Julia 1.6.3",
   "language": "julia",
   "name": "julia-1.6"
  },
  "language_info": {
   "file_extension": ".jl",
   "mimetype": "application/julia",
   "name": "julia",
   "version": "1.6.3"
  }
 },
 "nbformat": 4,
 "nbformat_minor": 5
}
