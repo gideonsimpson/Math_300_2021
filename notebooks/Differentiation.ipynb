{
 "cells": [
  {
   "cell_type": "markdown",
   "id": "b191c412-f6c0-444c-a9e5-2726c8c5f937",
   "metadata": {},
   "source": [
    "# Numerical Differentiation"
   ]
  },
  {
   "cell_type": "code",
   "execution_count": null,
   "id": "defd9b17-30a0-471d-ae28-9665065509ce",
   "metadata": {},
   "outputs": [],
   "source": [
    "using Plots; pyplot()\n",
    "using LaTeXStrings\n",
    "using Printf"
   ]
  },
  {
   "cell_type": "code",
   "execution_count": null,
   "id": "f41e7c39-bb14-4819-8ce6-94916950b64d",
   "metadata": {},
   "outputs": [],
   "source": [
    "default(lw=2,markersize = 6,\n",
    "    xtickfont=font(12), ytickfont=font(12), \n",
    "    guidefont=font(14), legendfont=font(12),titlefont=font(12))"
   ]
  },
  {
   "cell_type": "markdown",
   "id": "518af6a5-4062-461b-9944-c63943e804fa",
   "metadata": {},
   "source": [
    "## Example 1\n",
    "Estimate the derivative of $f(x) =\\ln x$ at $x_0 = 1$ using a first order approximation."
   ]
  },
  {
   "cell_type": "code",
   "execution_count": null,
   "id": "3b8d451d-23b0-43c7-8028-bd7e125c82e0",
   "metadata": {},
   "outputs": [],
   "source": [
    "f = x->log(x);\n",
    "x0 = 1;\n",
    "h_vals = 0.1 * 2. .^(0:-1:-4);\n",
    "df_vals = [];\n",
    "err_vals = [];\n",
    "for h in h_vals\n",
    "    df = (f(x0+h)-f(x0))/h;\n",
    "    push!(df_vals, df);\n",
    "    err = abs(df -1);\n",
    "    push!(err_vals, err);\n",
    "    @printf(\"h = %.5f, df = %.12g, Abs. Err = %g\\n\", h, df, err);\n",
    "end\n"
   ]
  },
  {
   "cell_type": "code",
   "execution_count": null,
   "id": "2d33fa97-57a2-434e-8887-fe219a3578cc",
   "metadata": {},
   "outputs": [],
   "source": [
    "scatter(h_vals, err_vals, label=\"Estimates\", xscale=:log10, yscale=:log10, legend=:bottomright)\n",
    "plot!(h_vals, h_vals, label=L\"$\\propto h$\")\n",
    "xlabel!(L\"$h$\")\n",
    "ylabel!(\"Error\")"
   ]
  },
  {
   "cell_type": "markdown",
   "id": "4ed3b934-02d1-4b6a-a9ef-0206b6ed27fd",
   "metadata": {},
   "source": [
    "## Example 2\n",
    "Three point midpoint formula (centered differnce)"
   ]
  },
  {
   "cell_type": "code",
   "execution_count": null,
   "id": "e38280de-35da-4d01-9bab-da41933594f2",
   "metadata": {},
   "outputs": [],
   "source": [
    "f = x->log(x);\n",
    "x0 = 1;\n",
    "h_vals = 0.1 * 2. .^(0:-1:-4);\n",
    "df_vals = [];\n",
    "err_vals = [];\n",
    "for h in h_vals\n",
    "    df = (f(x0+h)-f(x0-h))/(2*h);\n",
    "    push!(df_vals, df);\n",
    "    err = abs(df -1);\n",
    "    push!(err_vals, err);\n",
    "    @printf(\"h = %.5f, df = %.12g, Abs. Err = %g\\n\", h, df, err);\n",
    "end\n"
   ]
  },
  {
   "cell_type": "code",
   "execution_count": null,
   "id": "01c68ffb-de5e-460d-81e5-fd37f2631e7e",
   "metadata": {},
   "outputs": [],
   "source": [
    "scatter(h_vals, err_vals, label=\"Estimates\", xscale=:log10, yscale=:log10, legend=:bottomright)\n",
    "plot!(h_vals, h_vals.^2, label=L\"$\\propto h^2$\")\n",
    "xlabel!(L\"$h$\")\n",
    "ylabel!(\"Error\")"
   ]
  },
  {
   "cell_type": "markdown",
   "id": "1d4de969-bd34-45dd-9df6-959c03a1c9b3",
   "metadata": {},
   "source": [
    "## Example 3\n",
    "Five point centered difference"
   ]
  },
  {
   "cell_type": "code",
   "execution_count": null,
   "id": "20adfaff-462e-4202-8c18-4aeed9d269f5",
   "metadata": {},
   "outputs": [],
   "source": [
    "f = x->log(x);\n",
    "x0 = 1;\n",
    "h_vals = 0.1 * 2. .^(0:-1:-4);\n",
    "df_vals = [];\n",
    "err_vals = [];\n",
    "for h in h_vals\n",
    "    df = (f(x0-2*h) -8*f(x0-h) + 8 * f(x0+h)- f(x0+2*h))/(12*h);\n",
    "    push!(df_vals, df);\n",
    "    err = abs(df -1);\n",
    "    push!(err_vals, err);\n",
    "    @printf(\"h = %.5f, df = %.12g, Abs. Err = %g\\n\", h, df, err);\n",
    "end\n"
   ]
  },
  {
   "cell_type": "code",
   "execution_count": null,
   "id": "2e642edc-3406-4706-9d48-19d7c51884f8",
   "metadata": {},
   "outputs": [],
   "source": [
    "scatter(h_vals, err_vals, label=\"Estimates\", xscale=:log10, yscale=:log10, legend=:bottomright)\n",
    "plot!(h_vals, h_vals.^4, label=L\"$\\propto h^4$\")\n",
    "xlabel!(L\"$h$\")\n",
    "ylabel!(\"Error\")"
   ]
  }
 ],
 "metadata": {
  "kernelspec": {
   "display_name": "Julia 1.7.0-rc2",
   "language": "julia",
   "name": "julia-1.7"
  },
  "language_info": {
   "file_extension": ".jl",
   "mimetype": "application/julia",
   "name": "julia",
   "version": "1.7.0"
  }
 },
 "nbformat": 4,
 "nbformat_minor": 5
}
