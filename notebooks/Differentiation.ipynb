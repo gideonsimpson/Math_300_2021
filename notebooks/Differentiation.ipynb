{
 "cells": [
  {
   "cell_type": "markdown",
   "id": "b191c412-f6c0-444c-a9e5-2726c8c5f937",
   "metadata": {},
   "source": [
    "# Numerical Differentiation"
   ]
  },
  {
   "cell_type": "code",
   "execution_count": null,
   "id": "defd9b17-30a0-471d-ae28-9665065509ce",
   "metadata": {},
   "outputs": [],
   "source": [
    "using Plots; pyplot()\n",
    "using LaTeXStrings\n",
    "using Printf"
   ]
  },
  {
   "cell_type": "code",
   "execution_count": null,
   "id": "f41e7c39-bb14-4819-8ce6-94916950b64d",
   "metadata": {},
   "outputs": [],
   "source": [
    "default(lw=2,markersize = 6,\n",
    "    xtickfont=font(12), ytickfont=font(12), \n",
    "    guidefont=font(14), legendfont=font(12),titlefont=font(12))"
   ]
  },
  {
   "cell_type": "markdown",
   "id": "518af6a5-4062-461b-9944-c63943e804fa",
   "metadata": {},
   "source": [
    "## Example 1\n",
    "Estimate the derivative of $f(x) =\\ln x$ at $x_0 = 1$ using a first order approximation."
   ]
  },
  {
   "cell_type": "code",
   "execution_count": null,
   "id": "3b8d451d-23b0-43c7-8028-bd7e125c82e0",
   "metadata": {},
   "outputs": [],
   "source": [
    "f = x->log(x);\n",
    "x0 = 1;\n",
    "h_vals = 0.1 * 2. .^(0:-1:-4);\n",
    "df_vals = [];\n",
    "err_vals = [];\n",
    "for h in h_vals\n",
    "    df = (f(x0+h)-f(x0))/h;\n",
    "    push!(df_vals, df);\n",
    "    err = abs(df -1);\n",
    "    push!(err_vals, err);\n",
    "    @printf(\"h = %.5f, df = %.12g, Abs. Err = %g\\n\", h, df, err);\n",
    "end\n"
   ]
  },
  {
   "cell_type": "code",
   "execution_count": null,
   "id": "2d33fa97-57a2-434e-8887-fe219a3578cc",
   "metadata": {},
   "outputs": [],
   "source": [
    "scatter(h_vals, err_vals, label=\"Estimates\", xscale=:log10, yscale=:log10, legend=:bottomright)\n",
    "plot!(h_vals, h_vals, label=L\"$\\propto h$\")\n",
    "xlabel!(L\"$h$\")\n",
    "ylabel!(\"Error\")"
   ]
  }
 ],
 "metadata": {
  "kernelspec": {
   "display_name": "Julia 1.7.0-rc2",
   "language": "julia",
   "name": "julia-1.7"
  },
  "language_info": {
   "file_extension": ".jl",
   "mimetype": "application/julia",
   "name": "julia",
   "version": "1.7.0"
  }
 },
 "nbformat": 4,
 "nbformat_minor": 5
}
