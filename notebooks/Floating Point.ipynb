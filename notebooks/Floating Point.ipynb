{
 "cells": [
  {
   "cell_type": "markdown",
   "id": "08f3dc51-ea64-4150-af58-432b8c8f0a59",
   "metadata": {},
   "source": [
    "# Floating Point Error in Numerical Differentiation"
   ]
  },
  {
   "cell_type": "code",
   "execution_count": null,
   "id": "c883239d-c24f-45c4-82ee-e5b7c5e42bb3",
   "metadata": {},
   "outputs": [],
   "source": [
    "using Plots; pyplot()\n",
    "using LaTeXStrings\n",
    "using Printf"
   ]
  },
  {
   "cell_type": "code",
   "execution_count": null,
   "id": "93fcd1bb-2f24-4500-9b26-b7b9307b508d",
   "metadata": {},
   "outputs": [],
   "source": [
    "default(lw=2,markersize = 6,\n",
    "    xtickfont=font(12), ytickfont=font(12), \n",
    "    guidefont=font(14), legendfont=font(12),titlefont=font(12))"
   ]
  },
  {
   "cell_type": "markdown",
   "id": "02316e1a-9d5f-4ea5-bbca-54c88441365e",
   "metadata": {},
   "source": [
    "Illustrate the error in approximating $f'(x)$ with the 3 point midpoint formula for $f(x) = \\cos(x)$ at $x_0 =1$."
   ]
  },
  {
   "cell_type": "code",
   "execution_count": null,
   "id": "267814d3-1518-482e-995f-d44ac7af839f",
   "metadata": {},
   "outputs": [],
   "source": [
    "x0 = 1;\n",
    "h_vals = 0.1 * 2. .^(0:-1:-30);\n",
    "err_vals = [];\n",
    "\n",
    "\n",
    "for h in h_vals\n",
    "    fp = (sin(x0+h) - sin(x0-h))/(2*h);\n",
    "    err = abs(fp - cos(x0));\n",
    "    push!(err_vals, err);\n",
    "    \n",
    "    @printf(\"h = %g: abs. err = %g\\n\", h, err);\n",
    "end"
   ]
  },
  {
   "cell_type": "code",
   "execution_count": null,
   "id": "d15214ca-f0e7-40b8-abcb-c23f64ef65e5",
   "metadata": {},
   "outputs": [],
   "source": [
    "scatter(h_vals, err_vals, label=\"\", xscale=:log10, yscale=:log10)\n",
    "xlabel!(L\"$h$\")\n",
    "ylabel!(\"Absolute Error\")"
   ]
  }
 ],
 "metadata": {
  "kernelspec": {
   "display_name": "Julia 1.7.0-rc2",
   "language": "julia",
   "name": "julia-1.7"
  },
  "language_info": {
   "file_extension": ".jl",
   "mimetype": "application/julia",
   "name": "julia",
   "version": "1.7.0"
  }
 },
 "nbformat": 4,
 "nbformat_minor": 5
}
