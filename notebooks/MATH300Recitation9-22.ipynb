{
 "cells": [
  {
   "cell_type": "markdown",
   "metadata": {},
   "source": [
    "# MATH 300: Numerical Analysis I Recitation\n",
    "\n",
    "## Instructor: Liam Doherty\n",
    "\n",
    "## Meeting Time/Place: W 11:00AM, Curtis 344\n",
    "\n",
    "### Office Availability: MRC hours MTR 5p-7p (M 5-7 & T 5-6 FTF, others online), or in Korman 257 by appointment"
   ]
  },
  {
   "cell_type": "markdown",
   "metadata": {},
   "source": [
    "We'll start with some Julia basics. Let's first have a look at some resources available for the language:\n",
    "\n",
    "Julia main page: www.julialang.org\n",
    "\n",
    "Documentation: https://docs.julialang.org/en/v1/\n",
    "\n",
    "Discourse: https://discourse.julialang.org/\n",
    "\n",
    "Some docs pages for common packages:\n",
    "\n",
    "* Plots: http://docs.juliaplots.org/latest/\n",
    "\n",
    "* Linear Algebra: https://docs.julialang.org/en/v1/stdlib/LinearAlgebra/\n",
    "\n",
    "* Differential Equations: https://diffeq.sciml.ai/stable/\n",
    "\n",
    "* Statistics: https://docs.julialang.org/en/v1/stdlib/Statistics/\n",
    "\n",
    "I expect that we will only need the Plots (and maybe LinearAlgebra) packages for most programs in this course. To add a package that you do not have downloaded, navigate to the REPL (in the terminal area with Atom or VS Code) and type\n",
    "\n",
    "] add [PackageName]\n",
    "\n",
    "The ] at the beginning brings you to the package manager. Example in Atom.\n",
    "\n",
    "Once you do this, you should be able to use your packages in code like so:"
   ]
  },
  {
   "cell_type": "code",
   "execution_count": 1,
   "metadata": {},
   "outputs": [],
   "source": [
    "using Plots"
   ]
  },
  {
   "cell_type": "markdown",
   "metadata": {},
   "source": [
    "If you've made a typo, or you don't have the package installed, you'll get a message like"
   ]
  },
  {
   "cell_type": "code",
   "execution_count": 2,
   "metadata": {},
   "outputs": [
    {
     "ename": "LoadError",
     "evalue": "ArgumentError: Package BadPackage not found in current path:\n- Run `import Pkg; Pkg.add(\"BadPackage\")` to install the BadPackage package.\n",
     "output_type": "error",
     "traceback": [
      "ArgumentError: Package BadPackage not found in current path:\n- Run `import Pkg; Pkg.add(\"BadPackage\")` to install the BadPackage package.\n",
      "",
      "Stacktrace:",
      " [1] require(into::Module, mod::Symbol)",
      "   @ Base ./loading.jl:871",
      " [2] eval",
      "   @ ./boot.jl:360 [inlined]",
      " [3] include_string(mapexpr::typeof(REPL.softscope), mod::Module, code::String, filename::String)",
      "   @ Base ./loading.jl:1094"
     ]
    }
   ],
   "source": [
    "using BadPackage"
   ]
  },
  {
   "cell_type": "markdown",
   "metadata": {},
   "source": [
    "If you get this, try installing [BadPackage] using the method above. If you've spelled it right and the package exists and is functional, retrying the above command (using BadPackage) should work just fine. Now that we're able to navigate around the IDE and install packages, let's look at some different types of variables that will show up in code:"
   ]
  },
  {
   "cell_type": "code",
   "execution_count": 3,
   "metadata": {},
   "outputs": [
    {
     "data": {
      "text/plain": [
       "1.0"
      ]
     },
     "execution_count": 3,
     "metadata": {},
     "output_type": "execute_result"
    }
   ],
   "source": [
    "name = \"Liam Doherty\" # Strings\n",
    "integer = 10 # Integer number\n",
    "float = 2.7 # Floating Point number\n",
    "integer_as_float = 1. # Integer value, stored as floating point (useful for type stability)"
   ]
  },
  {
   "cell_type": "markdown",
   "metadata": {},
   "source": [
    "You can suppress outputs with semicolons:"
   ]
  },
  {
   "cell_type": "code",
   "execution_count": 5,
   "metadata": {},
   "outputs": [],
   "source": [
    "variable = 4;"
   ]
  },
  {
   "cell_type": "markdown",
   "metadata": {},
   "source": [
    "If we're unsure of the type of a variable, we can use typeof() to check it!"
   ]
  },
  {
   "cell_type": "code",
   "execution_count": 6,
   "metadata": {},
   "outputs": [
    {
     "data": {
      "text/plain": [
       "Float64"
      ]
     },
     "execution_count": 6,
     "metadata": {},
     "output_type": "execute_result"
    }
   ],
   "source": [
    "typeof(integer_as_float)"
   ]
  },
  {
   "cell_type": "markdown",
   "metadata": {},
   "source": [
    "If we want to print something (i.e., outside of Jupyter notebooks or if we want to print more than just the last result in Jupyter notebooks), we can use println:"
   ]
  },
  {
   "cell_type": "code",
   "execution_count": 80,
   "metadata": {},
   "outputs": [
    {
     "name": "stdout",
     "output_type": "stream",
     "text": [
      "Liam Doherty\n",
      "2.7\n"
     ]
    }
   ],
   "source": [
    "println(name)\n",
    "println(float)"
   ]
  },
  {
   "cell_type": "markdown",
   "metadata": {},
   "source": [
    "Technically, print works as well, but println adds a line break, which is often convenient (and is what Python's print statement does by default).\n",
    "\n",
    "If we ever want to look at documentation on a particular function (but don't want to go searching online), we can do that with the ? prefix:"
   ]
  },
  {
   "cell_type": "code",
   "execution_count": 24,
   "metadata": {},
   "outputs": [
    {
     "name": "stdout",
     "output_type": "stream",
     "text": [
      "search: \u001b[0m\u001b[1mp\u001b[22m\u001b[0m\u001b[1mr\u001b[22m\u001b[0m\u001b[1mi\u001b[22m\u001b[0m\u001b[1mn\u001b[22m\u001b[0m\u001b[1mt\u001b[22m\u001b[0m\u001b[1ml\u001b[22m\u001b[0m\u001b[1mn\u001b[22m \u001b[0m\u001b[1mp\u001b[22m\u001b[0m\u001b[1mr\u001b[22m\u001b[0m\u001b[1mi\u001b[22m\u001b[0m\u001b[1mn\u001b[22m\u001b[0m\u001b[1mt\u001b[22msty\u001b[0m\u001b[1ml\u001b[22med \u001b[0m\u001b[1mp\u001b[22m\u001b[0m\u001b[1mr\u001b[22m\u001b[0m\u001b[1mi\u001b[22m\u001b[0m\u001b[1mn\u001b[22m\u001b[0m\u001b[1mt\u001b[22m s\u001b[0m\u001b[1mp\u001b[22m\u001b[0m\u001b[1mr\u001b[22m\u001b[0m\u001b[1mi\u001b[22m\u001b[0m\u001b[1mn\u001b[22m\u001b[0m\u001b[1mt\u001b[22m is\u001b[0m\u001b[1mp\u001b[22m\u001b[0m\u001b[1mr\u001b[22m\u001b[0m\u001b[1mi\u001b[22m\u001b[0m\u001b[1mn\u001b[22m\u001b[0m\u001b[1mt\u001b[22m \u001b[0m\u001b[1mp\u001b[22ma\u001b[0m\u001b[1mr\u001b[22mametr\u001b[0m\u001b[1mi\u001b[22mc_colora\u001b[0m\u001b[1mn\u001b[22m\u001b[0m\u001b[1mt\u001b[22m\n",
      "\n"
     ]
    },
    {
     "data": {
      "text/latex": [
       "\\begin{verbatim}\n",
       "println([io::IO], xs...)\n",
       "\\end{verbatim}\n",
       "Print (using \\href{@ref}{\\texttt{print}}) \\texttt{xs} followed by a newline. If \\texttt{io} is not supplied, prints to \\href{@ref}{\\texttt{stdout}}.\n",
       "\n",
       "\\section{Examples}\n",
       "\\begin{verbatim}\n",
       "julia> println(\"Hello, world\")\n",
       "Hello, world\n",
       "\n",
       "julia> io = IOBuffer();\n",
       "\n",
       "julia> println(io, \"Hello, world\")\n",
       "\n",
       "julia> String(take!(io))\n",
       "\"Hello, world\\n\"\n",
       "\\end{verbatim}\n"
      ],
      "text/markdown": [
       "```\n",
       "println([io::IO], xs...)\n",
       "```\n",
       "\n",
       "Print (using [`print`](@ref)) `xs` followed by a newline. If `io` is not supplied, prints to [`stdout`](@ref).\n",
       "\n",
       "# Examples\n",
       "\n",
       "```jldoctest\n",
       "julia> println(\"Hello, world\")\n",
       "Hello, world\n",
       "\n",
       "julia> io = IOBuffer();\n",
       "\n",
       "julia> println(io, \"Hello, world\")\n",
       "\n",
       "julia> String(take!(io))\n",
       "\"Hello, world\\n\"\n",
       "```\n"
      ],
      "text/plain": [
       "\u001b[36m  println([io::IO], xs...)\u001b[39m\n",
       "\n",
       "  Print (using \u001b[36mprint\u001b[39m) \u001b[36mxs\u001b[39m followed by a newline. If \u001b[36mio\u001b[39m is not supplied, prints\n",
       "  to \u001b[36mstdout\u001b[39m.\n",
       "\n",
       "\u001b[1m  Examples\u001b[22m\n",
       "\u001b[1m  ≡≡≡≡≡≡≡≡≡≡\u001b[22m\n",
       "\n",
       "\u001b[36m  julia> println(\"Hello, world\")\u001b[39m\n",
       "\u001b[36m  Hello, world\u001b[39m\n",
       "\u001b[36m  \u001b[39m\n",
       "\u001b[36m  julia> io = IOBuffer();\u001b[39m\n",
       "\u001b[36m  \u001b[39m\n",
       "\u001b[36m  julia> println(io, \"Hello, world\")\u001b[39m\n",
       "\u001b[36m  \u001b[39m\n",
       "\u001b[36m  julia> String(take!(io))\u001b[39m\n",
       "\u001b[36m  \"Hello, world\\n\"\u001b[39m"
      ]
     },
     "execution_count": 24,
     "metadata": {},
     "output_type": "execute_result"
    }
   ],
   "source": [
    "? println"
   ]
  },
  {
   "cell_type": "markdown",
   "metadata": {},
   "source": [
    "Now, let's take a look at one of the most important structures in Julia that will be in almost all code: functions. The basic syntax is"
   ]
  },
  {
   "cell_type": "code",
   "execution_count": 9,
   "metadata": {},
   "outputs": [
    {
     "data": {
      "text/plain": [
       "function_name (generic function with 1 method)"
      ]
     },
     "execution_count": 9,
     "metadata": {},
     "output_type": "execute_result"
    }
   ],
   "source": [
    "function function_name(input)\n",
    "    # Do stuff to shift input to output\n",
    "    output = input\n",
    "    return output\n",
    "end"
   ]
  },
  {
   "cell_type": "markdown",
   "metadata": {},
   "source": [
    "Notice a few things:\n",
    "\n",
    "The function name is all lowercase and uses underscores for word separation. This is in contrast to the package names like LinearAlgebra which use camel case.\n",
    "\n",
    "Another thing to notice is that there is a return statement. Please use it! Julia technically does not require it, and will return the last value (i.e., if I just wrote output instead of return output), but for purposes of readability the return statement is very useful.\n",
    "\n",
    "Third, notice the indentation. While not strictly required (unlike Python), indentation is critical to writing good, readable code. While there are ends for statements/functions/etc, it is much easier to keep track of nesting structure when there is proper indentation. Every time you have a new block of code requiring an end, indent one more time. \n",
    "\n",
    "Finally, notice the function ... end syntax. This should be very familiar to you if you've used MATLAB. The end statement is all over the place (functions, for loops, conditional statements, etc.), so if you are primarily a Python programmer, pay attention and don't forget them!"
   ]
  },
  {
   "cell_type": "markdown",
   "metadata": {},
   "source": [
    "You can also write (small) functions inline (think of these as easy-to-write mathematical functions like x^2):"
   ]
  },
  {
   "cell_type": "code",
   "execution_count": 10,
   "metadata": {},
   "outputs": [
    {
     "data": {
      "text/plain": [
       "f (generic function with 1 method)"
      ]
     },
     "execution_count": 10,
     "metadata": {},
     "output_type": "execute_result"
    }
   ],
   "source": [
    "f(x) = x^2"
   ]
  },
  {
   "cell_type": "code",
   "execution_count": 11,
   "metadata": {},
   "outputs": [
    {
     "data": {
      "text/plain": [
       "16"
      ]
     },
     "execution_count": 11,
     "metadata": {},
     "output_type": "execute_result"
    }
   ],
   "source": [
    "f(4)"
   ]
  },
  {
   "cell_type": "markdown",
   "metadata": {},
   "source": [
    "If you want, you can also set defaults in your function's inputs, or use keyword arguments:"
   ]
  },
  {
   "cell_type": "code",
   "execution_count": 76,
   "metadata": {},
   "outputs": [
    {
     "data": {
      "text/plain": [
       "calculate_gravity_force_earth (generic function with 2 methods)"
      ]
     },
     "execution_count": 76,
     "metadata": {},
     "output_type": "execute_result"
    }
   ],
   "source": [
    "function calculate_gravity_force_earth(mass, g = 9.8; return_force = true)\n",
    "    if return_force == true\n",
    "        return mass*g\n",
    "    else\n",
    "        return -1.\n",
    "    end\n",
    "end"
   ]
  },
  {
   "cell_type": "code",
   "execution_count": 77,
   "metadata": {},
   "outputs": [
    {
     "data": {
      "text/plain": [
       "98.0"
      ]
     },
     "execution_count": 77,
     "metadata": {},
     "output_type": "execute_result"
    }
   ],
   "source": [
    "calculate_gravity_force_earth(10)"
   ]
  },
  {
   "cell_type": "code",
   "execution_count": 78,
   "metadata": {},
   "outputs": [
    {
     "data": {
      "text/plain": [
       "-1.0"
      ]
     },
     "execution_count": 78,
     "metadata": {},
     "output_type": "execute_result"
    }
   ],
   "source": [
    "calculate_gravity_force_earth(10, return_force = false)"
   ]
  },
  {
   "cell_type": "markdown",
   "metadata": {},
   "source": [
    "A very common data structure that is used in numerical analysis codes is the matrix (vector). Let's look at some basic syntax surrounding them:"
   ]
  },
  {
   "cell_type": "code",
   "execution_count": 25,
   "metadata": {},
   "outputs": [
    {
     "data": {
      "text/plain": [
       "2×2 Matrix{Int64}:\n",
       " 1  2\n",
       " 3  4"
      ]
     },
     "execution_count": 25,
     "metadata": {},
     "output_type": "execute_result"
    }
   ],
   "source": [
    "A = [1 2; 3 4]"
   ]
  },
  {
   "cell_type": "code",
   "execution_count": 26,
   "metadata": {},
   "outputs": [
    {
     "data": {
      "text/plain": [
       "1×4 Matrix{Int64}:\n",
       " 1  2  3  4"
      ]
     },
     "execution_count": 26,
     "metadata": {},
     "output_type": "execute_result"
    }
   ],
   "source": [
    "V = [1 2 3 4]"
   ]
  },
  {
   "cell_type": "code",
   "execution_count": 27,
   "metadata": {},
   "outputs": [
    {
     "data": {
      "text/plain": [
       "4-element Vector{Int64}:\n",
       " 1\n",
       " 2\n",
       " 3\n",
       " 4"
      ]
     },
     "execution_count": 27,
     "metadata": {},
     "output_type": "execute_result"
    }
   ],
   "source": [
    "VT = [1; 2; 3; 4] # Transpose of V, often we want column vectors. Also, notice that this is a vector, not a matrix!"
   ]
  },
  {
   "cell_type": "code",
   "execution_count": 28,
   "metadata": {},
   "outputs": [
    {
     "data": {
      "text/plain": [
       "4×1 adjoint(::Matrix{Int64}) with eltype Int64:\n",
       " 1\n",
       " 2\n",
       " 3\n",
       " 4"
      ]
     },
     "execution_count": 28,
     "metadata": {},
     "output_type": "execute_result"
    }
   ],
   "source": [
    "V' # We can also take the transpose directly with ', but again notice the type difference!"
   ]
  },
  {
   "cell_type": "markdown",
   "metadata": {},
   "source": [
    "One thing to note is that Julia uses 1-based indexing. That is, indexing arrays/vectors starts at 1, not 0:"
   ]
  },
  {
   "cell_type": "code",
   "execution_count": 35,
   "metadata": {},
   "outputs": [
    {
     "name": "stdout",
     "output_type": "stream",
     "text": [
      "1\n"
     ]
    }
   ],
   "source": [
    "println(V[1])"
   ]
  },
  {
   "cell_type": "markdown",
   "metadata": {},
   "source": [
    "We can also slice arrays to obtain pieces of them without mutilating the original array:"
   ]
  },
  {
   "cell_type": "code",
   "execution_count": 37,
   "metadata": {},
   "outputs": [
    {
     "data": {
      "text/plain": [
       "3×3 Matrix{Int64}:\n",
       " 1  2  3\n",
       " 4  5  6\n",
       " 7  8  9"
      ]
     },
     "execution_count": 37,
     "metadata": {},
     "output_type": "execute_result"
    }
   ],
   "source": [
    "B = [1 2 3; 4 5 6; 7 8 9]"
   ]
  },
  {
   "cell_type": "code",
   "execution_count": 38,
   "metadata": {},
   "outputs": [
    {
     "data": {
      "text/plain": [
       "3-element Vector{Int64}:\n",
       " 3\n",
       " 6\n",
       " 9"
      ]
     },
     "execution_count": 38,
     "metadata": {},
     "output_type": "execute_result"
    }
   ],
   "source": [
    "B[:, 3]"
   ]
  },
  {
   "cell_type": "code",
   "execution_count": 82,
   "metadata": {},
   "outputs": [
    {
     "data": {
      "text/plain": [
       "2×2 Matrix{Int64}:\n",
       " 2  3\n",
       " 5  6"
      ]
     },
     "execution_count": 82,
     "metadata": {},
     "output_type": "execute_result"
    }
   ],
   "source": [
    "B[1:2, 2:end] # Notice the use of end here!"
   ]
  },
  {
   "cell_type": "markdown",
   "metadata": {},
   "source": [
    "Another important distinction to make with Julia from, say, Python, is that it is a column-major language. What this means is if we were to \"flatten\" an array, it would read column by column instead of row by row. Example:"
   ]
  },
  {
   "cell_type": "code",
   "execution_count": 44,
   "metadata": {},
   "outputs": [
    {
     "name": "stdout",
     "output_type": "stream",
     "text": [
      "1 4 7 2 5 8 3 6 9 "
     ]
    }
   ],
   "source": [
    "for i = 1:length(B)\n",
    "    print(\"$(B[i]) \")\n",
    "end"
   ]
  },
  {
   "cell_type": "markdown",
   "metadata": {},
   "source": [
    "This may have implications in, for example, loops where you are indexing over an array. It isn't common, but it's good to have in the back of your mind when debugging (especially since Julia won't throw an error for something like this, but your output will still be garbage! A good practice is to check your output and make sure it is what you \"expect\").\n",
    "\n",
    "Now we can take a look at some control flow (there are some examples above too)!"
   ]
  },
  {
   "cell_type": "code",
   "execution_count": 65,
   "metadata": {},
   "outputs": [
    {
     "name": "stdout",
     "output_type": "stream",
     "text": [
      "1 2 3 4 5 \n",
      "1 2 3 4 5 \n",
      "k is larger than 50!\n"
     ]
    }
   ],
   "source": [
    "for i = 1:5\n",
    "    print(\"$i \")\n",
    "end\n",
    "\n",
    "println() # Line break in output\n",
    "\n",
    "j = 1\n",
    "while j <= 5\n",
    "    print(\"$j \")\n",
    "    j += 1\n",
    "end\n",
    "\n",
    "println()\n",
    "\n",
    "k = 100\n",
    "if k > 50\n",
    "    println(\"k is larger than 50!\")\n",
    "elseif k > 25\n",
    "    println(\"k is greater than 25!\")\n",
    "else\n",
    "    println(\"k is less than 25.\")\n",
    "end"
   ]
  },
  {
   "cell_type": "markdown",
   "metadata": {},
   "source": [
    "Two statements that are useful in loops are continue and break. Continue skips the rest of the code in the outer block and goes to the next iterate (i.e., starts back at the top), and break immediately jumps out of the loop entirely."
   ]
  },
  {
   "cell_type": "code",
   "execution_count": 55,
   "metadata": {},
   "outputs": [
    {
     "name": "stdout",
     "output_type": "stream",
     "text": [
      "10\n",
      "11\n",
      "12\n",
      "13\n",
      "14\n",
      "15\n",
      "16\n",
      "17\n",
      "18\n",
      "19\n",
      "20\n"
     ]
    }
   ],
   "source": [
    "i = 1\n",
    "while true\n",
    "    if i < 10\n",
    "        i += 1\n",
    "        continue\n",
    "    elseif i > 20\n",
    "        break\n",
    "    else\n",
    "        println(i)\n",
    "        i += 1\n",
    "    end\n",
    "end"
   ]
  },
  {
   "cell_type": "markdown",
   "metadata": {},
   "source": [
    "Another important concept is that of broadcasting. This will likely appear frequently in your Julia code. Let's say you have a function that takes an integer (notice the type specification) and multiplies it by 6:"
   ]
  },
  {
   "cell_type": "code",
   "execution_count": 56,
   "metadata": {},
   "outputs": [
    {
     "data": {
      "text/plain": [
       "multiply_by_6 (generic function with 1 method)"
      ]
     },
     "execution_count": 56,
     "metadata": {},
     "output_type": "execute_result"
    }
   ],
   "source": [
    "function multiply_by_6(n::Int)\n",
    "   return 6*n\n",
    "end"
   ]
  },
  {
   "cell_type": "markdown",
   "metadata": {},
   "source": [
    "What happens if we want to apply this function to an entire array? Let's see what happens."
   ]
  },
  {
   "cell_type": "code",
   "execution_count": 57,
   "metadata": {},
   "outputs": [
    {
     "data": {
      "text/plain": [
       "1×3 Matrix{Int64}:\n",
       " 1  2  3"
      ]
     },
     "execution_count": 57,
     "metadata": {},
     "output_type": "execute_result"
    }
   ],
   "source": [
    "array = [1 2 3]"
   ]
  },
  {
   "cell_type": "code",
   "execution_count": 58,
   "metadata": {},
   "outputs": [
    {
     "ename": "LoadError",
     "evalue": "MethodError: no method matching multiply_by_6(::Matrix{Int64})\n\u001b[0mClosest candidates are:\n\u001b[0m  multiply_by_6(\u001b[91m::Int64\u001b[39m) at In[56]:1",
     "output_type": "error",
     "traceback": [
      "MethodError: no method matching multiply_by_6(::Matrix{Int64})\n\u001b[0mClosest candidates are:\n\u001b[0m  multiply_by_6(\u001b[91m::Int64\u001b[39m) at In[56]:1",
      "",
      "Stacktrace:",
      " [1] top-level scope",
      "   @ In[58]:1",
      " [2] eval",
      "   @ ./boot.jl:360 [inlined]",
      " [3] include_string(mapexpr::typeof(REPL.softscope), mod::Module, code::String, filename::String)",
      "   @ Base ./loading.jl:1094"
     ]
    }
   ],
   "source": [
    "multiply_by_6(array)"
   ]
  },
  {
   "cell_type": "markdown",
   "metadata": {},
   "source": [
    "We have an issue, since the function is designed to take in a single integer, not a list of them! To fix this, we can use broadcasting. Syntactically, all we need to do is put a simple \".\" operator."
   ]
  },
  {
   "cell_type": "code",
   "execution_count": 83,
   "metadata": {},
   "outputs": [
    {
     "data": {
      "text/plain": [
       "1×3 Matrix{Int64}:\n",
       " 6  12  18"
      ]
     },
     "execution_count": 83,
     "metadata": {},
     "output_type": "execute_result"
    }
   ],
   "source": [
    "@. multiply_by_6(array)"
   ]
  },
  {
   "cell_type": "markdown",
   "metadata": {},
   "source": [
    "This will (more or less) unpack the array, feed each element into the function, and then package the output in the same way that the input was provided. This is very helpful in many scenarios where we want to evaluate a function many times (maybe at several timesteps, etc.) and we can do it easily with this notation! Additionally, if it is awkward to use this kind of notation but you still want to perform operations on an entire array at once, you can use the \".\" macro:"
   ]
  },
  {
   "cell_type": "code",
   "execution_count": 75,
   "metadata": {},
   "outputs": [
    {
     "name": "stdout",
     "output_type": "stream",
     "text": [
      "1.0, 3.0\n",
      "3.0, 5.0\n"
     ]
    }
   ],
   "source": [
    "xs = LinRange(-1, 1, 100)\n",
    "xs = convert(Vector, xs)\n",
    "\n",
    "xs .+= 2 # One way of doing this is to use the usual dot in front of the operator, but this looks a bit awkward\n",
    "println(\"$(xs[1]), $(xs[end])\")\n",
    "\n",
    "@. xs += 2 # Using the \".\" macro (macros have @ in front of them, and there are many macros with many different uses)\n",
    "println(\"$(xs[1]), $(xs[end])\")"
   ]
  },
  {
   "cell_type": "markdown",
   "metadata": {},
   "source": [
    "For the ambitious among you, there are many more features of Julia's core, not even considering the rich ecosystem of packages that are available! Julia's documentation (link at the top of this notebook) gives all that you need to be able to learn the intricacies of the base language, with more advanced concepts that are more Julia-specific (as opposed to the syntax here, where most of the above is in some way present in other languages). Give the docs a look, or even jump into learning the most common packages, like Plots and DifferentialEquations, or even have some fun with more advanced packages like Flux (deep learning) or Turing (probabilistic programming) or many of the others!"
   ]
  }
 ],
 "metadata": {
  "kernelspec": {
   "display_name": "Julia 1.6.0",
   "language": "julia",
   "name": "julia-1.6"
  },
  "language_info": {
   "file_extension": ".jl",
   "mimetype": "application/julia",
   "name": "julia",
   "version": "1.6.0"
  }
 },
 "nbformat": 4,
 "nbformat_minor": 4
}
