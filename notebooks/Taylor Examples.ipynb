{
 "cells": [
  {
   "cell_type": "markdown",
   "id": "47f95c79-8943-49d2-855e-1ee0d85fc587",
   "metadata": {},
   "source": [
    "# Taylor Polynomial Examples\n",
    "Demonstrate Approximation of a function by Taylor Polynomials and show that the approximation improves as the degree of the polyomial increases\n"
   ]
  },
  {
   "cell_type": "code",
   "execution_count": null,
   "id": "fe7c28d2-a586-4aed-a9a0-27e6aa844764",
   "metadata": {},
   "outputs": [],
   "source": [
    "using Plots; pyplot()\n",
    "using LaTeXStrings\n",
    "using Printf"
   ]
  },
  {
   "cell_type": "code",
   "execution_count": null,
   "id": "bc4b583d-a412-41f0-8483-4c6a750d111d",
   "metadata": {},
   "outputs": [],
   "source": [
    "default(lw=2,markersize = 6,\n",
    "    xtickfont=font(12), ytickfont=font(12), \n",
    "    guidefont=font(14), legendfont=font(12),titlefont=font(12))"
   ]
  },
  {
   "cell_type": "markdown",
   "id": "6d78689f-df1c-40fd-b26d-c244cbfa2171",
   "metadata": {},
   "source": [
    "## Example 1\n",
    "$$\n",
    "f(x) = e^x\n",
    "$$\n",
    "Since the $n$-th derivative of $e^x$ is again $e^x$, this is all we need."
   ]
  },
  {
   "cell_type": "code",
   "execution_count": null,
   "id": "12d23db6-b162-436d-8921-acbf0c50eb36",
   "metadata": {},
   "outputs": [],
   "source": [
    "f = x-> exp(x); # define the function\n",
    "x0 = 0; # set the ``center''\n",
    "n_max = 5; # set the maximum number of terms we will include"
   ]
  },
  {
   "cell_type": "code",
   "execution_count": null,
   "id": "41cdecef-c123-4349-b5af-16f40c335eeb",
   "metadata": {},
   "outputs": [],
   "source": [
    "x = LinRange(x0-5, x0+5, 100); # plot with 100 points over the indicated interval\n",
    "\n",
    "# plot the function\n",
    "plot(x, f.(x), label=L\"$e^x$\", legend=:topleft)\n",
    "\n",
    "# allocate space for the polynomial approximation, and incrementally add and plot\n",
    "P = zeros(length(x)); # same size as the 'x' variable\n",
    "for k in 0:n_max\n",
    "    @. P += f(x0)/factorial(k) * (x-x0)^k;\n",
    "    plot!(x, P, label=latexstring(@sprintf(\"\\$P_{%d}\\$\", k)))\n",
    "end\n",
    "\n",
    "xlabel!(L\"$x$\")"
   ]
  },
  {
   "cell_type": "markdown",
   "id": "58ef9e49-5bde-4899-bf5f-0857b6bd06d6",
   "metadata": {},
   "source": [
    "## Example 2\n",
    "As a second example, consider \n",
    "$$\n",
    "f(x) = \\sin(x)\n",
    "$$\n",
    "Now, each $f^{(n)}(x)$  will be different, so we will have to work them out."
   ]
  },
  {
   "cell_type": "code",
   "execution_count": null,
   "id": "5e41ae7f-6084-40d4-a77a-849c9caa36e3",
   "metadata": {},
   "outputs": [],
   "source": [
    "f = x-> sin(x);\n",
    "f_n = [f, x->cos(x), x->-sin(x), x->-cos(x), x-> sin(x), x->cos(x), x->-sin(x)];\n",
    "x0 = 0;\n",
    "\n",
    "n_max = length(f_n)-1; # arrays are indexed starting at 1, not 0, in Julia"
   ]
  },
  {
   "cell_type": "code",
   "execution_count": null,
   "id": "79a50b82-e441-480f-be73-a77fcdb1f9e3",
   "metadata": {},
   "outputs": [],
   "source": [
    "x = LinRange(x0-2, x0+2, 100); # plot with 100 points over the indicated interval\n",
    "\n",
    "# plot the function\n",
    "plot(x, f.(x), label=L\"$\\sin(x)$\", legend=:topleft)\n",
    "\n",
    "# allocate space for the polynomial approximation, and incrementally add and plot\n",
    "P = zeros(length(x)); # same size as the 'x' variable\n",
    "for k in 0:n_max\n",
    "    @. P += f_n[k+1](x0)/factorial(k) * (x-x0)^k;\n",
    "    plot!(x, P, label=latexstring(@sprintf(\"\\$P_{%d}\\$\", k)))\n",
    "end\n",
    "\n",
    "xlabel!(L\"$x$\")"
   ]
  },
  {
   "cell_type": "markdown",
   "id": "ddbbb8e1-b86c-472d-be7b-a0f142d5295a",
   "metadata": {},
   "source": [
    "## Example 3\n",
    "Try\n",
    "$$\n",
    "f(x) = x^{1/3}\n",
    "$$\n",
    "about $x_0 = 2$.  Again, we will need to work out the derivatives."
   ]
  },
  {
   "cell_type": "code",
   "execution_count": null,
   "id": "a54ec027-465b-444c-b18b-a6dfd9d5ebe1",
   "metadata": {},
   "outputs": [],
   "source": [
    "f = x-> x^(1/3);\n",
    "\n",
    "f_n = [f, x->1/3 * x^(-2/3),x-> -2/9 * x^(-5/3), \n",
    "    x-> 10/27 * x^(-8/3), x->-80/81 * x^(-11/3)];\n",
    "x0 = 2;\n",
    "\n",
    "n_max = length(f_n)-1; # arrays are indexed starting at 1, not 0, in Julia"
   ]
  },
  {
   "cell_type": "code",
   "execution_count": null,
   "id": "277a5aca-2862-4c87-90ad-90d8d9cc814d",
   "metadata": {},
   "outputs": [],
   "source": [
    "x = LinRange(1, x0+1, 100); # plot with 100 points over the indicated interval\n",
    "\n",
    "# plot the function\n",
    "plot(x, f.(x), label=L\"$x^{1/3}$\", legend=:topleft)\n",
    "\n",
    "# allocate space for the polynomial approximation, and incrementally add and plot\n",
    "P = zeros(length(x)); # same size as the 'x' variable\n",
    "for k in 0:n_max\n",
    "    @. P += f_n[k+1](x0)/factorial(k) * (x-x0)^k;\n",
    "    plot!(x, P, label=latexstring(@sprintf(\"\\$P_{%d}\\$\", k)))\n",
    "end\n",
    "\n",
    "xlabel!(L\"$x$\")"
   ]
  },
  {
   "cell_type": "markdown",
   "id": "80deed1d-3630-419a-856e-3368359199bd",
   "metadata": {},
   "source": [
    "## Example 4\n",
    "Trivally, let us try\n",
    "$$\n",
    "f(x) = x^3 - x^2 +1\n",
    "$$\n",
    "which is a polynomial itself.  Try this with $x_0 = 2$."
   ]
  },
  {
   "cell_type": "code",
   "execution_count": null,
   "id": "a1c76581-217f-4e4b-8f6f-3ab98a9ef7b3",
   "metadata": {},
   "outputs": [],
   "source": [
    "f = x-> x^3 - x^2 +1;\n",
    "\n",
    "f_n = [f, x->3*x^2-2*x,x-> 6*x-2,x->6,x->0];\n",
    "x0 = 2;\n",
    "\n",
    "n_max = length(f_n)-1; # arrays are indexed starting at 1, not 0, in Julia"
   ]
  },
  {
   "cell_type": "code",
   "execution_count": null,
   "id": "5b511071-e743-4055-9ef0-26becfe17869",
   "metadata": {},
   "outputs": [],
   "source": [
    "x = LinRange(1, x0+1, 100); # plot with 100 points over the indicated interval\n",
    "\n",
    "# plot the function\n",
    "plot(x, f.(x), label=L\"$ x^3 - x^2 +1$\", legend=:topleft)\n",
    "\n",
    "# allocate space for the polynomial approximation, and incrementally add and plot\n",
    "P = zeros(length(x)); # same size as the 'x' variable\n",
    "for k in 0:n_max\n",
    "    @. P += f_n[k+1](x0)/factorial(k) * (x-x0)^k;\n",
    "    plot!(x, P, label=latexstring(@sprintf(\"\\$P_{%d}\\$\", k)))\n",
    "end\n",
    "\n",
    "xlabel!(L\"$x$\")"
   ]
  }
 ],
 "metadata": {
  "kernelspec": {
   "display_name": "Julia 1.6.2",
   "language": "julia",
   "name": "julia-1.6"
  },
  "language_info": {
   "file_extension": ".jl",
   "mimetype": "application/julia",
   "name": "julia",
   "version": "1.6.2"
  }
 },
 "nbformat": 4,
 "nbformat_minor": 5
}
