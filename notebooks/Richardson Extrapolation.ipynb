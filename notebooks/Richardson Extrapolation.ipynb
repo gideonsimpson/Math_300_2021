{
 "cells": [
  {
   "cell_type": "markdown",
   "id": "4ab5e540-3590-449a-8c77-506d45e7f190",
   "metadata": {},
   "source": [
    "# Examples of Richardson Extrapolation"
   ]
  },
  {
   "cell_type": "code",
   "execution_count": null,
   "id": "097f2a95-ecdb-4b6d-95c0-2b675add36eb",
   "metadata": {},
   "outputs": [],
   "source": [
    "using Printf\n",
    "using Trapz"
   ]
  },
  {
   "cell_type": "markdown",
   "id": "5085e299-bd79-4c51-ba96-3d019a5db504",
   "metadata": {},
   "source": [
    "## Differentiation Example\n",
    "Find the derivative of $f(x) = \\ln x$ at $x = 2$."
   ]
  },
  {
   "cell_type": "code",
   "execution_count": null,
   "id": "dc6aa15f-4b4d-4b7a-8b63-200ac98bca43",
   "metadata": {},
   "outputs": [],
   "source": [
    "x = 2;\n",
    "h = 0.1;\n",
    "estimate1 = (log(x+h) - log(x))/h;\n",
    "estimate2 = (log(x+h/2) - log(x))/(h/2);\n",
    "richardson_est = 2*estimate2 - estimate1;\n",
    "@printf(\"Exact = %g\\n\", 0.5);\n",
    "@printf(\"First estimate = %g, error = %g\\n\", estimate1, abs(estimate1-0.5));\n",
    "@printf(\"Second estimate = %g, error = %g\\n\", estimate2, abs(estimate2-0.5));\n",
    "@printf(\"Richardson estimate = %g, error = %g\\n\", richardson_est, abs(richardson_est-0.5));"
   ]
  },
  {
   "cell_type": "markdown",
   "id": "8ca975f7-1240-4d06-9b10-e73d43b5dec6",
   "metadata": {},
   "source": [
    "## Integration Example\n",
    "Compute\n",
    "$$\n",
    "\\int_1^2 x \\log x dx\n",
    "$$\n",
    "using trapezoidal rule and Richardson extrapolation."
   ]
  },
  {
   "cell_type": "code",
   "execution_count": null,
   "id": "c6fae3c6-8598-4dee-942b-4539ac80e5db",
   "metadata": {},
   "outputs": [],
   "source": [
    "f = x -> x * log(x);\n",
    "h = 0.2;\n",
    "x1 = 1:h:2;\n",
    "x2 = 1:h/2:2;\n",
    "\n",
    "estimate1 = trapz(x1, f.(x1));\n",
    "estimate2 = trapz(x2, f.(x2));\n",
    "richardson = 4/3 * estimate2 - 1/3 * estimate1;\n",
    "\n",
    "exact = -0.75 + log(4);\n",
    "\n",
    "@printf(\"Exact = %g\\n\", exact);\n",
    "@printf(\"First estimate = %g, error = %g\\n\", estimate1, abs(estimate1-exact));\n",
    "@printf(\"Second estimate = %g, error = %g\\n\", estimate2, abs(estimate2-exact));\n",
    "@printf(\"Richardson estimate = %g, error = %g\\n\", richardson, abs(richardson-exact));"
   ]
  }
 ],
 "metadata": {
  "kernelspec": {
   "display_name": "Julia 1.6.3",
   "language": "julia",
   "name": "julia-1.6"
  },
  "language_info": {
   "file_extension": ".jl",
   "mimetype": "application/julia",
   "name": "julia",
   "version": "1.6.3"
  }
 },
 "nbformat": 4,
 "nbformat_minor": 5
}
