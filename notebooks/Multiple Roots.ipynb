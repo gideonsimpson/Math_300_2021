{
 "cells": [
  {
   "cell_type": "markdown",
   "id": "da8a138d-1f4b-48c7-8023-4cdc5091c1e4",
   "metadata": {},
   "source": [
    "# Multiple Roots"
   ]
  },
  {
   "cell_type": "code",
   "execution_count": null,
   "id": "eace32e4-c836-45fb-aa45-cb3de84a8896",
   "metadata": {},
   "outputs": [],
   "source": [
    "using Plots; pyplot()\n",
    "using LaTeXStrings\n",
    "using Printf"
   ]
  },
  {
   "cell_type": "code",
   "execution_count": null,
   "id": "56249a74-581c-47ad-b185-dcca1c9299d4",
   "metadata": {},
   "outputs": [],
   "source": [
    "default(lw=2,markersize = 6,\n",
    "    xtickfont=font(12), ytickfont=font(12), \n",
    "    guidefont=font(14), legendfont=font(12),titlefont=font(12))"
   ]
  },
  {
   "cell_type": "code",
   "execution_count": null,
   "id": "e0224bfd-f73e-4f9e-b264-b4b55c527210",
   "metadata": {},
   "outputs": [],
   "source": [
    "function newton(f, df, p0, n_max, rel_tol; verbose = true)\n",
    "    \n",
    "    converged = false;\n",
    "    p = p0;\n",
    "    p_old = p0;\n",
    "\n",
    "    for i in 1:n_max\n",
    "\n",
    "        p = p_old - f(p_old)/df(p_old);\n",
    "        \n",
    "        if verbose\n",
    "            @printf(\" %d: p = %g, f(p) = %g\\n\", i, p, f(p));\n",
    "        end\n",
    "\n",
    "        \n",
    "        if (i>1)\n",
    "            if abs(p-p_old)/abs(p)< rel_tol\n",
    "                converged = true;\n",
    "                break\n",
    "            end\n",
    "        end\n",
    "\n",
    "        p_old = p;\n",
    "\n",
    "    end\n",
    "    \n",
    "    if !converged\n",
    "        @printf(\"ERROR: Did not converge after %d iterations\\n\", n_max);\n",
    "    end\n",
    "\n",
    "    return p\n",
    "    \n",
    "end"
   ]
  },
  {
   "cell_type": "code",
   "execution_count": null,
   "id": "81dc0bb4-44f8-4c94-bfcc-167d029d2963",
   "metadata": {},
   "outputs": [],
   "source": [
    "function modified_newton(f, df, ddf, p0, n_max, rel_tol; verbose = true)\n",
    "    \n",
    "    converged = false;\n",
    "    p = p0;\n",
    "    p_old = p0;\n",
    "\n",
    "    for i in 1:n_max\n",
    "\n",
    "        p = p_old - f(p_old) * df(p_old)/(df(p_old)^2 - f(p_old) * ddf(p_old));\n",
    "        \n",
    "        if verbose\n",
    "            @printf(\" %d: p = %g, f(p) = %g\\n\", i, p, f(p));\n",
    "        end\n",
    "\n",
    "        \n",
    "        if (i>1)\n",
    "            if abs(p-p_old)/abs(p)< rel_tol\n",
    "                converged = true;\n",
    "                break\n",
    "            end\n",
    "        end\n",
    "\n",
    "        p_old = p;\n",
    "\n",
    "    end\n",
    "    \n",
    "    if !converged\n",
    "        @printf(\"ERROR: Did not converge after %d iterations\\n\", n_max);\n",
    "    end\n",
    "\n",
    "    return p\n",
    "    \n",
    "end"
   ]
  },
  {
   "cell_type": "markdown",
   "id": "e2c32811-1f8b-4ebf-afbe-4b83f7e7d5a8",
   "metadata": {},
   "source": [
    "# Example\n",
    "Find the root of\n",
    "$$\n",
    "f(x) = e^x - x -1\n",
    "$$\n",
    "which has a double root at zero using Newton."
   ]
  },
  {
   "cell_type": "code",
   "execution_count": null,
   "id": "25eaf9f6-e021-40f5-9604-09312d2d5a14",
   "metadata": {},
   "outputs": [],
   "source": [
    "f = x-> exp(x) - x -1;\n",
    "df = x-> exp(x) - 1;\n",
    "ddf = x-> exp(x);"
   ]
  },
  {
   "cell_type": "markdown",
   "id": "d085bef3-1be0-41f3-9819-9f4aab321b14",
   "metadata": {},
   "source": [
    "First, watch Newton struggle"
   ]
  },
  {
   "cell_type": "code",
   "execution_count": null,
   "id": "f78fcf79-3e07-434e-821d-51b7bbf8c678",
   "metadata": {},
   "outputs": [],
   "source": [
    "p0 = 1;\n",
    "rel_tol = 1e-8;\n",
    "n_max = 100;\n",
    "\n",
    "p = newton(f, df, p0, n_max, rel_tol);"
   ]
  },
  {
   "cell_type": "markdown",
   "id": "69dd4318-54a7-438e-8b4c-7aecf203d248",
   "metadata": {},
   "source": [
    "This is not quadratic convergence.   In fact, it is linear."
   ]
  },
  {
   "cell_type": "code",
   "execution_count": null,
   "id": "5ed020b5-6446-471e-b492-0111ee90114e",
   "metadata": {},
   "outputs": [],
   "source": [
    "p0 = 1;\n",
    "rel_tol = 1e-8;\n",
    "n_max = 100;\n",
    "\n",
    "p = modified_newton(f, df, ddf, p0, n_max, rel_tol);"
   ]
  },
  {
   "cell_type": "markdown",
   "id": "cd6cccf8-01c2-48a1-8746-703608331214",
   "metadata": {},
   "source": [
    "Higher order convergence is recovered."
   ]
  }
 ],
 "metadata": {
  "kernelspec": {
   "display_name": "Julia 1.6.3",
   "language": "julia",
   "name": "julia-1.6"
  },
  "language_info": {
   "file_extension": ".jl",
   "mimetype": "application/julia",
   "name": "julia",
   "version": "1.6.3"
  }
 },
 "nbformat": 4,
 "nbformat_minor": 5
}
