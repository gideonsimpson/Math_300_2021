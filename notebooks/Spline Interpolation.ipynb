{
 "cells": [
  {
   "cell_type": "markdown",
   "id": "7e6a79e5-9292-4874-a41b-92551b7324dc",
   "metadata": {},
   "source": [
    "# Spline Interpolation"
   ]
  },
  {
   "cell_type": "code",
   "execution_count": null,
   "id": "7279561e-286a-429e-b919-ba25ed9503bd",
   "metadata": {},
   "outputs": [],
   "source": [
    "using Plots; pyplot()\n",
    "using LaTeXStrings\n",
    "using Printf\n",
    "using Interpolations\n",
    "using Polynomials"
   ]
  },
  {
   "cell_type": "code",
   "execution_count": null,
   "id": "8368fdda-5119-48f3-88c4-32290df98c0a",
   "metadata": {},
   "outputs": [],
   "source": [
    "default(lw=2,markersize = 6,\n",
    "    xtickfont=font(12), ytickfont=font(12), \n",
    "    guidefont=font(14), legendfont=font(12),titlefont=font(12))"
   ]
  },
  {
   "cell_type": "markdown",
   "id": "e333bb6d-e682-4040-8ca8-ce02ac32a884",
   "metadata": {},
   "source": [
    "## Example\n",
    "Interpolate $e^x$ through the nodes at $x_0 = 0$, $x_1 = 1$, and $x_2 =2$ with natural BCs."
   ]
  },
  {
   "cell_type": "code",
   "execution_count": null,
   "id": "819b73e6-9a13-4ab1-adcd-37ab7fb88cc2",
   "metadata": {},
   "outputs": [],
   "source": [
    "f = x->exp(x);\n",
    "\n",
    "x_nodes = [0., 1., 2.];\n",
    "\n",
    "a_vals= [1, exp(1)];\n",
    "b_vals = [-0.25*(exp(1)-5)*(exp(1)-1),  0.5*(exp(2)-1)];\n",
    "c_vals = [0, 0.75*(exp(1)-1)^2];\n",
    "d_vals = [0.25 *(exp(1)-1)^2, -0.25*(exp(1)-1)^2];"
   ]
  },
  {
   "cell_type": "code",
   "execution_count": null,
   "id": "24ee02e5-9ea9-4ae2-bb0d-673de75b6924",
   "metadata": {},
   "outputs": [],
   "source": [
    "function S_ex1(x)\n",
    "    \n",
    "    if(x<x_nodes[2])\n",
    "        return  a_vals[1] + \n",
    "        b_vals[1] *(x-x_nodes[1]) + \n",
    "        c_vals[1] *(x-x_nodes[1])^2  + \n",
    "        d_vals[1] *(x-x_nodes[1])^3\n",
    "    else\n",
    "        return a_vals[2] + \n",
    "        b_vals[2] *(x-x_nodes[2]) + \n",
    "        c_vals[2] *(x-x_nodes[2])^2 + \n",
    "        d_vals[2] *(x-x_nodes[2])^3\n",
    "    end\n",
    "    \n",
    "end"
   ]
  },
  {
   "cell_type": "code",
   "execution_count": null,
   "id": "c86e896b-862e-4b34-993a-918f5015e486",
   "metadata": {},
   "outputs": [],
   "source": [
    "xx = LinRange(x_nodes[1], x_nodes[3], 50);\n",
    "\n",
    "plot(xx, S_ex1.(xx), label=\"Natural Cubic Spline\", legend=:topleft)\n",
    "plot!(xx, f.(xx), label=L\"$f$\")\n",
    "xlabel!(L\"$x$\")"
   ]
  },
  {
   "cell_type": "markdown",
   "id": "026ebd41-3c52-41de-9002-f5dccb5f2134",
   "metadata": {},
   "source": [
    "Compare with Lagrange interpolant"
   ]
  },
  {
   "cell_type": "code",
   "execution_count": null,
   "id": "9b8a4520-8c27-4be5-a5a8-e691aefd6d8f",
   "metadata": {},
   "outputs": [],
   "source": [
    "p_lagrange = fit(x_nodes, f.(x_nodes));\n",
    "plot(xx, S_ex1.(xx), label=\"Natural Cubic Spline\", legend=:topleft)\n",
    "plot!(xx, f.(xx), label=L\"$f$\")\n",
    "plot!(xx, p_lagrange.(xx),label=\"Lagrange\")\n",
    "xlabel!(L\"$x$\")"
   ]
  },
  {
   "cell_type": "code",
   "execution_count": null,
   "id": "3ee758c6-9edf-43f8-80a7-425e4e387d8d",
   "metadata": {},
   "outputs": [],
   "source": [
    "plot(xx, abs.(S_ex1.(xx) .-f.(xx)), label=\"Natural Cubic Spline\", legend=:topleft)\n",
    "plot!(xx, abs.(p_lagrange.(xx) .-f.(xx)),label=\"Lagrange\")\n",
    "xlabel!(L\"$x$\")\n",
    "ylabel!(\"Abs. Error\")"
   ]
  },
  {
   "cell_type": "markdown",
   "id": "64287c35-6258-4fec-8e60-d9244ff69957",
   "metadata": {},
   "source": [
    "## Example\n",
    "Interpolate $e^x$ through the nodes at $x_0 = 0$, $x_1 = 1$, and $x_2 =2$ with clamped BCs."
   ]
  },
  {
   "cell_type": "code",
   "execution_count": null,
   "id": "c6e200e6-61be-4bf7-b23f-b5022f853b00",
   "metadata": {},
   "outputs": [],
   "source": [
    "f = x->exp(x);\n",
    "\n",
    "x_nodes = [0., 1., 2.];\n",
    "\n",
    "a_vals= [1, exp(1)];\n",
    "b_vals = [1,  0.5*(exp(2)-2)];\n",
    "c_vals = [-0.5*(exp(1)-2)*(exp(1)-4), (exp(1)-1)*(exp(1)-2)];\n",
    "d_vals = [0.5 *(exp(1)-2)^2, -0.5*(exp(2)-4*exp(1) +2)];"
   ]
  },
  {
   "cell_type": "code",
   "execution_count": null,
   "id": "4598b01c-e78a-40b9-b443-bd6c2235ccc7",
   "metadata": {},
   "outputs": [],
   "source": [
    "function S_ex2(x)\n",
    "    \n",
    "    if(x<x_nodes[2])\n",
    "        return  a_vals[1] + \n",
    "        b_vals[1] *(x-x_nodes[1]) + \n",
    "        c_vals[1] *(x-x_nodes[1])^2  + \n",
    "        d_vals[1] *(x-x_nodes[1])^3\n",
    "    else\n",
    "        return a_vals[2] + \n",
    "        b_vals[2] *(x-x_nodes[2]) + \n",
    "        c_vals[2] *(x-x_nodes[2])^2 + \n",
    "        d_vals[2] *(x-x_nodes[2])^3\n",
    "    end\n",
    "    \n",
    "end"
   ]
  },
  {
   "cell_type": "code",
   "execution_count": null,
   "id": "eccc2d60-7ae3-4dce-8d87-91a269503b72",
   "metadata": {},
   "outputs": [],
   "source": [
    "p_lagrange = fit(x_nodes, f.(x_nodes));\n",
    "plot(xx, S_ex2.(xx), label=\"Clamped Cubic Spline\", legend=:topleft)\n",
    "plot!(xx, f.(xx), label=L\"$f$\")\n",
    "plot!(xx, p_lagrange.(xx),label=\"Lagrange\")\n",
    "xlabel!(L\"$x$\")"
   ]
  },
  {
   "cell_type": "code",
   "execution_count": null,
   "id": "a186ac5c-37bb-48d5-9ffd-f389cec500e0",
   "metadata": {},
   "outputs": [],
   "source": [
    "plot(xx, abs.(S_ex2.(xx) .-f.(xx)), label=\"Clamped Cubic Spline\", legend=:topleft)\n",
    "plot!(xx, abs.(p_lagrange.(xx) .-f.(xx)),label=\"Lagrange\")\n",
    "xlabel!(L\"$x$\")\n",
    "ylabel!(\"Error\")"
   ]
  },
  {
   "cell_type": "markdown",
   "id": "d48b821a-8d1c-4ba0-8506-504ecd95f391",
   "metadata": {},
   "source": [
    "## Splines with Modules"
   ]
  },
  {
   "cell_type": "code",
   "execution_count": null,
   "id": "c2cef4f0-d2a9-48d3-ba78-6adc215b9a5a",
   "metadata": {},
   "outputs": [],
   "source": [
    "f = x->exp(x);\n",
    "\n",
    "x_nodes = LinRange(0,2,3)\n",
    "\n",
    "f_spl1 = CubicSplineInterpolation(x_nodes, f.(x_nodes)); # natural BCs"
   ]
  },
  {
   "cell_type": "code",
   "execution_count": null,
   "id": "e796ce44-b98d-459a-b20d-e633f668663c",
   "metadata": {},
   "outputs": [],
   "source": [
    "plot(xx, f_spl1.(xx), label=\"Cubic Spline with Interpolations\", legend=:topleft)\n",
    "plot!(xx, f.(xx), label=L\"$f$\")\n",
    "xlabel!(L\"$x$\")"
   ]
  },
  {
   "cell_type": "code",
   "execution_count": null,
   "id": "d86206f8-518d-4443-8341-a04574f3720e",
   "metadata": {},
   "outputs": [],
   "source": [
    "x = LinRange(0,2, 10);\n",
    "f_cspl = CubicSplineInterpolation(x, f.(x)); # natural BCs\n",
    "f_lag = fit(x, f.(x));\n",
    "\n",
    "plot(xx, f_cspl.(xx), label=\"Cubic Spline\", legend=:topleft)\n",
    "plot!(xx, f.(xx), label=L\"$f$\")\n",
    "plot!(xx, f_lag.(xx),label=\"Lagrange\")\n",
    "xlabel!(L\"$x$\")"
   ]
  },
  {
   "cell_type": "code",
   "execution_count": null,
   "id": "6c2409a7-271d-499f-b3b9-9e61dd151aaa",
   "metadata": {},
   "outputs": [],
   "source": [
    "plot(xx, abs.(f_cspl.(xx) .-f.(xx)), label=\"Cubic Spline\", legend=:topleft)\n",
    "xlabel!(L\"$x$\")\n",
    "ylabel!(\"Error\")"
   ]
  }
 ],
 "metadata": {
  "kernelspec": {
   "display_name": "Julia 1.7.0-rc2",
   "language": "julia",
   "name": "julia-1.7"
  },
  "language_info": {
   "file_extension": ".jl",
   "mimetype": "application/julia",
   "name": "julia",
   "version": "1.7.0"
  }
 },
 "nbformat": 4,
 "nbformat_minor": 5
}
