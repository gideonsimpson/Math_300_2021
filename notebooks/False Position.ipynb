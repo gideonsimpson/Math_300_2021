{
 "cells": [
  {
   "cell_type": "markdown",
   "id": "7337bc3a-79ee-47cb-ab2f-a9ad7e1c27de",
   "metadata": {},
   "source": [
    "# Method of False Position"
   ]
  },
  {
   "cell_type": "code",
   "execution_count": null,
   "id": "17716a8a-3d74-4fe5-a370-03c535b08025",
   "metadata": {},
   "outputs": [],
   "source": [
    "using Plots; pyplot()\n",
    "using LaTeXStrings\n",
    "using Printf"
   ]
  },
  {
   "cell_type": "code",
   "execution_count": null,
   "id": "773fcbbc-68ac-4ced-9ac5-26b551385124",
   "metadata": {},
   "outputs": [],
   "source": [
    "default(lw=2,markersize = 6,\n",
    "    xtickfont=font(12), ytickfont=font(12), \n",
    "    guidefont=font(14), legendfont=font(12),titlefont=font(12))"
   ]
  },
  {
   "cell_type": "code",
   "execution_count": null,
   "id": "27f36127-64f2-42cc-85e7-a47b3f02324f",
   "metadata": {},
   "outputs": [],
   "source": [
    "function false_position(f, p0, p1, n_max, rel_tol; verbose = true)\n",
    "    \n",
    "    converged = false;\n",
    "    \n",
    "    p = p0;\n",
    "    p_old = p0;\n",
    "\n",
    "    for i in 1:n_max\n",
    "\n",
    "        p = p1 - f(p1) * (p1-p0)/(f(p1)-f(p0));\n",
    "        \n",
    "        if (i>1)\n",
    "            if abs(p-p1)/abs(p1)< rel_tol\n",
    "                converged = true;\n",
    "                break\n",
    "            end\n",
    "        end\n",
    "\n",
    "        # check if we maintain the bracket\n",
    "        if(f(p)*f(p1)< 0)\n",
    "           p0 = p1; \n",
    "        end\n",
    "\n",
    "        p1 = p;\n",
    "        \n",
    "        if verbose\n",
    "            @printf(\" %d: p = %.8g, f(p) = %g, (%.8g, %.8g)\\n\", \n",
    "                i, p, f(p), sort([p0,p1])[1], sort([p0,p1])[2]);\n",
    "        end\n",
    "    end\n",
    "    \n",
    "    if !converged\n",
    "        @printf(\"ERROR: Did not converge after %d iterations\\n\", n_max);\n",
    "    end\n",
    "\n",
    "    return p\n",
    "    \n",
    "end"
   ]
  },
  {
   "cell_type": "markdown",
   "id": "e52dcad5-d8c5-4c49-a994-60e4481323b8",
   "metadata": {},
   "source": [
    "## Example \n",
    "Compute $\\sqrt{2}$ by solving $f(x) = 0$ with\n",
    "$$\n",
    "f(x) = x^2-2.\n",
    "$$"
   ]
  },
  {
   "cell_type": "code",
   "execution_count": null,
   "id": "8987f174-c34c-4920-99b2-6ea29c957551",
   "metadata": {},
   "outputs": [],
   "source": [
    "f = x-> x^2 - 2;\n",
    "p0 = 1;\n",
    "p1 = 2;\n",
    "rel_tol = 1e-8;\n",
    "n_max = 100;\n",
    "\n",
    "p = false_position(f, p0, p1, n_max, rel_tol);"
   ]
  },
  {
   "cell_type": "code",
   "execution_count": null,
   "id": "82d16e9b-dc29-41b2-8282-a76601ea10d8",
   "metadata": {},
   "outputs": [],
   "source": []
  }
 ],
 "metadata": {
  "kernelspec": {
   "display_name": "Julia 1.6.3",
   "language": "julia",
   "name": "julia-1.6"
  },
  "language_info": {
   "file_extension": ".jl",
   "mimetype": "application/julia",
   "name": "julia",
   "version": "1.6.3"
  }
 },
 "nbformat": 4,
 "nbformat_minor": 5
}
