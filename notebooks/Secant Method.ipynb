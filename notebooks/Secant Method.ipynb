{
 "cells": [
  {
   "cell_type": "markdown",
   "id": "7337bc3a-79ee-47cb-ab2f-a9ad7e1c27de",
   "metadata": {},
   "source": [
    "# Secant Method"
   ]
  },
  {
   "cell_type": "code",
   "execution_count": null,
   "id": "17716a8a-3d74-4fe5-a370-03c535b08025",
   "metadata": {},
   "outputs": [],
   "source": [
    "using Plots; pyplot()\n",
    "using LaTeXStrings\n",
    "using Printf"
   ]
  },
  {
   "cell_type": "code",
   "execution_count": null,
   "id": "773fcbbc-68ac-4ced-9ac5-26b551385124",
   "metadata": {},
   "outputs": [],
   "source": [
    "default(lw=2,markersize = 6,\n",
    "    xtickfont=font(12), ytickfont=font(12), \n",
    "    guidefont=font(14), legendfont=font(12),titlefont=font(12))"
   ]
  },
  {
   "cell_type": "code",
   "execution_count": null,
   "id": "27f36127-64f2-42cc-85e7-a47b3f02324f",
   "metadata": {},
   "outputs": [],
   "source": [
    "function secant(f, p0, p1, n_max, rel_tol; verbose = true)\n",
    "    \n",
    "    converged = false;\n",
    "    \n",
    "    p = p0;\n",
    "    for i in 1:n_max\n",
    "\n",
    "        p = p1 - f(p1) * (p1-p0)/(f(p1)-f(p0));\n",
    "        \n",
    "        if verbose\n",
    "            @printf(\" %d: p = %.12g, f(p) = %g\\n\", i, p, f(p));\n",
    "        end\n",
    "\n",
    "        \n",
    "        if (i>1)\n",
    "            if abs(p-p1)/abs(p1)< rel_tol\n",
    "                converged = true;\n",
    "                break\n",
    "            end\n",
    "        end\n",
    "        p0 = p1;\n",
    "        p1 = p;\n",
    "\n",
    "    end\n",
    "    \n",
    "    if !converged\n",
    "        @printf(\"ERROR: Did not converge after %d iterations\\n\", n_max);\n",
    "    end\n",
    "\n",
    "    return p\n",
    "    \n",
    "end"
   ]
  },
  {
   "cell_type": "markdown",
   "id": "e52dcad5-d8c5-4c49-a994-60e4481323b8",
   "metadata": {},
   "source": [
    "## Example \n",
    "Compute $\\sqrt{2}$ by solving $f(x) = 0$ with\n",
    "$$\n",
    "f(x) = x^2-2.\n",
    "$$"
   ]
  },
  {
   "cell_type": "code",
   "execution_count": null,
   "id": "8987f174-c34c-4920-99b2-6ea29c957551",
   "metadata": {},
   "outputs": [],
   "source": [
    "f = x-> x^2 - 2;\n",
    "p0 = 1;\n",
    "p1 = 2;\n",
    "rel_tol = 1e-8;\n",
    "n_max = 100;\n",
    "\n",
    "p = secant(f, p0, p1, n_max, rel_tol);"
   ]
  },
  {
   "cell_type": "markdown",
   "id": "b967e44b-9e2e-48fb-8048-ec2fe2b362c5",
   "metadata": {},
   "source": [
    "### Visualization"
   ]
  },
  {
   "cell_type": "code",
   "execution_count": null,
   "id": "9df5c122-29a0-48f6-abca-990e2f48bde1",
   "metadata": {},
   "outputs": [],
   "source": [
    "n_max = 5;\n",
    "p0_vals = zeros(n_max+1);\n",
    "p1_vals = zeros(n_max+1);\n",
    "p0 = 1;\n",
    "p1 = 2;\n",
    "\n",
    "p0_vals[1] = p0;\n",
    "p1_vals[1] = p1;\n",
    "for i in 1:n_max\n",
    "    p = p1 - f(p1) * (p1-p0)/(f(p1)-f(p0));\n",
    "    p0 = p1;\n",
    "    p1 = p;\n",
    "    \n",
    "    p0_vals[i+1] = p0;\n",
    "    p1_vals[i+1] = p1;\n",
    "end\n",
    "\n",
    "xx = LinRange(0,2,100);\n",
    "\n",
    "ff = f.(xx);\n",
    "plot(xx, ff, label=L\"$f$\", legend=:topleft)\n",
    "plot!(xx, 0 *xx,label=\"\", color=:black)\n",
    "p0 = p0_vals[1];\n",
    "plot!([p0, p0], [f(p0), 0], label=\"\", color=:red, ls=:dash)\n",
    "anim = @animate for i=1:n_max+1\n",
    "    \n",
    "    p0 = p0_vals[i];\n",
    "    p1 = p1_vals[i];    \n",
    "    \n",
    "    plot!([p1, p1], [0, f(p1)], label=\"\", color=:red, ls=:dash)\n",
    "    plot!([p0, p1],[f(p0), f(p1)],label=\"\", color=:red)\n",
    "    xlims!(0.75,2)\n",
    "    ylims!(-1, 2)\n",
    "    \n",
    "    xlabel!(L\"$x$\");\n",
    "    ylabel!(L\"$y$\")\n",
    "    title!(latexstring(@sprintf(\"\\$n = %d\\$\", i)))\n",
    "end;\n",
    "\n"
   ]
  },
  {
   "cell_type": "code",
   "execution_count": null,
   "id": "f3ca6736-6dca-42f7-b943-fcaa6f86cc81",
   "metadata": {},
   "outputs": [],
   "source": [
    "gif(anim,  fps = 1)"
   ]
  },
  {
   "cell_type": "markdown",
   "id": "8ce92183-557b-493a-86fc-3a9201aa1940",
   "metadata": {},
   "source": [
    "## Example\n",
    "Find a root of\n",
    "$$\n",
    "f(x) = \\cos(x) - x\n",
    "$$"
   ]
  },
  {
   "cell_type": "code",
   "execution_count": null,
   "id": "d926a799-46de-4eab-b390-4a6b067ec8af",
   "metadata": {},
   "outputs": [],
   "source": [
    "f = x-> cos(x) -x;\n",
    "p0 = 0;\n",
    "p1 = 1;\n",
    "rel_tol = 1e-8;\n",
    "n_max = 100;\n",
    "\n",
    "p = secant(f, p0, p1, n_max, rel_tol);"
   ]
  },
  {
   "cell_type": "code",
   "execution_count": null,
   "id": "6de3d91d-a79d-4b3c-83c2-af2ddf9265f6",
   "metadata": {},
   "outputs": [],
   "source": [
    "xx = LinRange(0,π/2,100);\n",
    "plot(xx, f.(xx), label=L\"$f(x)$\")\n",
    "plot!(xx, 0*xx, label=\"\")\n",
    "scatter!([p], [f(p)],label=\"Root\")"
   ]
  },
  {
   "cell_type": "markdown",
   "id": "bd5631ee-8081-49b6-b5db-a6e5512ffdd5",
   "metadata": {},
   "source": [
    "# Example where Secant can Fail\n",
    "$$\n",
    "f(x) = x^3 - x +2\n",
    "$$"
   ]
  },
  {
   "cell_type": "code",
   "execution_count": null,
   "id": "9d79af7f-7dad-441d-bd93-2f5d6deb85a0",
   "metadata": {},
   "outputs": [],
   "source": [
    "f = x-> x^3-x+2;\n",
    "p0 = 0;\n",
    "p1 = 3;\n",
    "# p0 = 0;\n",
    "# p1 = 1;\n",
    "\n",
    "\n",
    "\n",
    "rel_tol = 1e-8;\n",
    "n_max = 100;\n",
    "\n",
    "p = secant(f, p0, p1, n_max, rel_tol);"
   ]
  },
  {
   "cell_type": "code",
   "execution_count": null,
   "id": "0ebc2dc1-78b6-4a7d-9eb8-663fdc7a6378",
   "metadata": {},
   "outputs": [],
   "source": [
    "xx = LinRange(-2,2,100);\n",
    "plot(xx, f.(xx), label=L\"$f(x)$\")\n",
    "plot!(xx, 0*xx, label=\"\")\n",
    "scatter!([p], [f(p)],label=\"Root\")"
   ]
  },
  {
   "cell_type": "code",
   "execution_count": null,
   "id": "cef75c27-3680-4a57-af33-aaad1e0277dd",
   "metadata": {},
   "outputs": [],
   "source": []
  }
 ],
 "metadata": {
  "kernelspec": {
   "display_name": "Julia 1.6.3",
   "language": "julia",
   "name": "julia-1.6"
  },
  "language_info": {
   "file_extension": ".jl",
   "mimetype": "application/julia",
   "name": "julia",
   "version": "1.6.3"
  }
 },
 "nbformat": 4,
 "nbformat_minor": 5
}
