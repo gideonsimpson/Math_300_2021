{
 "cells": [
  {
   "cell_type": "markdown",
   "id": "bf8ed387-664b-4e81-9acf-2921592b11f5",
   "metadata": {},
   "source": [
    "# Exampleusing Divided Differences to Compute Interpolant"
   ]
  },
  {
   "cell_type": "code",
   "execution_count": null,
   "id": "36fa2485-4b37-4eef-8f28-b7c1d98e4192",
   "metadata": {},
   "outputs": [],
   "source": [
    "using Plots; pyplot()\n",
    "using LaTeXStrings\n",
    "using Printf\n",
    "using LinearAlgebra"
   ]
  },
  {
   "cell_type": "markdown",
   "id": "bd1119a0-2571-4f18-bb46-315b33089fa4",
   "metadata": {},
   "source": [
    "## Compute the Divided Difference Coefficients"
   ]
  },
  {
   "cell_type": "code",
   "execution_count": null,
   "id": "8d739f6f-2084-4344-b5fa-ffb6c8e03416",
   "metadata": {},
   "outputs": [],
   "source": [
    "# set data\n",
    "x_nodes = [1, 1.3, 1.6, 1.9, 2.2]; \n",
    "f_nodes = [.7651977, .6200860, .4554022, .2818186, .1103623];\n",
    "n = length(x_nodes)-1;\n",
    "\n",
    "F = zeros(n+1,n+1);\n",
    "@. F[:,1] = f_nodes; # set the first column\n",
    "\n",
    "# compute the divided difference coefficients\n",
    "for i in 2:n+1\n",
    "    for j in 2:i\n",
    "        F[i,j] = (F[i,j-1] - F[i-1, j-1])/(x_nodes[i] - x_nodes[i-(j-1)]);\n",
    "    end \n",
    "end\n",
    "\n",
    "F"
   ]
  },
  {
   "cell_type": "code",
   "execution_count": null,
   "id": "b9a189e1-8100-4383-a302-c9d1256686e3",
   "metadata": {},
   "outputs": [],
   "source": [
    "a = diag(F);"
   ]
  },
  {
   "cell_type": "markdown",
   "id": "69a9c423-1e89-4748-8eaa-79241bb0552c",
   "metadata": {},
   "source": [
    "## Evaluate at a New Point"
   ]
  },
  {
   "cell_type": "code",
   "execution_count": null,
   "id": "4a8193c9-15ce-4ef2-ba50-06e0c6f2b8a8",
   "metadata": {},
   "outputs": [],
   "source": [
    "x_new = 1.5;\n",
    "P = a[1];\n",
    "@printf(\"P_%d(%g) = %g\\n\", 0,x_new, P);\n",
    "for k in 2:n+1\n",
    "    ΔP = a[k]\n",
    "    for j in 1:k-1\n",
    "        ΔP *= (x_new-x_nodes[j])\n",
    "    end\n",
    "    P+=ΔP;\n",
    "    @printf(\"P_%d(%g) = %g\\n\", k-1, x_new, P);\n",
    "end"
   ]
  }
 ],
 "metadata": {
  "kernelspec": {
   "display_name": "Julia 1.6.3",
   "language": "julia",
   "name": "julia-1.6"
  },
  "language_info": {
   "file_extension": ".jl",
   "mimetype": "application/julia",
   "name": "julia",
   "version": "1.6.3"
  }
 },
 "nbformat": 4,
 "nbformat_minor": 5
}
