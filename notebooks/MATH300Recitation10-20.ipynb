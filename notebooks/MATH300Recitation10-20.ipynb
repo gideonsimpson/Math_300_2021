{
 "cells": [
  {
   "cell_type": "markdown",
   "metadata": {},
   "source": [
    "# MATH 300: Numerical Analysis I Recitation\n",
    "\n",
    "## Instructor: Liam Doherty\n",
    "\n",
    "## Meeting Time/Place: W 11:00AM, Curtis 344\n",
    "\n",
    "### Office Availability: MRC hours MTR 5p-7p (M 5-7 & T 5-6 FTF, others online), or in Korman 257 by appointment"
   ]
  },
  {
   "cell_type": "markdown",
   "metadata": {},
   "source": [
    "Today, we'll be going over some review problems for the exam. There is no new material here, just worked examples from material previously covered."
   ]
  },
  {
   "cell_type": "markdown",
   "metadata": {},
   "source": [
    "# Problem 1\n",
    "\n",
    "(a) Explain why $f(x) = e^{x} - x - 2$ has a root in the interval $[0, 2]$.\n",
    "\n",
    "(b) Use three steps of the Bisection method to estimate the root of $f(x) = e^{x} - x - 2$ in $[0, 2]$.\n",
    "\n",
    "(c) If we use the Bisection method to estimate the root of $f(x) = e^{x} - x - 2$ in $[0, 2]$, how many iterations must we take to have an absolute error that is $< 10^{-6}$?"
   ]
  },
  {
   "cell_type": "markdown",
   "metadata": {},
   "source": [
    "## Solution:\n",
    "\n",
    "To see why $f(x)$ will have a root in the interval $[0, 2]$ as claimed, notice that $f$ is continuous on the interval (in fact, it is continuous on the whole real line, but we only require continuity on the interval), and further, we have $\\newline \\newline$\n",
    "$$\n",
    "f(0) = e^{0} - 0 - 2 = 1 - 0 - 2 = -1 < 0, \\newline\n",
    "f(2) = e^{2} - 2 - 2 = e^{2} - 4 \\approx 3.389 > 0.\n",
    "\\newline\n",
    "$$\n",
    "(The sign of $f(2)$ can be seen without a calulator by noticing $e^{2} - 4 = (e + 2)(e - 2)$, which have the same sign). Since we have a continuous function that has opposite signs on the boundary of a closed interval, the intermediate value theorem guarantees us that there is at least one point $c$ on the interior of the interval for which $f(c) = 0$ (note that this does not guarantee uniqueness, only existence). Hence, we have a root in the interval $[0, 2]$.\n",
    "\n",
    "Now, we perform three steps of the Bisection method to estimate the value of the root. In the first iteration, we have $[a_{0}, b_{0}] = [0, 2]$ and $p_{1} = 1$. Furthermore, $\\newline \\newline$\n",
    "$$\n",
    "f(p_{1}) = f(1) = e^{1} - 1 - 2 = e - 3 < 0,\n",
    "\\newline\n",
    "$$\n",
    "so we replace the *left* endpoint of our original interval to maintain the bracket.\n",
    "\n",
    "In the second iteration, we now have $[a_{1}, b_{1}] = [1, 2]$ and $p_{2} = 1.5$. With a calculator, we find that $\\newline \\newline$\n",
    "$$\n",
    "f(1.5) = e^{1.5} - 1.5 - 2 = e^{1.5} - 3.5 \\approx 0.9817 > 0,\n",
    "\\newline\n",
    "$$\n",
    "so we replace the *right* endpoint of our interval to maintain the bracket.\n",
    "\n",
    "In the third iteration, we now have $[a_{2}, b_{2}] = [1, 1.5]$ and $p_{3} = 1.25$. With a calculator, we find that $\\newline \\newline$\n",
    "$$\n",
    "f(1.25) = e^{1.25} - 1.25 - 2 = e^{1.25} - 3.25 \\approx 0.2403 > 0,\n",
    "\\newline\n",
    "$$\n",
    "so we replace the *right* endpoint of our interval to maintain the bracket.\n",
    "\n",
    "Our last interval is $[1, 1.25]$, so our estimate of the root is the midpoint of this interval, which is $p_{4} = 1.125$.\n",
    "\n",
    "Finally, if we want to guarantee an absolute error of at most $10^{-6}$, we use the error bound for the bisection method (Theorem 2.1 in the book) $\\newline \\newline$\n",
    "$$\n",
    "|p_{n} - p| \\leq \\frac{b - a}{2^{n}},\n",
    "\\newline\n",
    "$$\n",
    "using $a = 0, b = 2$. We need this to be less than $10^{-6}$, so that tells us we need to solve $\\newline \\newline$\n",
    "$$\n",
    "\\frac{2 - 0}{2^{n}} \\leq \\frac{1}{10^{6}}\n",
    "\\newline\n",
    "$$\n",
    "for $n$. Doing so gives us $n \\geq \\log_{2}2\\cdot 10^{6} = 1 + \\log_{2}10^{6} \\approx 20.9316$, so we require $n = 21$ iterations to reach the desired tolerance."
   ]
  },
  {
   "cell_type": "markdown",
   "metadata": {},
   "source": [
    "# Problem 2\n",
    "\n",
    "Use three steps of Newton's method to estimate the root of $f(x) = e^{x} - x - 2$ in $[0, 2]$, with $p_{0} = 1$. Compute the **absolute** and **relative** error at each step, comparing successive iterations."
   ]
  },
  {
   "cell_type": "markdown",
   "metadata": {},
   "source": [
    "## Solution:\n",
    "\n",
    "Recall how we generate the sequence of approximations for Newton's method: Given $p_{0}$, compute $p_{n}, n \\geq 1$ by $\\newline \\newline$\n",
    "$$\n",
    "p_{n} = p_{n - 1} - \\frac{f(p_{n - 1})}{f'(p_{n - 1})}.\n",
    "\\newline\n",
    "$$\n",
    "Of course, we need $f'(x)$ for this scheme, so we compute that and get $f'(x) = e^{x} - 1$. Starting with $p_{0} = 1$, we find for our first iteration $\\newline \\newline$\n",
    "$$\n",
    "p_{1} = p_{0} - \\frac{f(p_{0})}{f'(p_{0})} = 1 - \\frac{e^{1} - 1 - 2}{e^{1} - 1} \\approx 1.1640.\n",
    "\\newline\n",
    "$$\n",
    "The absolute error at this iteration is $|p_{1} - p_{0}| = 0.1640$, and the relative error is $\\frac{|p_{1} - p_{0}|}{|p_{1}|} = 0.1408$.\n",
    "\n",
    "For the second iteration, we have $\\newline \\newline$\n",
    "$$\n",
    "p_{2} = p_{1} - \\frac{f(p_{1})}{f'(p_{1})} = 1.1640 - \\frac{e^{1.1640} - 1.1640 - 2}{e^{1.1640} - 1} \\approx 1.1464.\n",
    "\\newline\n",
    "$$\n",
    "The absolute error at this iteration is $|p_{2} - p_{1}| = 0.0176$, and the relative error is $\\frac{|p_{2} - p_{1}|}{|p_{2}|} = 0.0154$.\n",
    "\n",
    "For the third iteration, we have $\\newline \\newline$\n",
    "$$\n",
    "p_{3} = p_{2} - \\frac{f(p_{2})}{f'(p_{2})} = 1.1464 - \\frac{e^{1.1464} - 1.1464 - 2}{e^{1.1464} - 1} \\approx 1.1462.\n",
    "\\newline\n",
    "$$\n",
    "The absolute error at this iteration is $|p_{3} - p_{2}| = 0.0002$, and the relative error is $\\frac{|p_{3} - p_{2}|}{|p_{3}|} = 0.0002$.\n",
    "\n",
    "Our approximation to the root is $p_{3} = 1.1462$. Notice that we have a quadratic rate of convergence: in step 1, our error was $\\mathcal{O}(10^{-1})$, in the second step, our error was $\\mathcal{O}(10^{-2})$, and in our third step, the error was $\\mathcal{O}(10^{-4})$ (notice the doubling of the exponent in each iteration). This is consistent with the convergence analysis of Newton's method, which predicts $\\alpha = 2$."
   ]
  },
  {
   "cell_type": "markdown",
   "metadata": {},
   "source": [
    "# Problem 3\n",
    "\n",
    "Use three steps of the Secant method to estimate the root of $f(x) = e^{x} - x - 2$ in $[0, 2]$, with $p_{0} = 1$ and $p_{1} = 1.5$. Compute the **absolute** and **relative** error at each step, comparing successive iterations."
   ]
  },
  {
   "cell_type": "markdown",
   "metadata": {},
   "source": [
    "## Solution:\n",
    "\n",
    "Recall how we generate the sequence of approximations for the Secant method: Given $p_{0}$ and $p_{1}$, compute $p_{n}, n \\geq 2$ by $\\newline \\newline$\n",
    "$$\n",
    "p_{n} = p_{n - 1} - f(p_{n - 1})\\frac{p_{n - 1} - p_{n - 2}}{f(p_{n - 1}) - f(p_{n - 2})}.\n",
    "\\newline\n",
    "$$\n",
    "\n",
    "For our first iteration, we start with $p_{0} = 1$ and $p_{1} = 1.5$, and we compute $\\newline \\newline$\n",
    "$$\n",
    "p_{2} = p_{1} - f(p_{1})\\frac{p_{1} - p_{0}}{f(p_{1}) - f(p_{0})} = 1.5 - f(1.5)\\frac{1.5 - 1}{f(1.5) - f(1)} \\approx 1.1115.\n",
    "\\newline\n",
    "$$\n",
    "The absolute error at this iteration is $|p_{2} - p_{1}| = 0.3885$, and the relative error is $\\frac{|p_{2} - p_{1}|}{|p_{2}|} = 0.3495$.\n",
    "\n",
    "For our second iteration, we have $p_{1} = 1.5$ and $p_{2} = 1.1115$, and we compute $\\newline \\newline$\n",
    "$$\n",
    "p_{3} = p_{2} - f(p_{2})\\frac{p_{2} - p_{1}}{f(p_{2}) - f(p_{1})} = 1.1115 - f(1.1115)\\frac{1.1115 - 1.5}{f(1.1115) - f(1.5)} \\approx 1.1382.\n",
    "\\newline\n",
    "$$\n",
    "The absolute error at this iteration is $|p_{3} - p_{2}| = 0.0267$, and the relative error is $\\frac{|p_{3} - p_{2}|}{|p_{3}|} = 0.0235$.\n",
    "\n",
    "For our third iteration, we have $p_{2} = 1.1115$ and $p_{3} = 1.1382$, and we compute $\\newline \\newline$\n",
    "$$\n",
    "p_{4} = p_{3} - f(p_{3})\\frac{p_{3} - p_{2}}{f(p_{3}) - f(p_{2})} = 1.1382 - f(1.1382)\\frac{1.1382 - 1.1115}{f(1.1382) - f(1.1115)} \\approx 1.1464.\n",
    "\\newline\n",
    "$$\n",
    "The absolute error at this iteration is $|p_{4} - p_{3}| = 0.0082$, and the relative error is $\\frac{|p_{4} - p_{3}|}{|p_{4}|} = 0.0072$.\n",
    "\n",
    "Our approximation to the root is $p_{4} = 1.1464$. Notice the (slightly) slower convergence from Newton's method. This suggests that for the Secant method, $1 < \\alpha < 2$ (and indeed this is the case)."
   ]
  },
  {
   "cell_type": "markdown",
   "metadata": {},
   "source": [
    "# Problem 4\n",
    "\n",
    "Explain why $g(x) = \\frac{1}{4}x^{2} + \\frac{1}{3}x  - \\frac{1}{4}$ has a unique fixed point in $[-1, 1]$."
   ]
  },
  {
   "cell_type": "markdown",
   "metadata": {},
   "source": [
    "## Solution:\n",
    "\n",
    "Recall (Theorem 2.3 in the textbook) that for a continuous function $g(x)$ on a closed interval $[a, b]$, if $g([a, b]) \\subseteq [a, b]$ (that is, $g(x) \\in [a, b]$ for all $x \\in [a, b]$), then there is at least one fixed point in $[a, b]$ (i.e., there is a point $c \\in [a, b]$ for which $g(c) = c$). To gain the uniqueness of the fixed point, an additional assertion needs to hold: we require that there is a positive constant $k < 1$ so that $|g'(x)| \\leq k$ for all $x \\in (a, b)$. Then, the fixed point must be unique.\n",
    "\n",
    "It suffices to verify both of these conditions for the given $g$. Clearly it is continuous on the given closed interval (it is a polynomial), so we start with verifying that $g$ maps $[-1, 1]$ into itself. It suffices to check that $\\max_{[-1, 1]}g(x) \\leq 1$ and $\\min_{[-1, 1]}g(x) \\geq -1$. To determine the extrema, we proceed as in calculus:\n",
    "\n",
    "We take the derivative to find the critical points, and find that $\\newline \\newline$\n",
    "$$\n",
    "g'(x) = \\frac{1}{2}x + \\frac{1}{3},\n",
    "\\newline\n",
    "$$\n",
    "so $g'(x) = 0$ gives $x = -\\frac{2}{3}$. The second derivative test tells us that this is a minimum (i.e., $g''(x) = \\frac{1}{2} > 0$), so the minimum of $g$ is $\\newline \\newline$\n",
    "$$\n",
    "\\min_{[-1, 1]}g(x) = g(-\\frac{2}{3}) = -\\frac{11}{36} > -1.\n",
    "\\newline\n",
    "$$\n",
    "Since there are no other critical points, we know that the maximum must occur on the boundary of $[-1, 1]$. Evaluating $g$ at the endpoints, we find $\\newline \\newline$\n",
    "$$\n",
    "g(-1) = -\\frac{1}{3}, \\;\\;\\; g(1) = \\frac{1}{3}.\n",
    "\\newline\n",
    "$$\n",
    "Therefore, $\\max_{[-1, 1]}g(x) = \\frac{1}{3} < 1$, so we conclude that $g(x)$ maps $[-1, 1]$ into itself, and we have guaranteed existence of a fixed point.\n",
    "\n",
    "To guarantee uniqueness, we need to show that there exists a constant $k < 1$ for which $|g'(x)| \\leq k$ for all $x \\in [-1, 1]$. We have already computed $g'(x) = \\frac{1}{2}x + \\frac{1}{3}$. The minimum of this over $[-1, 1]$ is $g'(-1) = -\\frac{1}{6}$ and the maximum is $g'(1) = \\frac{5}{6}$, so the maximum of the absolute value of $g'(x)$ is $\\max_{[-1, 1]}g'(x) = \\frac{5}{6}$. Since $k = \\frac{5}{6} < 1$ satisfies the requirement, we find that the fixed point must be unique. Thus, applying fixed-point iteration to $g(x)$ will converge to the unique fixed point in $[-1, 1]$."
   ]
  },
  {
   "cell_type": "markdown",
   "metadata": {},
   "source": [
    "# Problem 5\n",
    "\n",
    "Find the order of convergence and asymptotic constant of $p_{n} = 3^{-4^{n}}$."
   ]
  },
  {
   "cell_type": "markdown",
   "metadata": {},
   "source": [
    "## Solution:\n",
    "\n",
    "I claim that the limit is zero (the exponent tends to $-\\infty$ as $n \\to \\infty$). Recall that the order of convergence and asymptotic constant are determined to be positive solutions $\\alpha$ and $\\lambda$ to $\\newline \\newline$\n",
    "$$\n",
    "\\lim_{n \\to \\infty}\\frac{|p_{n + 1} - p|}{|p_{n} - p|^{\\alpha}} = \\lambda.\n",
    "\\newline\n",
    "$$\n",
    "Plugging in our iteration and the limit $p = 0$, we have $\\newline \\newline$\n",
    "$$\n",
    "\\lim_{n \\to \\infty}\\frac{|3^{-4^{n + 1}} - 0|}{|3^{-4^{n}} - 0|^{\\alpha}} = \\lambda,\n",
    "\\newline\n",
    "$$\n",
    "which reduces to $\\newline \\newline$\n",
    "$$\n",
    "\\lim_{n \\to \\infty}\\frac{3^{-4^{n + 1}}}{\\Big(3^{-4^{n}}\\Big)^{\\alpha}} = \\lambda.\n",
    "\\newline\n",
    "$$\n",
    "Rewriting the numerator, we have $3^{-4^{n + 1}} = \\Big(3^{-4^{n}}\\Big)^{4}$. Then our limit becomes $\\newline \\newline$\n",
    "$$\n",
    "\\lim_{n \\to \\infty}\\frac{\\Big(3^{-4^{n}}\\Big)^{4}}{\\Big(3^{-4^{n}}\\Big)^{\\alpha}} = \\lim_{n \\to \\infty}\\Big(3^{-4^{n}}\\Big)^{4 - \\alpha} = \\lambda.\n",
    "\\newline\n",
    "$$\n",
    "Then $\\alpha = 4$, $\\lambda = 1$ satisfies this limit. Therefore, the iteration has order of convergence $\\alpha = 4$ and asymptotic constant of $\\lambda = 1$."
   ]
  }
 ],
 "metadata": {
  "kernelspec": {
   "display_name": "Julia 1.6.0",
   "language": "julia",
   "name": "julia-1.6"
  },
  "language_info": {
   "file_extension": ".jl",
   "mimetype": "application/julia",
   "name": "julia",
   "version": "1.6.0"
  }
 },
 "nbformat": 4,
 "nbformat_minor": 4
}
