{
 "cells": [
  {
   "cell_type": "markdown",
   "id": "2cac5d9b-46a6-4d95-b54c-caec0871ab75",
   "metadata": {},
   "source": [
    "# Including Files\n",
    "Demo the use of the `include` function to pull in code that was written elsewhere.  This facilitates reuse of code."
   ]
  },
  {
   "cell_type": "code",
   "execution_count": null,
   "id": "59cf599c-c894-4479-b026-f1cf58643b97",
   "metadata": {},
   "outputs": [],
   "source": [
    "using Plots; pyplot()\n",
    "using LaTeXStrings\n",
    "using Printf"
   ]
  },
  {
   "cell_type": "code",
   "execution_count": null,
   "id": "6394edb4-a906-4d8b-8ef2-290e0ee0e2aa",
   "metadata": {},
   "outputs": [],
   "source": [
    "default(lw=2,markersize = 6,\n",
    "    xtickfont=font(12), ytickfont=font(12), \n",
    "    guidefont=font(14), legendfontsize=12,titlefont=font(12))"
   ]
  },
  {
   "cell_type": "code",
   "execution_count": null,
   "id": "3878a17b-384b-4daa-bdc5-6ab4ca1d3783",
   "metadata": {},
   "outputs": [],
   "source": [
    "# Pull in a collection of root finding algorithms\n",
    "include(\"rootfinding.jl\")"
   ]
  },
  {
   "cell_type": "markdown",
   "id": "27448e51-d843-41b7-bc3d-fd33691da541",
   "metadata": {},
   "source": [
    "# Example Usage\n",
    "Use the routines to find $\\sqrt{2}$."
   ]
  },
  {
   "cell_type": "code",
   "execution_count": null,
   "id": "fade67b6-b948-444c-8a82-11f856c3c863",
   "metadata": {},
   "outputs": [],
   "source": [
    "f = x-> x^2 - 2;\n",
    "df = x->2*x;\n",
    "p0 = 1;\n",
    "rel_tol = 1e-8;\n",
    "n_max = 100;\n",
    "\n",
    "p = newton(f, df, p0, n_max, rel_tol);"
   ]
  },
  {
   "cell_type": "code",
   "execution_count": null,
   "id": "bcedb7a1-e3aa-4d67-95ec-8edf66dd8622",
   "metadata": {},
   "outputs": [],
   "source": [
    "a = 1;\n",
    "b = 2;\n",
    "rel_tol = 1e-8;\n",
    "n_max = 100;\n",
    "\n",
    "p = bisection(f,a, b, n_max, rel_tol);"
   ]
  }
 ],
 "metadata": {
  "kernelspec": {
   "display_name": "Julia 1.7.0-rc2",
   "language": "julia",
   "name": "julia-1.7"
  },
  "language_info": {
   "file_extension": ".jl",
   "mimetype": "application/julia",
   "name": "julia",
   "version": "1.7.0"
  }
 },
 "nbformat": 4,
 "nbformat_minor": 5
}
