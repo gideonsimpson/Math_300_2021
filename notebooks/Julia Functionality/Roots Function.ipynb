{
 "cells": [
  {
   "cell_type": "markdown",
   "id": "8e2a85c4-6c51-4698-bc92-cc41232c4cfb",
   "metadata": {},
   "source": [
    "# Show the use of the Roots module for finding roots of a scalar function"
   ]
  },
  {
   "cell_type": "code",
   "execution_count": null,
   "id": "8d65398e-f4d2-4d77-9325-0128a5baf44e",
   "metadata": {},
   "outputs": [],
   "source": [
    "using Roots\n",
    "using Printf\n",
    "using Plots; pyplot()"
   ]
  },
  {
   "cell_type": "code",
   "execution_count": null,
   "id": "3581f2ed-6582-4d9b-a8b1-b9643f3f4264",
   "metadata": {},
   "outputs": [],
   "source": [
    "default(lw=2,markersize = 6,\n",
    "    xtickfont=font(12), ytickfont=font(12), \n",
    "    guidefont=font(14), legendfontsize=12,titlefont=font(12))"
   ]
  },
  {
   "cell_type": "markdown",
   "id": "bf9bf1cd-9e20-436e-8129-4722e74e4a61",
   "metadata": {},
   "source": [
    "## Example 1\n",
    "Find a root of $\\cos(x)-x$."
   ]
  },
  {
   "cell_type": "markdown",
   "id": "5c9847e8-5b83-4628-8f91-cbeefe828a3d",
   "metadata": {},
   "source": [
    "Note that it clearly has a root in $(0,1)$."
   ]
  },
  {
   "cell_type": "code",
   "execution_count": null,
   "id": "28ca3159-b98c-4bbf-a1d6-78a42d86b2b5",
   "metadata": {},
   "outputs": [],
   "source": [
    "f = x-> cos(x)-x\n",
    "\n",
    "xx = LinRange(0,1,100);\n",
    "plot(xx, f.(xx),label=\"\")"
   ]
  },
  {
   "cell_type": "markdown",
   "id": "2c2fedbd-aa4e-4e92-806d-86f1a6484815",
   "metadata": {},
   "source": [
    "Solution by root bracketing (i.e. Bisection method)"
   ]
  },
  {
   "cell_type": "code",
   "execution_count": null,
   "id": "0539e000-ebe7-47ad-8df5-52714a4e5d22",
   "metadata": {},
   "outputs": [],
   "source": [
    "find_zero(f, (0,1))"
   ]
  },
  {
   "cell_type": "markdown",
   "id": "2e702e27-b11a-4d22-bf95-f911ab14b2c3",
   "metadata": {},
   "source": [
    "Solution by root polishin g(i.e. Secant/Newton type methods)"
   ]
  },
  {
   "cell_type": "code",
   "execution_count": null,
   "id": "00a5902c-4045-4f1a-b3be-283fa2456b98",
   "metadata": {},
   "outputs": [],
   "source": [
    "find_zero(f, 0.75)"
   ]
  }
 ],
 "metadata": {
  "kernelspec": {
   "display_name": "Julia 1.7.0-rc2",
   "language": "julia",
   "name": "julia-1.7"
  },
  "language_info": {
   "file_extension": ".jl",
   "mimetype": "application/julia",
   "name": "julia",
   "version": "1.7.0"
  }
 },
 "nbformat": 4,
 "nbformat_minor": 5
}
