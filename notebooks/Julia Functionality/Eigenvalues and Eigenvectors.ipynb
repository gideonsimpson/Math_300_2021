{
 "cells": [
  {
   "cell_type": "markdown",
   "id": "9a9ddcf3-19eb-4645-8144-82434bd7c64e",
   "metadata": {},
   "source": [
    "# Demo the computation of eigenvalues/eigenectors of matrices"
   ]
  },
  {
   "cell_type": "code",
   "execution_count": null,
   "id": "0fedb964-0a39-45bc-965d-9aa3043f4c4b",
   "metadata": {},
   "outputs": [],
   "source": [
    "using LinearAlgebra"
   ]
  },
  {
   "cell_type": "code",
   "execution_count": null,
   "id": "4174f0a0-1e6d-489d-96a6-cd28f9c3d573",
   "metadata": {},
   "outputs": [],
   "source": [
    "A = [2 -1; -1 2]"
   ]
  },
  {
   "cell_type": "code",
   "execution_count": null,
   "id": "9e846154-85a3-4312-beee-15f34762cd8e",
   "metadata": {},
   "outputs": [],
   "source": [
    "F = eigen(A)"
   ]
  },
  {
   "cell_type": "code",
   "execution_count": null,
   "id": "79dee83e-19ac-4116-b7aa-8d7fb7e0d116",
   "metadata": {},
   "outputs": [],
   "source": [
    "F.values"
   ]
  },
  {
   "cell_type": "code",
   "execution_count": null,
   "id": "2030a267-f075-4033-bd14-1317737ad5d2",
   "metadata": {},
   "outputs": [],
   "source": [
    "F.vectors"
   ]
  },
  {
   "cell_type": "code",
   "execution_count": null,
   "id": "42ec81e9-a1ff-457b-8d0e-4b87f5a2cedf",
   "metadata": {},
   "outputs": [],
   "source": [
    "λ1 = F.values[1];\n",
    "λ2 = F.values[2];\n",
    "\n",
    "v1 = F.vectors[:,1];\n",
    "v2 = F.vectors[:,2];"
   ]
  },
  {
   "cell_type": "code",
   "execution_count": null,
   "id": "48a098c2-f4c9-4d46-9e29-1b399a736e0b",
   "metadata": {},
   "outputs": [],
   "source": [
    "A*v1"
   ]
  },
  {
   "cell_type": "code",
   "execution_count": null,
   "id": "3534fd26-3b93-4da7-8a74-9bec7ee20615",
   "metadata": {},
   "outputs": [],
   "source": [
    "A*v2"
   ]
  },
  {
   "cell_type": "code",
   "execution_count": null,
   "id": "f2695307-1a10-41ed-8444-a5ac6c072960",
   "metadata": {},
   "outputs": [],
   "source": [
    "λ2 * v2"
   ]
  },
  {
   "cell_type": "code",
   "execution_count": null,
   "id": "d782be0e-0119-4b65-9031-2d5be04d19d2",
   "metadata": {},
   "outputs": [],
   "source": [
    "eigvals(A)"
   ]
  },
  {
   "cell_type": "code",
   "execution_count": null,
   "id": "28b8a3f5-5816-430a-85d8-61c1cd7d825c",
   "metadata": {},
   "outputs": [],
   "source": []
  }
 ],
 "metadata": {
  "kernelspec": {
   "display_name": "Julia 1.7.0-rc2",
   "language": "julia",
   "name": "julia-1.7"
  },
  "language_info": {
   "file_extension": ".jl",
   "mimetype": "application/julia",
   "name": "julia",
   "version": "1.7.0"
  }
 },
 "nbformat": 4,
 "nbformat_minor": 5
}
