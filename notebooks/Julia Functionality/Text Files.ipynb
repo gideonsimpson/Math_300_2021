{
 "cells": [
  {
   "cell_type": "code",
   "execution_count": null,
   "id": "52cd42e7-d20a-461c-8b7d-2d9392c0ec22",
   "metadata": {},
   "outputs": [],
   "source": [
    "using Printf\n",
    "using DelimitedFiles"
   ]
  },
  {
   "cell_type": "code",
   "execution_count": null,
   "id": "ef4eeb06-899e-478a-bb3c-0f118a281b1e",
   "metadata": {},
   "outputs": [],
   "source": [
    "data = readdlm(\"data.txt\")"
   ]
  }
 ],
 "metadata": {
  "kernelspec": {
   "display_name": "Julia 1.7.0-rc2",
   "language": "julia",
   "name": "julia-1.7"
  },
  "language_info": {
   "file_extension": ".jl",
   "mimetype": "application/julia",
   "name": "julia",
   "version": "1.7.0"
  }
 },
 "nbformat": 4,
 "nbformat_minor": 5
}
