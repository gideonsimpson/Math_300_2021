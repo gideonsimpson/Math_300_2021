{
 "cells": [
  {
   "cell_type": "markdown",
   "id": "dc8c408f-6e31-4951-8fb0-3c168598a334",
   "metadata": {},
   "source": [
    "# Example use of the QuadGK Function for computing integrals in 1D"
   ]
  },
  {
   "cell_type": "code",
   "execution_count": null,
   "id": "d1615375-3164-4808-b3bb-c412693f9f20",
   "metadata": {},
   "outputs": [],
   "source": [
    "using QuadGK\n",
    "using Printf\n",
    "using SpecialFunctions"
   ]
  },
  {
   "cell_type": "markdown",
   "id": "89c671b2-4ed9-45d3-b380-efbb5162b405",
   "metadata": {},
   "source": [
    "## Example 1\n",
    "Compute\n",
    "$$\n",
    "\\int_0^1 e^x dx = e^1 - e^0\n",
    "$$"
   ]
  },
  {
   "cell_type": "code",
   "execution_count": null,
   "id": "72e0918a-7812-4d23-b2b9-cd7d99214e74",
   "metadata": {},
   "outputs": [],
   "source": [
    "f = x->exp(x)\n",
    "∫f, err_est = quadgk(f, 0, 1);\n",
    "∫f_exact = exp(1) - exp(0);\n",
    "@show ∫f\n",
    "@show ∫f_exact\n",
    "@show err_est;\n",
    "@show abs(∫f - ∫f_exact);"
   ]
  },
  {
   "cell_type": "markdown",
   "id": "e0a855a2-5d07-4945-bff2-f9d60ed80d88",
   "metadata": {},
   "source": [
    "# Example 2\n",
    "Compute\n",
    "$$\n",
    "\\int_1^2 x \\log x = \\log(4) - \\frac{3}{4}\n",
    "$$"
   ]
  },
  {
   "cell_type": "code",
   "execution_count": null,
   "id": "ffcae1a5-645b-4295-9ddb-23699ed78b02",
   "metadata": {},
   "outputs": [],
   "source": [
    "f = x->x * log(x)\n",
    "∫f, err_est = quadgk(f, 1, 2);\n",
    "∫f_exact = log(4) - 3/4;\n",
    "@show ∫f\n",
    "@show ∫f_exact\n",
    "@show err_est\n",
    "@show abs(∫f - ∫f_exact);"
   ]
  },
  {
   "cell_type": "markdown",
   "id": "56963297-a872-4c8b-b7b6-630ace310308",
   "metadata": {},
   "source": [
    "## Example 3\n",
    "Compute\n",
    "$$\n",
    "\\int_1^4 J_0(z)dz\n",
    "$$\n",
    "where $J_0$ is a Bessel function."
   ]
  },
  {
   "cell_type": "code",
   "execution_count": null,
   "id": "b6049757-8ca0-4af4-9fb3-fad195db198a",
   "metadata": {},
   "outputs": [],
   "source": [
    "f = x->besselj0(x);\n",
    "∫f, err_est = quadgk(f, 1, 4);\n",
    "@show ∫f\n",
    "@show err_est;"
   ]
  }
 ],
 "metadata": {
  "kernelspec": {
   "display_name": "Julia 1.7.0-rc2",
   "language": "julia",
   "name": "julia-1.7"
  },
  "language_info": {
   "file_extension": ".jl",
   "mimetype": "application/julia",
   "name": "julia",
   "version": "1.7.0"
  }
 },
 "nbformat": 4,
 "nbformat_minor": 5
}
