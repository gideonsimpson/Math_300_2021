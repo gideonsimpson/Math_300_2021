{
 "cells": [
  {
   "cell_type": "markdown",
   "id": "f52d567b-5068-4d59-ae5f-fd1d8581706f",
   "metadata": {},
   "source": [
    "# Solve a nonlinear system\n",
    "\\begin{align}\n",
    "3x_1 - \\cos(x_2x_3) - \\frac{1}{2}& = 0\\\\\n",
    "x_1^2 - 81(x_2+0.1)^2 + \\sin(x_3) +1.06& = 0\\\\\n",
    "e^{-x_1x_2} + 20 x_3 + \\frac{10\\pi-3}{3}& = 0\n",
    "\\end{align}\n"
   ]
  },
  {
   "cell_type": "code",
   "execution_count": null,
   "id": "83bd18d5-69c5-4099-9789-7eabd3a4f7f8",
   "metadata": {},
   "outputs": [],
   "source": [
    "using Printf\n",
    "using ForwardDiff\n",
    "using LinearAlgebra\n",
    "using NLsolve"
   ]
  },
  {
   "cell_type": "markdown",
   "id": "e65331e6-611d-49ed-9632-eb25d9103a54",
   "metadata": {},
   "source": [
    "## Hand Coded Jacobian"
   ]
  },
  {
   "cell_type": "code",
   "execution_count": null,
   "id": "da5869a4-3a1e-491e-b9f5-63b6818326d6",
   "metadata": {},
   "outputs": [],
   "source": [
    "function F(x)\n",
    "    return [3*x[1] - cos(x[2]*x[3]) - 0.5\n",
    "            x[1]^2 - 81 * (x[2]+0.1)^2 + sin(x[3])+1.06\n",
    "            exp(-x[1]*x[2]) + 20 * x[3] + (10 * π-3)/3];\n",
    "end\n",
    "\n",
    "\n",
    "function J(x)\n",
    "    J_ = zeros(3,3);\n",
    "    J_[1,1] = 3;\n",
    "    J_[1,2] = x[3] * sin(x[2]*x[3]);\n",
    "    J_[1,3] = x[2] * sin(x[2]*x[3]);    \n",
    "    \n",
    "    J_[2,1] = 2*x[1];\n",
    "    J_[2,2] =-162 * (x[2]+0.1);\n",
    "    J_[2,3] = cos(x[3]);\n",
    "    \n",
    "    J_[3,1] = -x[2] * exp(-x[1]*x[2]);\n",
    "    J_[3,2] = -x[1] * exp(-x[1]*x[2])    \n",
    "    J_[3,3] = 20;\n",
    "    return J_\n",
    "end"
   ]
  },
  {
   "cell_type": "code",
   "execution_count": null,
   "id": "69eeb0e8-8d2d-4e61-8802-3e98e3e02fca",
   "metadata": {},
   "outputs": [],
   "source": [
    "F(zeros(3))"
   ]
  },
  {
   "cell_type": "code",
   "execution_count": null,
   "id": "5ac25936-7374-4488-b98b-769eaf743795",
   "metadata": {},
   "outputs": [],
   "source": [
    "J([0., 0., 0.])"
   ]
  },
  {
   "cell_type": "code",
   "execution_count": null,
   "id": "d541b807-ee53-46fc-b325-de8053ccb85c",
   "metadata": {},
   "outputs": [],
   "source": [
    "# starting guess\n",
    "x = zeros(3);\n",
    "δ = zeros(3);\n",
    "n_iters = 20;\n",
    "tol = 1e-10;\n",
    "\n",
    "for n in 1:n_iters\n",
    "    δ .= -J(x)\\F(x);\n",
    "    @. x += δ;\n",
    "    f_err = norm(F(x));\n",
    "    @printf(\"%d: ||F(x)|| = %g\\n\",n, f_err);\n",
    "    \n",
    "    if(f_err<tol)\n",
    "        break;\n",
    "    end\n",
    "end\n",
    "@show x;\n"
   ]
  },
  {
   "cell_type": "markdown",
   "id": "e9467e0e-9116-4189-bad1-37a74a70ce6b",
   "metadata": {},
   "source": [
    "## Automatic Differentiation"
   ]
  },
  {
   "cell_type": "code",
   "execution_count": null,
   "id": "5e978b39-8c95-4f6a-980c-40b45c34c7c6",
   "metadata": {},
   "outputs": [],
   "source": [
    "J_auto = x-> ForwardDiff.jacobian(F, x);"
   ]
  },
  {
   "cell_type": "code",
   "execution_count": null,
   "id": "0be140ef-f128-4a64-a8e0-93d7785de5dd",
   "metadata": {},
   "outputs": [],
   "source": [
    "J_auto(x)"
   ]
  },
  {
   "cell_type": "code",
   "execution_count": null,
   "id": "e0101a39-4571-4250-8257-c98e5b57a2d5",
   "metadata": {},
   "outputs": [],
   "source": [
    "# starting guess\n",
    "x = zeros(3);\n",
    "δ = zeros(3);\n",
    "n_iters = 20;\n",
    "tol = 1e-10;\n",
    "\n",
    "for n in 1:n_iters\n",
    "    δ .= -J_auto(x)\\F(x);\n",
    "    @. x += δ;\n",
    "    f_err = norm(F(x));\n",
    "    @printf(\"%d: ||F(x)|| = %g\\n\",n, f_err);\n",
    "    \n",
    "    if(f_err<tol)\n",
    "        break;\n",
    "    end\n",
    "end\n",
    "@show x;\n"
   ]
  },
  {
   "cell_type": "markdown",
   "id": "683b720a-0e22-453b-b142-7d20c0e5c463",
   "metadata": {},
   "source": [
    "## Solution with NLsolve"
   ]
  },
  {
   "cell_type": "code",
   "execution_count": null,
   "id": "b7158962-661c-4772-9f61-27dbe7ae13d9",
   "metadata": {},
   "outputs": [],
   "source": [
    "x = zeros(3);\n",
    "soln= nlsolve(F, x)"
   ]
  },
  {
   "cell_type": "code",
   "execution_count": null,
   "id": "bfbe49da-f98a-42ac-b5f0-c6d1cdafcde8",
   "metadata": {},
   "outputs": [],
   "source": [
    "x = zeros(3);\n",
    "soln= nlsolve(F,J_auto, x)"
   ]
  }
 ],
 "metadata": {
  "kernelspec": {
   "display_name": "Julia 1.7.0-rc2",
   "language": "julia",
   "name": "julia-1.7"
  },
  "language_info": {
   "file_extension": ".jl",
   "mimetype": "application/julia",
   "name": "julia",
   "version": "1.7.0"
  }
 },
 "nbformat": 4,
 "nbformat_minor": 5
}
