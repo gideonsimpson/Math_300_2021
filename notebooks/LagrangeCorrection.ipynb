{
 "cells": [
  {
   "cell_type": "markdown",
   "metadata": {},
   "source": [
    "# MATH 300: Numerical Analysis I Recitation\n",
    "\n",
    "## Instructor: Liam Doherty\n",
    "\n",
    "## Meeting Time/Place: W 11:00AM, Curtis 344\n",
    "\n",
    "### Office Availability: MRC hours MTR 5p-7p (M 5-7 & T 5-6 FTF, others online), or in Korman 257 by appointment"
   ]
  },
  {
   "cell_type": "markdown",
   "metadata": {},
   "source": [
    "In discussing Lagrange interpolation, we introduced the convenience of using packages such as Polynomials.jl for automating our computation of polynomial interpolants. We used the `fit` function available through Polynomials.jl to obtain our interpolant, but this was a mistake. In fact, what `Polynomials.fit` _actually_ does is least squares fitting, **not** interpolation. This means that while the approximation generated will, on average, be close to the data points so as to minimize least-squares error, it will **not** generally interpolate the data; that is, it will not pass through the data points exactly.\n",
    "\n",
    "Fortunately, there is another option which *will* do Lagrange interpolation for us: DataInterpolations.jl. Let's see how we can use it:"
   ]
  },
  {
   "cell_type": "code",
   "execution_count": null,
   "metadata": {},
   "outputs": [],
   "source": [
    "using DataInterpolations, Plots, Polynomials\n",
    "\n",
    "f(x) = sin(2*pi*x)\n",
    "xs = LinRange(0, 1, 40)\n",
    "xs_fine = LinRange(0, 1, 101);"
   ]
  },
  {
   "cell_type": "code",
   "execution_count": null,
   "metadata": {},
   "outputs": [],
   "source": [
    "p = fit(xs, f.(xs));\n",
    "plot(xs_fine, f.(xs_fine), title = \"Fitting sin(x)\", label = \"sin(x)\")\n",
    "scatter!(xs, p.(xs), label = \"Fitting Nodes\")"
   ]
  },
  {
   "cell_type": "code",
   "execution_count": null,
   "metadata": {},
   "outputs": [],
   "source": [
    "q = LagrangeInterpolation(f.(xs), xs)\n",
    "xs_fine = LinRange(0, 1, 101)\n",
    "plot(xs_fine, f.(xs_fine), title = \"Interpolating sin(x)\", label = \"sin(x)\")\n",
    "scatter!(xs, q.(xs), label = \"Interpolating Nodes\")"
   ]
  },
  {
   "cell_type": "markdown",
   "metadata": {},
   "source": [
    "Notice that for sufficiently large $n$, the least squares model actually fails to interpolate the underlying function (so as to minimize error away from the mesh), whereas the Lagrange interpolant will actually interpolate _all_ of the nodes, even if performance suffers away from the mesh.\n",
    "\n",
    "So, DataInterpolations.jl actually provides the functionality for Lagrange interpolation. However, it is still worthwhile to know about Polynomials.jl for their easy-to use polynomial data structure interface."
   ]
  }
 ],
 "metadata": {
  "kernelspec": {
   "display_name": "Julia 1.6.0",
   "language": "julia",
   "name": "julia-1.6"
  },
  "language_info": {
   "file_extension": ".jl",
   "mimetype": "application/julia",
   "name": "julia",
   "version": "1.6.0"
  }
 },
 "nbformat": 4,
 "nbformat_minor": 4
}
