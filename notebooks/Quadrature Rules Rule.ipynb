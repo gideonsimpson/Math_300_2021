{
 "cells": [
  {
   "cell_type": "markdown",
   "id": "55e9f7ac-0afa-4011-8300-0e99deeb7af7",
   "metadata": {},
   "source": [
    "# Quadrature Rules"
   ]
  },
  {
   "cell_type": "code",
   "execution_count": null,
   "id": "f16523d3-4a35-4dfd-bf88-49e2b7416560",
   "metadata": {},
   "outputs": [],
   "source": [
    "using Printf"
   ]
  },
  {
   "cell_type": "markdown",
   "id": "ef58e941-c103-40b3-9569-fe5f34270b91",
   "metadata": {},
   "source": [
    "Perform several integrals over the set $[0,2]$"
   ]
  },
  {
   "cell_type": "markdown",
   "id": "42acc584-e6a1-412c-85a5-724bdb277501",
   "metadata": {},
   "source": [
    "## Trapezoidal Rule"
   ]
  },
  {
   "cell_type": "code",
   "execution_count": null,
   "id": "1feaf669-3423-4b8b-89b4-0240c01f5fb3",
   "metadata": {},
   "outputs": [],
   "source": [
    "x = Float64[0, 2];\n",
    "h = x[2]-x[1];"
   ]
  },
  {
   "cell_type": "markdown",
   "id": "bb2a0120-8bab-420c-98a3-c629630d82da",
   "metadata": {
    "tags": []
   },
   "source": [
    "### Linear Functions\n",
    "Trapezoidal rule will integrate linear functions exactly"
   ]
  },
  {
   "cell_type": "code",
   "execution_count": null,
   "id": "8d023682-7155-4f86-a81b-083335f14e46",
   "metadata": {},
   "outputs": [],
   "source": [
    "f = x-> 2*x - 3;\n",
    "∫f_exact = -2;\n",
    "∫f_trap = .5 * h * sum(f.(x));\n",
    "abs_err = abs(∫f_trap - ∫f_exact);\n",
    "@printf(\"Trapezoidal rule = %g\\n\", ∫f_trap);\n",
    "@printf(\"Error = %g\\n\", abs_err);"
   ]
  },
  {
   "cell_type": "markdown",
   "id": "bb39f858-d23c-4c57-9a3d-725c58752542",
   "metadata": {},
   "source": [
    "### Quadratic Functions\n",
    "There will be an error for quadratic functions"
   ]
  },
  {
   "cell_type": "code",
   "execution_count": null,
   "id": "be68e5d7-f37c-4b16-94e9-dd8ec519f3f4",
   "metadata": {},
   "outputs": [],
   "source": [
    "f = x-> x^2 - 3*x + 2;\n",
    "∫f_exact = 2/3;\n",
    "∫f_trap = .5 * h * sum(f.(x));\n",
    "abs_err = abs(∫f_trap - ∫f_exact);\n",
    "@printf(\"Trapezoidal rule = %g\\n\", ∫f_trap);\n",
    "@printf(\"Error = %g\\n\", abs_err);"
   ]
  },
  {
   "cell_type": "markdown",
   "id": "ff94a916-edb4-4370-b909-a4cf9a6da007",
   "metadata": {},
   "source": [
    "### Other Functions"
   ]
  },
  {
   "cell_type": "code",
   "execution_count": null,
   "id": "ae181374-2a95-479a-9d80-2182c8ffabff",
   "metadata": {},
   "outputs": [],
   "source": [
    "f = x-> sin(x);\n",
    "∫f_exact = 2*sin(1)^2;\n",
    "∫f_trap = .5 * h * sum(f.(x));\n",
    "abs_err = abs(∫f_trap - ∫f_exact);\n",
    "@printf(\"Trapezoidal rule = %g\\n\", ∫f_trap);\n",
    "@printf(\"Error = %g\\n\", abs_err);"
   ]
  },
  {
   "cell_type": "markdown",
   "id": "6a7d328b-991e-4941-ac53-d9920ed8cedb",
   "metadata": {},
   "source": [
    "## Simpson's Rule"
   ]
  },
  {
   "cell_type": "code",
   "execution_count": null,
   "id": "a33a6d6f-6309-4c0e-a58d-054f0929b94f",
   "metadata": {},
   "outputs": [],
   "source": [
    "x = Float64[0, 1, 2];\n",
    "h = x[2]-x[1];"
   ]
  },
  {
   "cell_type": "markdown",
   "id": "f3bbeac5-ac94-4422-973a-3e71eba3c8fd",
   "metadata": {},
   "source": [
    "### Linear Functions\n",
    "Simpsons rule will integrate linear functions exactly"
   ]
  },
  {
   "cell_type": "code",
   "execution_count": null,
   "id": "e127347f-88ca-45d4-af9f-904a2b05257a",
   "metadata": {},
   "outputs": [],
   "source": [
    "f = x-> 2*x - 3;\n",
    "∫f_exact = -2;\n",
    "∫f_simpson =  h/3 * (f(x[1]) + 4*f(x[2]) + f(x[3]));\n",
    "abs_err = abs(∫f_simpson - ∫f_exact);\n",
    "@printf(\"Simpson's rule = %g\\n\", ∫f_simpson);\n",
    "@printf(\"Error = %g\\n\", abs_err);"
   ]
  },
  {
   "cell_type": "markdown",
   "id": "aa3cdcb4-8e79-4709-b558-c2f8d5350a20",
   "metadata": {},
   "source": [
    "### Quadratic Functions\n",
    "These will be an exactly integrated "
   ]
  },
  {
   "cell_type": "code",
   "execution_count": null,
   "id": "fc1d6a8b-51a8-4d6b-854c-390e4d70068c",
   "metadata": {},
   "outputs": [],
   "source": [
    "f = x-> x^2 - 3*x + 2;\n",
    "∫f_exact = 2/3;\n",
    "∫f_simpson =  h/3 * (f(x[1]) + 4*f(x[2]) + f(x[3]));\n",
    "abs_err = abs(∫f_simpson - ∫f_exact);\n",
    "@printf(\"Simpson's rule = %g\\n\", ∫f_simpson);\n",
    "@printf(\"Error = %g\\n\", abs_err);"
   ]
  },
  {
   "cell_type": "markdown",
   "id": "9ca94ead-83e7-48d3-9174-700fd65fef77",
   "metadata": {},
   "source": [
    "### Other Functions"
   ]
  },
  {
   "cell_type": "code",
   "execution_count": null,
   "id": "c04cae65-6caa-4318-83b5-b6930da3eb71",
   "metadata": {},
   "outputs": [],
   "source": [
    "f = x-> sin(x);\n",
    "∫f_exact = 2*sin(1)^2;\n",
    "∫f_simpson =  h/3 * (f(x[1]) + 4*f(x[2]) + f(x[3]));\n",
    "abs_err = abs(∫f_simpson - ∫f_exact);\n",
    "@printf(\"Simpson's rule = %g\\n\", ∫f_simpson);\n",
    "@printf(\"Error = %g\\n\", abs_err);"
   ]
  },
  {
   "cell_type": "markdown",
   "id": "8da092c3-cce9-40bf-8aa5-98d28c4b1fad",
   "metadata": {},
   "source": [
    "## Exactness of Integration\n",
    "Try integrating $x^k$ for different $k$ with different methods."
   ]
  },
  {
   "cell_type": "code",
   "execution_count": null,
   "id": "0c20ea50-adce-404e-b180-ab0860f6c6d0",
   "metadata": {},
   "outputs": [],
   "source": [
    "k_vals = [0, 1, 2, 3, 4];\n",
    "for k in k_vals\n",
    "    f = x-> x^k;\n",
    "    ∫f_exact = (x[3]^(k+1) - x[1]^(k+1))/(k+1);\n",
    "    ∫f_trap =  2* h/2 * (f(x[1]) + f(x[3]));\n",
    "    ∫f_simpson =  h/3 * (f(x[1]) + 4*f(x[2]) + f(x[3]));\n",
    "    @show k;\n",
    "    @printf(\"Trapezoidal error = %g\\n\", abs(∫f_exact - ∫f_trap));\n",
    "    @printf(\"Simpson's rule error = %g\\n\", abs(∫f_exact - ∫f_simpson));\n",
    "end"
   ]
  }
 ],
 "metadata": {
  "kernelspec": {
   "display_name": "Julia 1.7.0-rc2",
   "language": "julia",
   "name": "julia-1.7"
  },
  "language_info": {
   "file_extension": ".jl",
   "mimetype": "application/julia",
   "name": "julia",
   "version": "1.7.0"
  }
 },
 "nbformat": 4,
 "nbformat_minor": 5
}
