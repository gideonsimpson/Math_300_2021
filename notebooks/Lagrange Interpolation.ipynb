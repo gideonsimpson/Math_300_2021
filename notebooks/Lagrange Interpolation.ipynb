{
 "cells": [
  {
   "cell_type": "markdown",
   "id": "0971cee0-21f2-40f1-8570-8e257eb2ddd1",
   "metadata": {},
   "source": [
    "# Lagrange Interpolation"
   ]
  },
  {
   "cell_type": "code",
   "execution_count": null,
   "id": "60d3b80c-5539-4b9f-9c4c-dd4d149a3be5",
   "metadata": {},
   "outputs": [],
   "source": [
    "using Plots; pyplot()\n",
    "using LaTeXStrings\n",
    "using Printf"
   ]
  },
  {
   "cell_type": "code",
   "execution_count": null,
   "id": "e0b28142-67e3-4e18-9088-bbd0dec67771",
   "metadata": {},
   "outputs": [],
   "source": [
    "default(lw=2,markersize = 6,\n",
    "    xtickfont=font(12), ytickfont=font(12), \n",
    "    guidefont=font(14), legendfont=font(12),titlefont=font(12))"
   ]
  },
  {
   "cell_type": "markdown",
   "id": "bd0884c3-1e4e-4366-b6cb-c1b36d96a24d",
   "metadata": {},
   "source": [
    "## Example 1\n",
    "Visualize some Lagrange Interpolating polynomials.  Note that Julia array indexing begins with one."
   ]
  },
  {
   "cell_type": "code",
   "execution_count": null,
   "id": "2c545124-d898-4be3-8839-3d8fb467f238",
   "metadata": {},
   "outputs": [],
   "source": [
    "x_nodes = [1, 1.5, 3, 3.5, 5];"
   ]
  },
  {
   "cell_type": "code",
   "execution_count": null,
   "id": "1f691304-20f9-4af7-ab55-21794b0279ad",
   "metadata": {},
   "outputs": [],
   "source": [
    "k =2; # which L we construct\n",
    "n = length(x_nodes)-1; # degree of interpolant\n",
    "\n",
    "xx = LinRange(1, 5, 100);\n",
    "Lnk = ones(length(xx));\n",
    "\n",
    "for j in 0:k-1\n",
    "    @. Lnk *= (xx - x_nodes[j+1])/(x_nodes[k+1] -  x_nodes[j+1])\n",
    "end\n",
    "\n",
    "for j in k+1:n\n",
    "    @. Lnk *= (xx - x_nodes[j+1])/(x_nodes[k+1] -  x_nodes[j+1])\n",
    "end\n"
   ]
  },
  {
   "cell_type": "code",
   "execution_count": null,
   "id": "10699b30-4db0-4efb-ab7e-dcaf93af57d9",
   "metadata": {},
   "outputs": [],
   "source": [
    "plot(xx, Lnk,label=L\"$L_{n,k}$\", legend=:bottomleft)\n",
    "scatter!(x_nodes, zeros(n+1), label=\"Data\")\n",
    "plot!(xx, zeros(length(xx)),label=\"\", ls=:dash, color=:black)\n",
    "plot!(xx, ones(length(xx)),label=\"\", ls=:dash, color=:black)\n",
    "xlabel!(L\"$x$\")\n",
    "title!(latexstring(@sprintf(\"\\$k = %d\\$\", k)))"
   ]
  },
  {
   "cell_type": "markdown",
   "id": "a759fc89-accb-4779-a66f-e7c8cef54352",
   "metadata": {},
   "source": [
    "## Example 2\n",
    "Examine the Lagrange interpolant of $f(x) =1/x$ through the nodes $x_0 =1$, $x_1 = 3$, and $x_2 = 5$."
   ]
  },
  {
   "cell_type": "code",
   "execution_count": null,
   "id": "5b590fec-c884-4bc4-969f-0dbfe83e465b",
   "metadata": {},
   "outputs": [],
   "source": [
    "x_nodes = [1., 3., 5.];\n",
    "\n",
    "f = x-> 1/x;\n",
    "\n",
    "L0 = x-> (x^2 - 8*x + 15)/8;\n",
    "L1 = x-> -(x^2 - 6*x + 5)/4;\n",
    "L2 = x-> (x^2 - 4*x + 3)/8;\n",
    "\n",
    "# note that Julia indexes arrays starting at 1\n",
    "P= x-> f(x_nodes[1])*L0(x) + f(x_nodes[2])*L1(x) + f(x_nodes[3])*L2(x);"
   ]
  },
  {
   "cell_type": "code",
   "execution_count": null,
   "id": "955d06be-91f4-4ca3-93ce-b80011ce285e",
   "metadata": {},
   "outputs": [],
   "source": [
    "xx = LinRange(1,5,100);\n",
    "\n",
    "plot(xx, f.(xx), label=L\"$f(x)$\")\n",
    "plot!(xx, P.(xx),label=\"Interpolant\")\n",
    "scatter!(x_nodes, f.(x_nodes),label=\"Data\")\n",
    "xlabel!(L\"$x$\")\n"
   ]
  },
  {
   "cell_type": "code",
   "execution_count": null,
   "id": "7699eff3-b82f-4910-9c83-8d7b054b0bbb",
   "metadata": {},
   "outputs": [],
   "source": [
    "@show abs(f(2) - P(2));"
   ]
  },
  {
   "cell_type": "markdown",
   "id": "20a42d30-cbeb-45be-8feb-dd21f5885300",
   "metadata": {},
   "source": [
    "Consider what happens when we go outside of the region where we have data."
   ]
  },
  {
   "cell_type": "code",
   "execution_count": null,
   "id": "497bcd19-2e2b-4c4c-99bc-7545e073c340",
   "metadata": {},
   "outputs": [],
   "source": [
    "xx = LinRange(0.1,6,100);\n",
    "\n",
    "plot(xx, f.(xx), label=L\"$f(x)$\")\n",
    "plot!(xx, P.(xx),label=\"Interpolant\")\n",
    "scatter!(x_nodes, f.(x_nodes),label=\"Data\")\n",
    "xlabel!(L\"$x$\")\n"
   ]
  },
  {
   "cell_type": "markdown",
   "id": "8737addf-3d84-4933-9ae6-857f91bd2481",
   "metadata": {},
   "source": [
    "## Example 3\n",
    "Overfitting, or why we must be careful with Lagrange. Observe what happens as the number of nodes gets too large.  For convenience, this generates the Lagrange interpolant using the `DataInterpolations` module, and the `LagrangeInterpolation` function."
   ]
  },
  {
   "cell_type": "code",
   "execution_count": null,
   "id": "9dc0652d-f69e-41f9-a4f3-2c6757f32185",
   "metadata": {},
   "outputs": [],
   "source": [
    "using DataInterpolations\n",
    "x_nodes = LinRange(0,1,66);\n",
    "y_nodes = @. sin(2* π * x_nodes);\n",
    "p = LagrangeInterpolation(y_nodes, x_nodes)\n",
    "\n",
    "xx = LinRange(0,1,5000);\n",
    "plot(xx, p.(xx),label=\"Interpolant\")\n",
    "scatter!(x_nodes, y_nodes, label=\"Data\")\n",
    "xlims!(.9, 1)\n",
    "xlabel!(L\"$x$\")"
   ]
  }
 ],
 "metadata": {
  "kernelspec": {
   "display_name": "Julia 1.7.0-rc2",
   "language": "julia",
   "name": "julia-1.7"
  },
  "language_info": {
   "file_extension": ".jl",
   "mimetype": "application/julia",
   "name": "julia",
   "version": "1.7.0"
  }
 },
 "nbformat": 4,
 "nbformat_minor": 5
}
