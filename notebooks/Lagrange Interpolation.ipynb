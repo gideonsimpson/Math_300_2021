{
 "cells": [
  {
   "cell_type": "markdown",
   "id": "0971cee0-21f2-40f1-8570-8e257eb2ddd1",
   "metadata": {},
   "source": [
    "# Lagrange Interpolation"
   ]
  },
  {
   "cell_type": "code",
   "execution_count": null,
   "id": "60d3b80c-5539-4b9f-9c4c-dd4d149a3be5",
   "metadata": {},
   "outputs": [],
   "source": [
    "using Plots; pyplot()\n",
    "using LaTeXStrings\n",
    "using Printf"
   ]
  },
  {
   "cell_type": "code",
   "execution_count": null,
   "id": "e0b28142-67e3-4e18-9088-bbd0dec67771",
   "metadata": {},
   "outputs": [],
   "source": [
    "default(lw=2,markersize = 6,\n",
    "    xtickfont=font(12), ytickfont=font(12), \n",
    "    guidefont=font(14), legendfont=font(12),titlefont=font(12))"
   ]
  },
  {
   "cell_type": "markdown",
   "id": "a759fc89-accb-4779-a66f-e7c8cef54352",
   "metadata": {},
   "source": [
    "## Example 1\n",
    "Examine the Lagrange interpolant of $f(x) =1/x$ through the nodes $x_0 =1$, $x_1 = 3$, and $x_2 = 5$."
   ]
  },
  {
   "cell_type": "code",
   "execution_count": null,
   "id": "5b590fec-c884-4bc4-969f-0dbfe83e465b",
   "metadata": {},
   "outputs": [],
   "source": [
    "x_nodes = [1., 3., 5.];\n",
    "\n",
    "f = x-> 1/x;\n",
    "\n",
    "L0 = x-> (x^2 - 8*x + 15)/8;\n",
    "L1 = x-> -(x^2 - 6*x + 5)/4;\n",
    "L2 = x-> (x^2 - 4*x + 3)/8;\n",
    "\n",
    "# note that Julia indexes arrays starting at 1\n",
    "P= x-> f(x_nodes[1])*L0(x) + f(x_nodes[2])*L1(x) + f(x_nodes[3])*L2(x);"
   ]
  },
  {
   "cell_type": "code",
   "execution_count": null,
   "id": "955d06be-91f4-4ca3-93ce-b80011ce285e",
   "metadata": {},
   "outputs": [],
   "source": [
    "xx = LinRange(1,5,100);\n",
    "\n",
    "plot(xx, f.(xx), label=L\"$f(x)$\")\n",
    "plot!(xx, P.(xx),label=\"Interpolant\")\n",
    "scatter!(x_nodes, f.(x_nodes),label=\"Data\")"
   ]
  },
  {
   "cell_type": "code",
   "execution_count": null,
   "id": "7699eff3-b82f-4910-9c83-8d7b054b0bbb",
   "metadata": {},
   "outputs": [],
   "source": [
    "@show abs(f(2) - P(2));"
   ]
  },
  {
   "cell_type": "markdown",
   "id": "20a42d30-cbeb-45be-8feb-dd21f5885300",
   "metadata": {},
   "source": [
    "Consider what happens when we go outside of the region where we have data."
   ]
  },
  {
   "cell_type": "code",
   "execution_count": null,
   "id": "497bcd19-2e2b-4c4c-99bc-7545e073c340",
   "metadata": {},
   "outputs": [],
   "source": [
    "xx = LinRange(0.1,6,100);\n",
    "\n",
    "plot(xx, f.(xx), label=L\"$f(x)$\")\n",
    "plot!(xx, P.(xx),label=\"Interpolant\")\n",
    "scatter!(x_nodes, f.(x_nodes),label=\"Data\")"
   ]
  }
 ],
 "metadata": {
  "kernelspec": {
   "display_name": "Julia 1.6.3",
   "language": "julia",
   "name": "julia-1.6"
  },
  "language_info": {
   "file_extension": ".jl",
   "mimetype": "application/julia",
   "name": "julia",
   "version": "1.6.3"
  }
 },
 "nbformat": 4,
 "nbformat_minor": 5
}
