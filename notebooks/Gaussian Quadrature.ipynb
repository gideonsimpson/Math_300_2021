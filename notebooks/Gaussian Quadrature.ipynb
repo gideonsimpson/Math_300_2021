{
 "cells": [
  {
   "cell_type": "code",
   "execution_count": null,
   "id": "f7fbad43-0594-4209-b75b-217e32a15935",
   "metadata": {},
   "outputs": [],
   "source": [
    "using Printf\n",
    "using LinearAlgebra\n",
    "using Polynomials"
   ]
  },
  {
   "cell_type": "markdown",
   "id": "062932b7-5360-473b-a037-2c46e359f5e6",
   "metadata": {},
   "source": [
    "## Gaussian Quadarture with n = 2"
   ]
  },
  {
   "cell_type": "code",
   "execution_count": null,
   "id": "7275f839-000e-4955-9e06-0b7b017a1abc",
   "metadata": {},
   "outputs": [],
   "source": [
    "x_gauss = [-sqrt(3)/3, sqrt(3)/3];\n",
    "c_gauss = [1, 1];\n",
    "\n",
    "k_vals = 0:4\n",
    "for k in k_vals\n",
    "    f = x-> x^k;\n",
    "    ∫f_exact = (1^(k+1) - (-1)^(k+1))/(k+1);\n",
    "    ∫f_gauss=  c_gauss ⋅ f.(x_gauss);\n",
    "    @show k;\n",
    "    @printf(\"Gaussian error = %g\\n\", abs(∫f_exact - ∫f_gauss));\n",
    "end"
   ]
  },
  {
   "cell_type": "markdown",
   "id": "ce338311-6ee2-4396-b447-08562f693561",
   "metadata": {},
   "source": [
    "## Comparison with Trapezoidal Rule"
   ]
  },
  {
   "cell_type": "code",
   "execution_count": null,
   "id": "d92f5957-c63d-497b-8e06-01098bb93633",
   "metadata": {},
   "outputs": [],
   "source": [
    "f = x-> exp(x);\n",
    "∫f_gauss =  c_gauss ⋅ f.(x_gauss);\n",
    "∫f_trap  =  .5 * 2 * (f(-1) + f(1));\n",
    "@printf(\"Exact = %g\\n\", exp(1)-exp(-1));\n",
    "@printf(\"Gauss = %g\\n\", ∫f_gauss);\n",
    "@printf(\"Trap  = %g\\n\", ∫f_trap);"
   ]
  },
  {
   "cell_type": "markdown",
   "id": "6af2b113-d11d-4f6c-a329-a969e1286e53",
   "metadata": {},
   "source": [
    "## Gaussian Quadratuer for n = 3"
   ]
  },
  {
   "cell_type": "code",
   "execution_count": null,
   "id": "69e71f12-1dcd-40e9-be86-395ead55a848",
   "metadata": {},
   "outputs": [],
   "source": [
    "P3 = Polynomial([0, -3/5, 0, 1]); # Third Legendre polynomial found in a table, x³ - 3/5 x\n",
    "@show P3;\n",
    "@show x_gauss = sort(roots(P3));"
   ]
  },
  {
   "cell_type": "code",
   "execution_count": null,
   "id": "73795d4b-d15c-469d-8c99-b63e05f6e043",
   "metadata": {},
   "outputs": [],
   "source": [
    "# these wer found analytically\n",
    "c_gauss = [ (2/3 + 2 * x_gauss[2]* x_gauss[3])/((x_gauss[1] - x_gauss[2])*(x_gauss[1] - x_gauss[3]))\n",
    "            (2/3 + 2 * x_gauss[1]* x_gauss[3])/((x_gauss[2] - x_gauss[1])*(x_gauss[2] - x_gauss[3]))  \n",
    "            (2/3 + 2 * x_gauss[1]* x_gauss[2])/((x_gauss[3] - x_gauss[1])*(x_gauss[3] - x_gauss[2]))];\n"
   ]
  },
  {
   "cell_type": "code",
   "execution_count": null,
   "id": "b96b60bb-7834-46b4-9e12-b5bc5b25fbbc",
   "metadata": {},
   "outputs": [],
   "source": [
    "\n",
    "k_vals = 0:6\n",
    "for k in k_vals\n",
    "    f = x-> x^k;\n",
    "    ∫f_exact = (1^(k+1) - (-1)^(k+1))/(k+1);\n",
    "    ∫f_gauss=  c_gauss ⋅ f.(x_gauss);\n",
    "    @show k;\n",
    "    @printf(\"Gaussian error = %g\\n\", abs(∫f_exact - ∫f_gauss));\n",
    "end"
   ]
  },
  {
   "cell_type": "code",
   "execution_count": null,
   "id": "78722b1f-8fa1-477b-ad26-c5190c9b7da6",
   "metadata": {},
   "outputs": [],
   "source": [
    "f = x-> exp(x);\n",
    "∫f_gauss =  c_gauss ⋅ f.(x_gauss);\n",
    "∫f_trap  =  .5 * 2 * (f(-1) + f(1));\n",
    "@printf(\"Exact = %g\\n\", exp(1)-exp(-1));\n",
    "@printf(\"Gauss = %g\\n\", ∫f_gauss);\n",
    "@printf(\"Trap  = %g\\n\", ∫f_trap);"
   ]
  },
  {
   "cell_type": "markdown",
   "id": "6d5a2c61-0bff-4f46-8cea-2eaf04ac3190",
   "metadata": {
    "tags": []
   },
   "source": [
    "## Integrating over a different interval\n",
    "To integrate over $[a,b]$ instead of $[-1,1]$, shift the nodes, $t_i \\in [-1,1]$, to be\n",
    "$$\n",
    "x_i = \\frac{1}{2}((b-a)t_i + a + b)\n",
    "$$\n",
    "then \n",
    "$$\n",
    "\\int_a^b f(x) dx = \\frac{b-a}{2} \\sum_{i=1}^n c_i f(x_i)\n",
    "$$"
   ]
  },
  {
   "cell_type": "markdown",
   "id": "091a3c47-e878-466b-a73c-937838ac583d",
   "metadata": {},
   "source": [
    "Use this to compute\n",
    "$$\n",
    "\\int_0^\\pi \\sin(x)dx  =2 \n",
    "$$"
   ]
  },
  {
   "cell_type": "code",
   "execution_count": null,
   "id": "344fe494-d8ae-4ef7-9718-6180225e95d3",
   "metadata": {},
   "outputs": [],
   "source": [
    "P3 = Polynomial([0, -3/5, 0, 1]); # Third Legendre polynomial found in a table, x³ - 3/5 x\n",
    "t_gauss = sort(roots(P3));\n",
    "a = 0;\n",
    "b = π;\n",
    "\n",
    "x_gauss = @. 0.5 * ((b-a) * t_gauss + a + b);\n",
    "# these wer found analytically\n",
    "c_gauss = [ (2/3 + 2 * t_gauss[2]* t_gauss[3])/((t_gauss[1] - t_gauss[2])*(t_gauss[1] - t_gauss[3]))\n",
    "            (2/3 + 2 * t_gauss[1]* t_gauss[3])/((t_gauss[2] - t_gauss[1])*(t_gauss[2] - t_gauss[3]))  \n",
    "            (2/3 + 2 * t_gauss[1]* t_gauss[2])/((t_gauss[3] - t_gauss[1])*(t_gauss[3] - t_gauss[2]))];\n",
    "\n",
    "f = f-> sin(x);\n",
    "\n",
    "∫f_gauss = 0.5 * (b-a) *c_gauss⋅ sin.(x_gauss);\n",
    "∫f_exact = 2;\n",
    "∫f_trap = 0.5 * (π/2) * (sin(0) + 2*sin(π/2) + sin(π));\n",
    "\n",
    "@printf(\"Exact = %g\\n\", ∫f_exact);\n",
    "@printf(\"Gauss = %g\\n\", ∫f_gauss);\n",
    "@printf(\"Trap  = %g\\n\", ∫f_trap);"
   ]
  },
  {
   "cell_type": "code",
   "execution_count": null,
   "id": "90c49c0d-82cc-4293-a516-825db2548d9b",
   "metadata": {},
   "outputs": [],
   "source": []
  }
 ],
 "metadata": {
  "kernelspec": {
   "display_name": "Julia 1.6.3",
   "language": "julia",
   "name": "julia-1.6"
  },
  "language_info": {
   "file_extension": ".jl",
   "mimetype": "application/julia",
   "name": "julia",
   "version": "1.6.3"
  }
 },
 "nbformat": 4,
 "nbformat_minor": 5
}
