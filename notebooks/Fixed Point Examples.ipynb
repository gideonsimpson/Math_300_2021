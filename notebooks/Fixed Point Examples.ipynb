{
 "cells": [
  {
   "cell_type": "markdown",
   "id": "7d0a0a65-42f3-48c7-a525-aa4c93380339",
   "metadata": {},
   "source": [
    "# Illustrate the Fixed Point Iteration Method"
   ]
  },
  {
   "cell_type": "code",
   "execution_count": null,
   "id": "451d8f5a-1a33-43ab-a6bf-21df10a39197",
   "metadata": {},
   "outputs": [],
   "source": [
    "using Plots; pyplot()\n",
    "using LaTeXStrings\n",
    "using Printf"
   ]
  },
  {
   "cell_type": "code",
   "execution_count": null,
   "id": "c0764fc7-164a-439e-942b-80e5a9a85bd9",
   "metadata": {},
   "outputs": [],
   "source": [
    "default(lw=2,markersize = 6,\n",
    "    xtickfont=font(12), ytickfont=font(12), \n",
    "    guidefont=font(14), legendfont=font(12),titlefont=font(12))"
   ]
  },
  {
   "cell_type": "code",
   "execution_count": null,
   "id": "03f05b71-aa36-472b-bdcd-95c2de891766",
   "metadata": {},
   "outputs": [],
   "source": [
    "function fixed_point_iteration(g, p, n_max, rel_tol; verbose=true)\n",
    "    p_old = p;\n",
    "    for i in 1:n_max\n",
    "        p = g(p);\n",
    "        @printf(\"%d: p = %.8g\\n\", i, p);\n",
    "        if(i>1)\n",
    "            if abs(p_old-p)/abs(p) < rel_tol\n",
    "                break;\n",
    "            end\n",
    "        end\n",
    "        p_old = p;\n",
    "    end\n",
    "\n",
    "    return p\n",
    "    \n",
    "end"
   ]
  },
  {
   "cell_type": "markdown",
   "id": "5afcb93a-071c-4e3f-a407-c0846fee4fa8",
   "metadata": {},
   "source": [
    "## Example\n",
    "Find a fixed point of \n",
    "$$\n",
    "g(x) = 3^{-x}\n",
    "$$\n",
    "in the interval $[0,1]$."
   ]
  },
  {
   "cell_type": "code",
   "execution_count": null,
   "id": "01ebcb54-e436-43c9-a9f6-566ab1659008",
   "metadata": {},
   "outputs": [],
   "source": [
    "g = x-> 3^(-x);"
   ]
  },
  {
   "cell_type": "code",
   "execution_count": null,
   "id": "19cadab7-317a-48e9-8dc3-c945921f9b81",
   "metadata": {},
   "outputs": [],
   "source": [
    "xx = LinRange(0,1,100);\n",
    "plot(xx, g.(xx), label=L\"$g(x)$\")\n",
    "plot!(xx,xx,label=L\"y=x\")\n",
    "xlabel!(L\"$x$\")"
   ]
  },
  {
   "cell_type": "code",
   "execution_count": null,
   "id": "a902a055-fa6b-4409-a2fb-49b43044f560",
   "metadata": {},
   "outputs": [],
   "source": [
    "n_max = 100;\n",
    "rel_tol = 1e-6;\n",
    "\n",
    "p0 = -10.;\n",
    "\n",
    "p = fixed_point_iteration(g, p0, n_max, rel_tol);"
   ]
  },
  {
   "cell_type": "markdown",
   "id": "0f6de35d-f8b7-43eb-b636-506786cce79f",
   "metadata": {},
   "source": [
    "## Example \n",
    "Find a fixed point of \n",
    "$$\n",
    "g(x) = 2\\sin(x)\n",
    "$$\n",
    "in the interval $[0, \\pi]$."
   ]
  },
  {
   "cell_type": "code",
   "execution_count": null,
   "id": "32e841db-2cd0-4040-bcce-3afac0aef98f",
   "metadata": {},
   "outputs": [],
   "source": [
    "g = x-> 2sin(x);"
   ]
  },
  {
   "cell_type": "code",
   "execution_count": null,
   "id": "509100f3-918f-47d1-854d-c387a0973ff2",
   "metadata": {},
   "outputs": [],
   "source": [
    "xx = LinRange(0,π,100);\n",
    "plot(xx, g.(xx), label=L\"$g(x)$\")\n",
    "plot!(xx,xx,label=L\"y=x\")\n",
    "xlabel!(L\"$x$\")"
   ]
  },
  {
   "cell_type": "code",
   "execution_count": null,
   "id": "49b5cf2f-5add-46a2-a641-061dd83d7278",
   "metadata": {},
   "outputs": [],
   "source": [
    "n_max = 100;\n",
    "rel_tol = 1e-6;\n",
    "\n",
    "p0 =-5;\n",
    "\n",
    "p = fixed_point_iteration(g, p0, n_max, rel_tol);"
   ]
  },
  {
   "cell_type": "markdown",
   "id": "614943fd-052b-4bd9-a35d-5f79baafa3d8",
   "metadata": {},
   "source": [
    "## Example\n",
    "The following example fails to converge:\n",
    "$$\n",
    "g(x) = x - x^3 - 4 x^2 + 10;\n",
    "$$\n",
    "Try to find the fixed point in $[1,2]$.\n",
    "\n",
    "Why does it fail?"
   ]
  },
  {
   "cell_type": "code",
   "execution_count": null,
   "id": "8ffce425-946c-400a-99cf-dab12badec99",
   "metadata": {},
   "outputs": [],
   "source": [
    "g = x-> x - x^3 - 4*x^2 + 10;"
   ]
  },
  {
   "cell_type": "code",
   "execution_count": null,
   "id": "3bd2e617-ed75-4901-83d9-5d2e101d4c0f",
   "metadata": {},
   "outputs": [],
   "source": [
    "xx = LinRange(1,2,100);\n",
    "plot(xx, g.(xx), label=L\"$g(x)$\")\n",
    "plot!(xx,xx,label=L\"y=x\")\n",
    "xlabel!(L\"$x$\")"
   ]
  },
  {
   "cell_type": "code",
   "execution_count": null,
   "id": "5e6f7880-6843-4bed-855d-e97238c349f8",
   "metadata": {},
   "outputs": [],
   "source": [
    "n_max = 10;\n",
    "rel_tol = 1e-6;\n",
    "\n",
    "p0 = 1.3;\n",
    "\n",
    "p = fixed_point_iteration(g, p0, n_max, rel_tol);"
   ]
  },
  {
   "cell_type": "markdown",
   "id": "a9c1cf5f-e842-45ff-b2e6-8fbe7dcaadb3",
   "metadata": {},
   "source": [
    "The problem is that $|g'(x)|\\gg 1$."
   ]
  }
 ],
 "metadata": {
  "kernelspec": {
   "display_name": "Julia 1.6.3",
   "language": "julia",
   "name": "julia-1.6"
  },
  "language_info": {
   "file_extension": ".jl",
   "mimetype": "application/julia",
   "name": "julia",
   "version": "1.6.3"
  }
 },
 "nbformat": 4,
 "nbformat_minor": 5
}
