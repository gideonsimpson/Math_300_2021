{
 "cells": [
  {
   "cell_type": "markdown",
   "metadata": {},
   "source": [
    "# MATH 300: Numerical Analysis I Recitation\n",
    "\n",
    "## Instructor: Liam Doherty\n",
    "\n",
    "## Meeting Time/Place: W 11:00AM, Curtis 344\n",
    "\n",
    "### Office Availability: MRC hours MTR 5p-7p (M 5-7 & T 5-6 FTF, others online), or in Korman 257 by appointment"
   ]
  },
  {
   "cell_type": "markdown",
   "metadata": {},
   "source": [
    "Homework 2 is due Thursday. Let me know if you have any questions.\n",
    "\n",
    "This week, we will be doing more exercises from sections 4.1-4.4, with focus on numerical integration and Julia packages that allow us to do these problems without our own code."
   ]
  },
  {
   "cell_type": "markdown",
   "metadata": {},
   "source": [
    "# Problem 4.1.29\n",
    "\n",
    "Consider the function $\\newline \\newline$\n",
    "$$\n",
    "e(h) = \\frac{\\epsilon}{h} + \\frac{h^{2}}{6}M,\n",
    "\\newline\n",
    "$$\n",
    "where $M$ is a bound on the third derivative of a function. Show that $e(h)$ has a minimum at $\\sqrt[3]{3\\epsilon/M}$."
   ]
  },
  {
   "cell_type": "markdown",
   "metadata": {},
   "source": [
    "## Solution: \n",
    "\n",
    "All we need to do is perform the standard optimization techniques from calculus. The derivative is $\\newline \\newline$\n",
    "$$\n",
    "e'(h) = -\\frac{\\epsilon}{h^{2}} + \\frac{h}{3}M,\n",
    "\\newline\n",
    "$$\n",
    "which means that a critical point $h$ must satisfy $\\newline \\newline$\n",
    "$$\n",
    "\\frac{\\epsilon}{h^{2}} = \\frac{h}{3}M.\n",
    "\\newline\n",
    "$$\n",
    "Solving for $h$, we find that $h = \\sqrt[3]{3\\epsilon/M}$ is a critical point. Further, it is indeed a minimum value since $\\newline \\newline$\n",
    "$$\n",
    "e''(h) = \\frac{2\\epsilon}{h^{3}} + \\frac{M}{3} > 0\n",
    "\\newline\n",
    "$$\n",
    "when $\\epsilon$, $h$ and $M$ are positive (of course, this is a reasonable assumption to make).\n",
    "\n",
    "The reason for picking this exercise is obviously not for its mathematical content; rather, what this exercise shows us is that if we have a formula with an error term for a numerical scheme, we can optimize it in this way to find an optimal selection for our step size $h$."
   ]
  },
  {
   "cell_type": "markdown",
   "metadata": {},
   "source": [
    "# Problems 4.3.5(a) & 4.3.9(a)\n",
    "\n",
    "The integral we consider is $\\newline \\newline$\n",
    "$$\n",
    "\\int_{0.5}^{1}x^{4}dx.\n",
    "\\newline\n",
    "$$\n",
    "(This is intentionally chosen as the integral from last week's recitation). Approximate this integral with Simpson's rule and the Midpoint rule."
   ]
  },
  {
   "cell_type": "markdown",
   "metadata": {},
   "source": [
    "## Solution: \n",
    "\n",
    "Recall that the exact solution to this integral is $\\newline \\newline$\n",
    "$$\n",
    "\\int_{0.5}^{1}x^{4}dx = 0.19375.\n",
    "\\newline\n",
    "$$\n",
    "The (non-composite) Simpson's rule makes the approximation $\\newline \\newline$\n",
    "$$\n",
    "\\int_{x_{0}}^{x_{2}}f(x)dx = \\frac{h}{3}[f(x_{0}) + 4f(x_{1}) + f(x_{2})] + \\mathcal{O}(h^{5}).\n",
    "\\newline\n",
    "$$\n",
    "Neglecting the error term gives the approximation $\\newline \\newline$\n",
    "$$\n",
    "\\begin{align*}\n",
    "    \\int_{0.5}^{1}x^{4}dx &\\approx \\frac{0.25}{3}[(0.5)^{4} + 4(0.75)^{4} + 1^{4}] \\\\\n",
    "    &\\approx 0.19401.\n",
    "\\end{align*}\n",
    "\\newline\n",
    "$$\n",
    "This is consistent with our error bounds as well, since $0.25^5 \\approx 0.001$.\n",
    "\n",
    "The Midpoint rule makes a simpler approximation: $\\newline \\newline$\n",
    "$$\n",
    "\\int_{x_{-1}}^{x_{1}}f(x)dx = 2hf(x_{0}) + \\mathcal{O}(h^{3})\n",
    "\\newline\n",
    "$$\n",
    "Applying this to our problem while neglecting the error term gives $\\newline \\newline$\n",
    "$$\n",
    "\\begin{align*}\n",
    "    \\int_{0.5}^{1}x^{4}dx &\\approx 2(0.25)(0.75)^{4} \\\\\n",
    "    &\\approx 0.1582.\n",
    "\\end{align*}\n",
    "\\newline\n",
    "$$\n",
    "It is clear that although there is less computational effort here, the approximation is not as good as the approximation for Simpson's rule."
   ]
  },
  {
   "cell_type": "markdown",
   "metadata": {},
   "source": [
    "# Problem 4.4.16(a)\n",
    "\n",
    "In multivariable calculus and statistics courses it is shown that $\\newline \\newline$\n",
    "$$\n",
    "\\int_{-\\infty}^{\\infty}\\frac{1}{\\sigma\\sqrt{2\\pi}}e^{-(1/2)(x/\\sigma)^{2}}dx = 1,\n",
    "\\newline\n",
    "$$\n",
    "for any positive $\\sigma$. The function $\\newline \\newline$\n",
    "$$\n",
    "f(x) = \\frac{1}{\\sigma\\sqrt{2\\pi}}e^{-(1/2)(x/\\sigma)^{2}}\n",
    "\\newline\n",
    "$$\n",
    "is the _normal density function with mean_ $\\mu = 0$ _and standard deviation_ $\\sigma$. The probability that a randomly chosen value described by this distribution lies in $[a, b]$ is given by $\\int_{a}^{b}f(x)dx$. Approximate to within $10^{-5}$ the probability that a randomly chosen value described by this distribution will lie in $[-\\sigma, \\sigma]$."
   ]
  },
  {
   "cell_type": "markdown",
   "metadata": {},
   "source": [
    "## Solution: \n",
    "\n",
    "The integral we need to evaluate is $\\newline \\newline$\n",
    "$$\n",
    "\\int_{-\\sigma}^{\\sigma}\\frac{1}{\\sigma\\sqrt{2\\pi}}e^{-(1/2)(x/\\sigma)^{2}}dx.\n",
    "\\newline\n",
    "$$\n",
    "Our error bound is $\\newline \\newline$\n",
    "$$\n",
    "|E(f)| \\leq \\frac{b - a}{180}h^{4}\\max_{\\mu}|f^{(4)}(\\mu)| \\leq \\frac{\\sigma}{90}\\cdot\\frac{3}{\\sigma^{5}\\sqrt{2\\pi}}h^{4} = \\frac{1}{30\\sigma^{4}\\sqrt{2\\pi}}h^{4}.\n",
    "\\newline\n",
    "$$\n",
    "(See the appendix for associated derivative calulations.) This, however, is not useful to us, since the error bound is dependent on $\\sigma$! What we can do, however, is rescale the integral with a substitution so that we are integrating the standard Gaussian PDF (that is, the PDF of a random variable distributed as $\\mathcal{N}(0, 1)$). Let $y = x/\\sigma$. Then the original integral is equivalent to $\\newline \\newline$\n",
    "$$\n",
    "\\int_{-1}^{1}\\frac{1}{\\sqrt{2\\pi}}e^{-\\frac{y^{2}}{2}}dy.\n",
    "\\newline\n",
    "$$\n",
    "From the fruits of our labor in the appendix, setting $\\sigma = 1$ allows us to recover that a bound on the fourth derivative for this standard Gaussian is $\\newline \\newline$\n",
    "$$\n",
    "|f^{(4)}(x)| \\leq \\frac{3}{\\sqrt{2\\pi}}.\n",
    "\\newline\n",
    "$$\n",
    "Then, our overall bound on the error is $\\newline \\newline$\n",
    "$$\n",
    "E(f) \\leq \\frac{1}{90}h^{4}\\cdot\\frac{3}{\\sqrt{2\\pi}} = \\frac{h^{4}}{30\\sqrt{2\\pi}}.\n",
    "\\newline\n",
    "$$\n",
    "To ensure this is smaller than the indicated error of $10^{-5}$, we need $\\newline \\newline$\n",
    "$$\n",
    "\\frac{h^{4}}{30\\sqrt{2\\pi}} < 10^{-5},\n",
    "\\newline\n",
    "$$\n",
    "and solving this for $h$ gives $h < 0.16559\\dots$. Therefore, we can pick $h = 0.1$ and we'll be in the desired tolerance. Using this step size, Simpson's rule makes the approximation $\\newline \\newline$\n",
    "$$\n",
    "\\begin{align*}\n",
    "    \\int_{-1}^{1}\\frac{1}{\\sqrt{2\\pi}}e^{-\\frac{y^{2}}{2}}dy &\\approx \\frac{0.1}{3}\\Big(f(-1) + 4f(-0.9) + 2f(-0.8) + 4f(-0.7) + 2f(-0.6) + \\dots + 2f(0.6) + 4f(0.7) + 2f(0.8) + 4f(0.9) + f(1)\\Big) \\\\\n",
    "    &\\approx 0.6826900.\n",
    "\\end{align*}\n",
    "\\newline\n",
    "$$\n",
    "This means that we are predicting that $68.269\\%$ of samples will be within a standard deviation of the mean. Let's see if that agrees with computing this integral through one of Julia's built-in packages:"
   ]
  },
  {
   "cell_type": "code",
   "execution_count": 2,
   "metadata": {},
   "outputs": [
    {
     "data": {
      "text/plain": [
       "(0.682689492137086, 9.098977127308672e-11)"
      ]
     },
     "execution_count": 2,
     "metadata": {},
     "output_type": "execute_result"
    }
   ],
   "source": [
    "using QuadGK\n",
    "\n",
    "f(x) = 1/√(2*pi)*exp(-x^2/2)\n",
    "a = -1; b = 1\n",
    "quadgk(f, a, b)"
   ]
  },
  {
   "cell_type": "markdown",
   "metadata": {},
   "source": [
    "The QuadGK package returns the approximated value of the integral, and an estimate on the error bound. Here, our computed value is about $0.6286895$ accurate to within about $10^{-10}$, and we can see that our approximation is within $10^{-5}$ of that answer. "
   ]
  },
  {
   "cell_type": "markdown",
   "metadata": {},
   "source": [
    "# Problem 4.4.22(a)\n",
    "\n",
    "The equation $\\newline \\newline$\n",
    "$$\n",
    "\\int_{0}^{x}\\frac{1}{\\sqrt{2\\pi}}e^{-t^{2}/2}dt = 0.45\n",
    "\\newline\n",
    "$$\n",
    "can be solved for $x$ by using Newton's method with $\\newline \\newline$\n",
    "$$\n",
    "f(x) = \\int_{0}^{x}\\frac{1}{\\sqrt{2\\pi}}e^{-t^{2}/2}dt - 0.45\n",
    "\\newline\n",
    "$$\n",
    "and $\\newline \\newline$\n",
    "$$\n",
    "f'(x) = \\frac{1}{\\sqrt{2\\pi}}e^{-x^{2}/2}.\n",
    "\\newline\n",
    "$$\n",
    "To evaluate $f$ at the approximation $p_{k}$, we need a quadrature formula to approximate $\\newline \\newline$\n",
    "$$\n",
    "\\int_{0}^{p_{k}}\\frac{1}{\\sqrt{2\\pi}}e^{-t^{2}/2}dt.\n",
    "\\newline\n",
    "$$\n",
    "Find a solution to $f(x) = 0$ accurate to within $10^{-5}$ using Newton's method with $p_{0} = 0.5$ and the Composite Simpson's rule."
   ]
  },
  {
   "cell_type": "markdown",
   "metadata": {},
   "source": [
    "## Solution: \n",
    "\n",
    "A quick computation reveals that $p < 2$ (there is underlying intuition here about what the $Z$-score for a $90\\%$ confidence interval is):"
   ]
  },
  {
   "cell_type": "code",
   "execution_count": 11,
   "metadata": {},
   "outputs": [
    {
     "data": {
      "text/plain": [
       "(0.47724986805182085, 5.925998580735836e-11)"
      ]
     },
     "execution_count": 11,
     "metadata": {},
     "output_type": "execute_result"
    }
   ],
   "source": [
    "using QuadGK\n",
    "\n",
    "f(x) = 1/√(2*pi)*exp(-x^2/2)\n",
    "a = 0; b = 2\n",
    "quadgk(f, a, b)"
   ]
  },
  {
   "cell_type": "markdown",
   "metadata": {},
   "source": [
    "We can use $p = 2$ as an upper bound for our $b - a$ portion of our error term then, so that taking a step size of $h < 0.16559$ with Composite Simpson will be good enough so that our error does not get dominated by evaluation of the integral. (To fully justify the fact that we never get $p_{k} > 2$ for any $k$, we make an argument about the concavity: Notice that $\\newline \\newline$\n",
    "$$\n",
    "f''(x) = \\frac{-x}{\\sigma^{3}\\sqrt{2\\pi}}e^{-\\frac{1}{2\\sigma^{2}}x^{2}} < 0\n",
    "\\newline\n",
    "$$\n",
    "whenever $x > 0$; this means that the tangent lines will all lie above the graph. Combining this with the fact that $f(p_{0}) < 0$ (and perhaps also $f'(x) > 0$), we can argue that Newton's method does not overshoot the root.) Now, all we have to do is apply Newton's method, which is $\\newline \\newline$\n",
    "$$\n",
    "p_{k + 1} = p_{k} - \\frac{f(p_{k})}{f'(p_{k})},\n",
    "\\newline\n",
    "$$\n",
    "or, writing it with our functions, $\\newline \\newline$\n",
    "$$\n",
    "p_{k + 1} = p_{k} - \\frac{\\int_{0}^{p_{k}}\\frac{1}{\\sqrt{2\\pi}}e^{-x^{2}/2}dx - 0.45}{\\frac{1}{\\sqrt{2\\pi}}e^{-\\frac{p_{k}^{2}}{2}}}.\n",
    "\\newline\n",
    "$$\n",
    "This is going to be extraordinarily tedious to calculate by hand many times, so we will do one iteration in gory detail and the rest we will take for granted. For the integration, we use $h = 0.05$ and let the integrand of the integral term be denoted by $g$: $\\newline \\newline$\n",
    "$$\n",
    "\\begin{align*}\n",
    "    p_{1} &= 0.5 - \\frac{\\int_{0}^{0.5}\\frac{1}{\\sqrt{2\\pi}}e^{-x^{2}/2}dx - 0.45}{\\frac{1}{\\sqrt{2\\pi}}e^{-(0.5)^{2}/2}} \\\\\n",
    "    &\\approx 0.5 - \\frac{\\frac{0.05}{3}(g(0) + 4g(0.05) + 2g(0.1) + 4g(0.15) + 2g(0.2) + 4g(0.25) + 2g(0.3) + 4g(0.35) + 2g(0.4) + 4g(0.45) + g(0.5)) - 0.45}{\\frac{1}{\\sqrt{2\\pi}}e^{-(0.5)^{2}/2}} \\\\\n",
    "    &\\approx 1.23435.\n",
    "\\end{align*}\n",
    "\\newline\n",
    "$$\n",
    "Now, for the next iteration, we would need to adapt the step size; Simpson's method requires a uniform mesh, so we would need to pick a step size that partitions $[0, 1.23435]$ into an integer number of subintervals. This could be accomplished by splitting the interval into $11$ subintervals each with length $0.123435$. However, this would make the computation fairly expensive to do by hand. We can obtain a few more iterates with code:"
   ]
  },
  {
   "cell_type": "code",
   "execution_count": 12,
   "metadata": {},
   "outputs": [
    {
     "data": {
      "text/plain": [
       "simpson (generic function with 1 method)"
      ]
     },
     "execution_count": 12,
     "metadata": {},
     "output_type": "execute_result"
    }
   ],
   "source": [
    "function simpson(f::Function, a::Real, b::Real, n::Int)\n",
    "    @assert a < b \"Invalid interval!\"\n",
    "    h = (b - a)/n\n",
    "    interior_nodes = [a + i*h for i in 1:n-1]\n",
    "    \n",
    "    # Start the sum with left endpoint\n",
    "    sum = f(a)\n",
    "    \n",
    "    # Add in all interior nodes, accounting for even or odd index\n",
    "    for (j, node) in enumerate(interior_nodes)\n",
    "        if mod(j, 2) == 1\n",
    "            sum += 4*f(node)\n",
    "        elseif mod(j, 2) == 0\n",
    "            sum += 2*f(node)\n",
    "        end\n",
    "    end\n",
    "    \n",
    "    # Add in right endpoint and multiply by h/3\n",
    "    sum += f(b)\n",
    "    sum *= h/3\n",
    "    return sum\n",
    "end"
   ]
  },
  {
   "cell_type": "code",
   "execution_count": 24,
   "metadata": {},
   "outputs": [
    {
     "data": {
      "text/plain": [
       "newton (generic function with 1 method)"
      ]
     },
     "execution_count": 24,
     "metadata": {},
     "output_type": "execute_result"
    }
   ],
   "source": [
    "function newton(f::Function, df::Function, p₀::Real; abs_tol = 1e-5, max_iters = 100, verbose = true)\n",
    "    converged = false\n",
    "    n = 0\n",
    "    \n",
    "    p = p₀\n",
    "    while !converged\n",
    "        n += 1\n",
    "        p_old = p\n",
    "        \n",
    "        @assert df(p) != 0 \"The derivative evaluated at the current point is zero! Cannot proceed. Last point: $(p)\"\n",
    "        \n",
    "        # Main step for algorithm\n",
    "        p = p - f(p)/df(p)\n",
    "        \n",
    "        # Status updates\n",
    "        if verbose\n",
    "            println(\"Old p: $(p_old), New p: $(p), Iteration: $(n)\")\n",
    "        end\n",
    "        \n",
    "        # Check convergence\n",
    "        if abs(p - p_old) < abs_tol\n",
    "            converged = true\n",
    "            return p\n",
    "        end\n",
    "        \n",
    "        # Return if algorithm does not converge\n",
    "        if n == max_iters\n",
    "            println(\"Did not converge in $(max_iters) iterations! Returning last value of p.\")\n",
    "            return p\n",
    "        end\n",
    "    end\n",
    "end"
   ]
  },
  {
   "cell_type": "code",
   "execution_count": 27,
   "metadata": {},
   "outputs": [
    {
     "name": "stdout",
     "output_type": "stream",
     "text": [
      "Old p: 0.5, New p: 1.2343453110550333, Iteration: 1\n",
      "Old p: 1.2343453110550333, New p: 1.5486605570698364, Iteration: 2\n",
      "Old p: 1.5486605570698364, New p: 1.6378961203367568, Iteration: 3\n",
      "Old p: 1.6378961203367568, New p: 1.6448121003608789, Iteration: 4\n",
      "Old p: 1.6448121003608789, New p: 1.6448517600542927, Iteration: 5\n",
      "Old p: 1.6448517600542927, New p: 1.644851762135592, Iteration: 6\n"
     ]
    },
    {
     "data": {
      "text/plain": [
       "1.644851762135592"
      ]
     },
     "execution_count": 27,
     "metadata": {},
     "output_type": "execute_result"
    }
   ],
   "source": [
    "g(x) = 1/√(2*pi)*exp(-x^2/2)\n",
    "# Always using 10 subintervals for integration; this ensures that we will always be within 1e-5 in our approximation.\n",
    "f(x) = simpson(g, 0, x, 10) - 0.45; df(x) = g(x)\n",
    "newton(f, df, 0.5)"
   ]
  },
  {
   "cell_type": "markdown",
   "metadata": {},
   "source": [
    "We only required 6 iterations to achieve the desired accuracy! Let's check that this agrees with a version of the code that uses packages to accomplish the integration and rootfinding tasks:"
   ]
  },
  {
   "cell_type": "code",
   "execution_count": 9,
   "metadata": {},
   "outputs": [
    {
     "data": {
      "text/plain": [
       "1.6448536269514722"
      ]
     },
     "execution_count": 9,
     "metadata": {},
     "output_type": "execute_result"
    }
   ],
   "source": [
    "using Roots\n",
    "using QuadGK\n",
    "\n",
    "g(x) = 1/√(2*pi)*exp(-x^2/2)\n",
    "f(x) = quadgk(g, 0, x)[1] - 0.45; df(x) = g(x) # quadgk is NOT using Composite Simpson, but allows us to check answer\n",
    "\n",
    "find_zero((f, df), 0.5, Roots.Newton())"
   ]
  },
  {
   "cell_type": "markdown",
   "metadata": {},
   "source": [
    "# Appendix of Calculations for Problem 4.4.16\n",
    "\n",
    "We need to maximize the fourth derivative of $\\newline \\newline$\n",
    "$$\n",
    "f(x) = \\frac{1}{\\sigma\\sqrt{2\\pi}}e^{-\\frac{1}{2\\sigma^{2}}x^{2}}.\n",
    "\\newline\n",
    "$$\n",
    "Repeated differentiation gives the first through fifth derivatives: $\\newline \\newline$\n",
    "$$\n",
    "\\begin{align*}\n",
    "    f'(x) &= \\frac{-x}{\\sigma^{3}\\sqrt{2\\pi}}e^{-\\frac{1}{2\\sigma^{2}}x^{2}} \\\\\n",
    "    f''(x) &= \\Bigg(\\frac{-1}{\\sigma^{3}\\sqrt{2\\pi}} + \\frac{x^{2}}{\\sigma^{5}\\sqrt{2\\pi}}\\Bigg)e^{-\\frac{1}{2\\sigma^{2}}x^{2}} \\\\\n",
    "    f'''(x) &= \\Bigg(\\frac{3x}{\\sigma^{5}\\sqrt{2\\pi}} - \\frac{x^{3}}{\\sigma^{7}\\sqrt{2\\pi}}\\Bigg)e^{-\\frac{1}{2\\sigma^{2}}x^{2}} \\\\\n",
    "    f^{(4)}(x) &= \\Bigg(\\frac{3}{\\sigma^{5}\\sqrt{2\\pi}} - \\frac{6x^{2}}{\\sigma^{7}\\sqrt{2\\pi}} + \\frac{x^{4}}{\\sigma^{9}\\sqrt{2\\pi}}\\Bigg)e^{-\\frac{1}{2\\sigma^{2}}x^{2}} \\\\\n",
    "    f^{(5)}(x) &= \\Bigg(\\frac{-15x}{\\sigma^{7}\\sqrt{2\\pi}} + \\frac{10x^{3}}{\\sigma^{9}\\sqrt{2\\pi}} - \\frac{x^{5}}{\\sigma^{11}\\sqrt{2\\pi}}\\Bigg)e^{-\\frac{1}{2\\sigma^{2}}x^{2}}\n",
    "\\end{align*}\n",
    "\\newline\n",
    "$$\n",
    "To maximize the fourth derivative, we need to find where the fifth derivative equals zero. Since the exponential term is never zero, we find that the critical points satisfy $\\newline \\newline$\n",
    "$$\n",
    "x(x^{4} - 10x^{2} + 15) = 0,\n",
    "\\newline\n",
    "$$\n",
    "which means that $x = 0$ is a solution and there are four other solutions. An application of the first derivative test shows that $x = 0$ and two of the solutions to $x^{4} - 10x^{2} + 15$ are maxima of $f^{(4)}(x)$, and plugging in the numbers and using the fact that $\\sigma > 0$ tells us that $x = 0$ is the location of the global maximum of $f^{(4)}(x)$. Evaluating $f^{(4)}(0)$ gives $\\newline \\newline$\n",
    "$$\n",
    "f^{(4)}(0) = \\frac{3}{\\sigma^{5}\\sqrt{2\\pi}},\n",
    "$$\n",
    "which is the original $\\sigma$-dependent upper bound used in the solution."
   ]
  }
 ],
 "metadata": {
  "kernelspec": {
   "display_name": "Julia 1.6.0",
   "language": "julia",
   "name": "julia-1.6"
  },
  "language_info": {
   "file_extension": ".jl",
   "mimetype": "application/julia",
   "name": "julia",
   "version": "1.6.0"
  }
 },
 "nbformat": 4,
 "nbformat_minor": 4
}
