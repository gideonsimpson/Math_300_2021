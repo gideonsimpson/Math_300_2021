{
 "cells": [
  {
   "cell_type": "code",
   "execution_count": null,
   "id": "42ac7f7e-61c6-4a65-8029-138cbcb7034d",
   "metadata": {},
   "outputs": [],
   "source": [
    "using Plots\n",
    "using LaTeXStrings"
   ]
  },
  {
   "cell_type": "code",
   "execution_count": null,
   "id": "5fdecb9f-c40c-416d-a046-325a3c5dc964",
   "metadata": {},
   "outputs": [],
   "source": [
    "default(lw=2,markersize = 6,\n",
    "    xtickfont=font(12), ytickfont=font(12), \n",
    "    guidefont=font(14), legendfont=font(12),titlefont=font(12))"
   ]
  },
  {
   "cell_type": "code",
   "execution_count": null,
   "id": "41655e53-b3ad-4e8d-94c0-aec99eccc44c",
   "metadata": {},
   "outputs": [],
   "source": [
    "n_vals = 1:10;\n",
    "plot((@. 0.5 ^(n_vals)), label=\"Linear\", yaxis=(:log10, [1e-15, :auto]), legend=:right)\n",
    "plot!((@. 0.5 ^((2^n_vals) -1)), label=\"Quadratic\")\n",
    "yticks!(10. .^(-15:0))\n",
    "xlabel!(L\"$n$\")\n",
    "ylabel!(\"Error\")"
   ]
  },
  {
   "cell_type": "code",
   "execution_count": null,
   "id": "d8f62f0a-5d1a-4e98-a2c4-d1f5f4d7bb6b",
   "metadata": {},
   "outputs": [],
   "source": []
  }
 ],
 "metadata": {
  "kernelspec": {
   "display_name": "Julia 1.6.3",
   "language": "julia",
   "name": "julia-1.6"
  },
  "language_info": {
   "file_extension": ".jl",
   "mimetype": "application/julia",
   "name": "julia",
   "version": "1.6.3"
  }
 },
 "nbformat": 4,
 "nbformat_minor": 5
}
