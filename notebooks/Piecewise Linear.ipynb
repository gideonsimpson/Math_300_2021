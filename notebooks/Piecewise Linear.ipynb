{
 "cells": [
  {
   "cell_type": "markdown",
   "id": "ec2144f9-2b0d-4d9c-ae44-54ae1beebed0",
   "metadata": {},
   "source": [
    "# Piecewise Linear Interpolation"
   ]
  },
  {
   "cell_type": "code",
   "execution_count": null,
   "id": "282c9c22-bb54-48ce-84ca-9b8c996db114",
   "metadata": {},
   "outputs": [],
   "source": [
    "using Plots; pyplot()\n",
    "using LaTeXStrings\n",
    "using Printf\n",
    "using Dierckx"
   ]
  },
  {
   "cell_type": "code",
   "execution_count": null,
   "id": "937e39e4-fec3-4e42-8850-28f9a31156fd",
   "metadata": {},
   "outputs": [],
   "source": [
    "default(lw=2,markersize = 6,\n",
    "    xtickfont=font(12), ytickfont=font(12), \n",
    "    guidefont=font(14), legendfont=font(12),titlefont=font(12))"
   ]
  },
  {
   "cell_type": "markdown",
   "id": "0fa95f1d-088a-4f44-a039-c712779480a9",
   "metadata": {},
   "source": [
    "## Example 1"
   ]
  },
  {
   "cell_type": "code",
   "execution_count": null,
   "id": "690451d4-c2dd-4940-867c-831e2f0a88bf",
   "metadata": {},
   "outputs": [],
   "source": [
    "x_nodes = [0, π/2, π, 3*π/2, 2*π];\n",
    "f = x-> sin(x);\n",
    "p =Spline1D(x_nodes, f.(x_nodes), k=1); # k = 1 makes it linear"
   ]
  },
  {
   "cell_type": "code",
   "execution_count": null,
   "id": "592b8cfc-351c-4003-b28d-dafdb61e57b1",
   "metadata": {},
   "outputs": [],
   "source": [
    "xx = LinRange(0, 2*π, 100);\n",
    "plot(xx, f.(xx),label=L\"$f$\")\n",
    "plot!(xx, p.(xx), label=\"Interpolant\")\n",
    "scatter!(x_nodes, f.(x_nodes), label=\"Data\")\n",
    "xlabel!(L\"$x$\")"
   ]
  }
 ],
 "metadata": {
  "kernelspec": {
   "display_name": "Julia 1.6.3",
   "language": "julia",
   "name": "julia-1.6"
  },
  "language_info": {
   "file_extension": ".jl",
   "mimetype": "application/julia",
   "name": "julia",
   "version": "1.6.3"
  }
 },
 "nbformat": 4,
 "nbformat_minor": 5
}
