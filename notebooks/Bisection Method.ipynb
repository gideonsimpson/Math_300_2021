{
 "cells": [
  {
   "cell_type": "markdown",
   "id": "3c08e857-33cf-4753-9113-c17fc6352f8f",
   "metadata": {},
   "source": [
    "# Bisection Method"
   ]
  },
  {
   "cell_type": "code",
   "execution_count": null,
   "id": "63b2d2ee-4a91-49e7-ae89-3eb0055c687e",
   "metadata": {},
   "outputs": [],
   "source": [
    "using Plots; pyplot()\n",
    "using LaTeXStrings\n",
    "using Printf"
   ]
  },
  {
   "cell_type": "code",
   "execution_count": null,
   "id": "815c83ff-47c1-4477-9f6f-6b894ec14695",
   "metadata": {},
   "outputs": [],
   "source": [
    "default(lw=2,markersize = 6,\n",
    "    xtickfont=font(12), ytickfont=font(12), \n",
    "    guidefont=font(14), legendfont=font(12),titlefont=font(12))"
   ]
  },
  {
   "cell_type": "code",
   "execution_count": null,
   "id": "898f2ec5-4dae-4b01-93e6-8f05fe654364",
   "metadata": {},
   "outputs": [],
   "source": [
    "function bisection(f, a, b, n_max, rel_tol; verbose = true)\n",
    "    \n",
    "    converged = false;\n",
    "    p_old = 0;\n",
    "    p = 0;\n",
    "    for i in 1:n_max\n",
    "\n",
    "        p = 0.5 * (a+b)\n",
    "        \n",
    "        if verbose\n",
    "            @printf(\" %d: a = %g, b = %g, p = %g, f(p) = %g\\n\", i, a, b, p, f(p));\n",
    "        end\n",
    "\n",
    "        if ( f(a) * f(p)<=0)\n",
    "            b = p;\n",
    "        else\n",
    "            a = p\n",
    "        end\n",
    "        \n",
    "        if (i>1)\n",
    "            if abs(p-p_old)/abs(p)< rel_tol\n",
    "                converged = true;\n",
    "                break\n",
    "            end\n",
    "        end\n",
    "\n",
    "        if(abs(f(p))==0)\n",
    "            converged = true;\n",
    "            break\n",
    "        end\n",
    "        p_old = p;\n",
    "\n",
    "    end\n",
    "    \n",
    "    if !converged\n",
    "        @printf(\"ERROR: Did not converge after %d iterations\\n\", n_max);\n",
    "    end\n",
    "\n",
    "    return p\n",
    "    \n",
    "end"
   ]
  },
  {
   "cell_type": "markdown",
   "id": "4ceb79bf-3b08-4684-9383-242d2234d22f",
   "metadata": {},
   "source": [
    "## Example 1\n",
    "Find a root of $x^3 + 4x^2 - 10$ in $[1,2]$."
   ]
  },
  {
   "cell_type": "code",
   "execution_count": null,
   "id": "2a6098b8-ff5d-4ed1-85ba-f133b5062157",
   "metadata": {},
   "outputs": [],
   "source": [
    "f = x-> x^3 + 4 * x^2 - 10;\n",
    "a = 1;\n",
    "b = 2;\n",
    "n_max = 100;\n",
    "rel_tol = 1e-6;\n",
    "\n",
    "bisection(f, a, b, n_max, rel_tol)"
   ]
  },
  {
   "cell_type": "code",
   "execution_count": null,
   "id": "3b230f5f-661a-49d9-9131-3c9ded137836",
   "metadata": {},
   "outputs": [],
   "source": [
    "n_max = 20;\n",
    "a_vals = zeros(n_max);\n",
    "b_vals = zeros(n_max);\n",
    "p_vals = zeros(n_max);\n",
    "a = 1;\n",
    "b = 2;\n",
    "p = 0;\n",
    "for i in 1:n_max\n",
    "    a_vals[i] = a;\n",
    "    b_vals[i] = b;\n",
    "    p = 0.5 *  (a+b);\n",
    "    p_vals[i] = p;\n",
    "    if ( f(a) * f(p)<=0)\n",
    "        b = p;\n",
    "    else\n",
    "        a = p\n",
    "    end    \n",
    "end\n",
    "\n",
    "anim = @animate for i=1:20\n",
    "    xx = LinRange(1,2,100);\n",
    "    ff = f.(xx);\n",
    "    plot(xx, ff, label=L\"$f$\")\n",
    "    plot!([a_vals[i],b_vals[i]], [0,0], label=\"\")\n",
    "    plot!([p_vals[i],p_vals[i]],[0,f(p_vals[i])],label=\"\")\n",
    "    xlims!(1,2)\n",
    "    ylims!(f(1), f(2))\n",
    "    \n",
    "    xlabel!(L\"$x$\");\n",
    "    ylabel!(L\"$y$\")\n",
    "    title!(latexstring(@sprintf(\"\\$n = %d\\$\", i)))\n",
    "end;\n"
   ]
  },
  {
   "cell_type": "code",
   "execution_count": null,
   "id": "84eed727-5327-4e67-a7ad-2b660f4bc2f7",
   "metadata": {},
   "outputs": [],
   "source": [
    "gif(anim,  fps = 3)"
   ]
  },
  {
   "cell_type": "markdown",
   "id": "b45a27c2-3b04-4117-aa78-a2eb20e63833",
   "metadata": {},
   "source": [
    "## Example 2"
   ]
  },
  {
   "cell_type": "code",
   "execution_count": null,
   "id": "4423b1a6-8b5e-40cc-82b6-3498d4575e44",
   "metadata": {},
   "outputs": [],
   "source": []
  }
 ],
 "metadata": {
  "kernelspec": {
   "display_name": "Julia 1.6.2",
   "language": "julia",
   "name": "julia-1.6"
  },
  "language_info": {
   "file_extension": ".jl",
   "mimetype": "application/julia",
   "name": "julia",
   "version": "1.6.2"
  }
 },
 "nbformat": 4,
 "nbformat_minor": 5
}
